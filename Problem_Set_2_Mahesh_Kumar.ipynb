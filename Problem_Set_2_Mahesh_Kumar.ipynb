{
  "nbformat": 4,
  "nbformat_minor": 0,
  "metadata": {
    "colab": {
      "name": "Problem_Set_2 Mahesh_Kumar.ipynb",
      "provenance": [],
      "collapsed_sections": []
    },
    "kernelspec": {
      "display_name": "Python 3",
      "language": "python",
      "name": "python3"
    },
    "language_info": {
      "codemirror_mode": {
        "name": "ipython",
        "version": 3
      },
      "file_extension": ".py",
      "mimetype": "text/x-python",
      "name": "python",
      "nbconvert_exporter": "python",
      "pygments_lexer": "ipython3",
      "version": "3.7.3"
    }
  },
  "cells": [
    {
      "cell_type": "markdown",
      "metadata": {
        "colab_type": "text",
        "id": "Mv6b_DaUMszR"
      },
      "source": [
        "# 1. Earnings Surprises and Stock Prices"
      ]
    },
    {
      "cell_type": "markdown",
      "metadata": {
        "colab_type": "text",
        "id": "N5_pByHFMszU"
      },
      "source": [
        "## Loading data\n",
        "\n",
        "In this exercise you will analyze the response of stock prices to earning surprises."
      ]
    },
    {
      "cell_type": "markdown",
      "metadata": {
        "colab_type": "text",
        "id": "bXouMIgfMszZ"
      },
      "source": [
        "First we load data on earnings and prices of stocks."
      ]
    },
    {
      "cell_type": "code",
      "metadata": {
        "colab_type": "code",
        "id": "NAjdq3Q5MszZ",
        "colab": {}
      },
      "source": [
        "import numpy as np\n",
        "import pandas as pd\n",
        "import matplotlib.pyplot as plt\n",
        "import numpy as np\n",
        "import pandas as pd\n",
        "import matplotlib.pyplot as plt\n",
        "import statsmodels.api as sm\n",
        "import statsmodels.formula.api as smf\n",
        "import statsmodels.stats.api as sms\n",
        "\n",
        "data = pd.read_excel('https://drive.google.com/uc?export=download&id=1jy0YxttGIgh7WXIETQWdOcWqoLlNpWSm')"
      ],
      "execution_count": 0,
      "outputs": []
    },
    {
      "cell_type": "markdown",
      "metadata": {
        "colab_type": "text",
        "id": "mXSymUP0kaU2"
      },
      "source": [
        "## Variable List\n",
        "\n",
        "- medact: median actual earnings\n",
        "\n",
        "- adj: adjustment factor\n",
        "\n",
        "- medest60: median earnings forecasts in the last 60 days\n",
        "\n",
        "- rawwin1: raw returns (0, +1)\n",
        "\n",
        "- rawwin375: raw returns (3, 75)\n",
        "\n",
        "- netwin1: net returns (0, +1)\n",
        "\n",
        "- netwin375: net returns (3, 75)\n",
        "\n",
        "- carwin1: adjusted returns (0, +1)\n",
        "\n",
        "- carwin375: adjusted returns (3, 75)\n",
        "\n",
        "- stdest60: stand deviation of earning forecast\n",
        "\n",
        "- comnam: company name\n",
        "\n",
        "- lagprice:  Lagged price of a share\n",
        "\n",
        "- lagshr: lagged number of shares outstanding\n"
      ]
    },
    {
      "cell_type": "markdown",
      "metadata": {
        "colab_type": "text",
        "id": "OAxNbueQUOJF"
      },
      "source": [
        "**1. Construct the earnings surprises.Calculate the mean and stand errors.**\n",
        "\n"
      ]
    },
    {
      "cell_type": "code",
      "metadata": {
        "id": "yOB_ZdVu4pmu",
        "colab_type": "code",
        "colab": {}
      },
      "source": [
        "#data.info()\n",
        "#data.isnull().sum()"
      ],
      "execution_count": 0,
      "outputs": []
    },
    {
      "cell_type": "code",
      "metadata": {
        "id": "3poUlgup3XbB",
        "colab_type": "code",
        "colab": {}
      },
      "source": [
        "data.interpolate(method='linear',inplace=True)"
      ],
      "execution_count": 0,
      "outputs": []
    },
    {
      "cell_type": "code",
      "metadata": {
        "id": "LZ7u5JWJqA5w",
        "colab_type": "code",
        "colab": {}
      },
      "source": [
        "#data.isnull().sum()"
      ],
      "execution_count": 0,
      "outputs": []
    },
    {
      "cell_type": "code",
      "metadata": {
        "colab_type": "code",
        "id": "KDvucytjkaU7",
        "outputId": "f2158f65-1f23-4be7-b3aa-c8bd415f6be8",
        "colab": {
          "base_uri": "https://localhost:8080/",
          "height": 51
        }
      },
      "source": [
        "data['surprise_earnings'] = (((data['adj'] * data['medact']) -(data['adj'] * data['medest60']))/(data['lagprice'])) \n",
        "print(data['surprise_earnings'].mean()) \n",
        "print(data['surprise_earnings'].std())"
      ],
      "execution_count": 0,
      "outputs": [
        {
          "output_type": "stream",
          "text": [
            "-0.03358526282056828\n",
            "6.8754010925866575\n"
          ],
          "name": "stdout"
        }
      ]
    },
    {
      "cell_type": "markdown",
      "metadata": {
        "colab_type": "text",
        "id": "W30ZJeGjkaU_"
      },
      "source": [
        "**What is the mean and stand errors?**\n",
        "\n",
        "Answer: The mean is -0.0336 and the standard error is 6.8754"
      ]
    },
    {
      "cell_type": "markdown",
      "metadata": {
        "colab_type": "text",
        "id": "JwaX7WijMszc"
      },
      "source": [
        "**2. Estimate an OLS model to relate raw returns r (variable “RAWWIN1”) to s as\n",
        "a measure of surprise**\n",
        "$$r^{(0,1)}_{tk}=\\alpha_{0}+\\phi_{}s_{tk}+\\epsilon_{tk}$$\n",
        "\n"
      ]
    },
    {
      "cell_type": "markdown",
      "metadata": {
        "colab_type": "text",
        "id": "ZBFPnoQl3SHr"
      },
      "source": [
        "\n",
        "**How do you interprete $\\phi_{}$?**\n",
        "\n",
        "Answer: $\\phi_{}$ is the regression coefficient. It measures the nominal change in the independent variable 'Y' (here, raw returns) when correlated with a unit change in the dependent variable 'X'(here, earnings surprise)\n",
        "\n",
        "This means, that the change in raw returns $r_{(0,1)}$; given unit change in surprise earnings equals 9.62e-06\n",
        "\n",
        "We also look at the p-value while interpreting regression results. A low p-value (< 0.05) indicates that we can reject the NULL hypothesis ($H_{0}$). However, the p-value obtained from this model is very high (0.842). An insignificant p-value suggests that the changes in the earnings surprise are not associated with the changes in the response of raw returns."
      ]
    },
    {
      "cell_type": "code",
      "metadata": {
        "colab_type": "code",
        "id": "Ic3GlhE6Mszd",
        "outputId": "805a3be7-e03b-4a5d-be5b-5c293860dbc1",
        "colab": {
          "base_uri": "https://localhost:8080/",
          "height": 442
        }
      },
      "source": [
        "formula = 'rawwin1 ~ surprise_earnings'\n",
        "results = smf.ols(formula, data).fit()\n",
        "print(results.summary())"
      ],
      "execution_count": 0,
      "outputs": [
        {
          "output_type": "stream",
          "text": [
            "                            OLS Regression Results                            \n",
            "==============================================================================\n",
            "Dep. Variable:                rawwin1   R-squared:                       0.000\n",
            "Model:                            OLS   Adj. R-squared:                 -0.000\n",
            "Method:                 Least Squares   F-statistic:                   0.03985\n",
            "Date:                Thu, 27 Feb 2020   Prob (F-statistic):              0.842\n",
            "Time:                        01:01:00   Log-Likelihood:                 70235.\n",
            "No. Observations:               68384   AIC:                        -1.405e+05\n",
            "Df Residuals:                   68382   BIC:                        -1.404e+05\n",
            "Df Model:                           1                                         \n",
            "Covariance Type:            nonrobust                                         \n",
            "=====================================================================================\n",
            "                        coef    std err          t      P>|t|      [0.025      0.975]\n",
            "-------------------------------------------------------------------------------------\n",
            "Intercept             0.0020      0.000      5.991      0.000       0.001       0.003\n",
            "surprise_earnings   9.62e-06   4.82e-05      0.200      0.842   -8.48e-05       0.000\n",
            "==============================================================================\n",
            "Omnibus:                    14076.334   Durbin-Watson:                   1.962\n",
            "Prob(Omnibus):                  0.000   Jarque-Bera (JB):           362165.026\n",
            "Skew:                           0.363   Prob(JB):                         0.00\n",
            "Kurtosis:                      14.251   Cond. No.                         6.88\n",
            "==============================================================================\n",
            "\n",
            "Warnings:\n",
            "[1] Standard Errors assume that the covariance matrix of the errors is correctly specified.\n"
          ],
          "name": "stdout"
        }
      ]
    },
    {
      "cell_type": "markdown",
      "metadata": {
        "colab_type": "text",
        "id": "YXcsFEdu5kM1"
      },
      "source": [
        "**Does the coefficient $\\phi$ change if restricting the sample\n",
        "to $s_{tk}$ in the range [−0.01, 0.01] and then in the range [−0.001, 0.001]?**\n",
        "\n",
        "Answer: Yes, the coefficient and Rsquare values both change upon restricting the data to a narrower band\n",
        "\n",
        "$\\phi_{(sample)}$ = 9.62e-06 \n",
        "--\n",
        "$r^2_{(sample)}$ = 0.000 \n",
        "\n",
        "---\n",
        "$\\phi_{(−0.01, 0.01)}$ = 5.0090 \n",
        "--\n",
        "$r^2_{(−0.01, 0.01)}$ = 0.031 \n",
        "\n",
        "---\n",
        "\n",
        "$\\phi_{(−0.001, 0.001)}$ = 20.6358 \n",
        "--\n",
        "$r^2_{(−0.001, 0.001)}$ = 0.015\n",
        "\n",
        "---\n",
        "Comparatively, we get higher values for '$\\phi$' by restricting the original sample range to (+- 0.01) & (+- 0.001). As shown above, the coefficient '$\\phi$' changes from 9.62e-06 to 5.009, and further to 20.636. This implies that the data has outliers which affect its central tendency and influences the coefficient '$\\phi$'. \n",
        "\n",
        "Further, both the new models ranged from (+- 0.01) & (+- 0.001) have statistically significant p-values. In other words, earnings surprise's values for these models are related to the changes in their raw returns.\n",
        "\n",
        "\n",
        "Among the three models, $r^2_{(−0.01, 0.01)}$ is the best at 0.031"
      ]
    },
    {
      "cell_type": "code",
      "metadata": {
        "colab_type": "code",
        "id": "9rnAWmWr5_Bh",
        "colab": {}
      },
      "source": [
        "#getting a certain column within a range of values  >= -.01 && <= .01\n",
        "data_range1 = data[data['surprise_earnings'] >= -.01]\n",
        "data_range1 = data_range1[data_range1['surprise_earnings'] <= .01] \n",
        "#data_range1['surprise_earnings'].describe()"
      ],
      "execution_count": 0,
      "outputs": []
    },
    {
      "cell_type": "code",
      "metadata": {
        "id": "QMlchbgH3Mwo",
        "colab_type": "code",
        "outputId": "652b4bb1-9470-4f06-a8cb-5cf74ad1f677",
        "colab": {
          "base_uri": "https://localhost:8080/",
          "height": 442
        }
      },
      "source": [
        "formula = 'rawwin1 ~ surprise_earnings'\n",
        "results = smf.ols(formula, data_range1).fit()\n",
        "print(results.summary())"
      ],
      "execution_count": 0,
      "outputs": [
        {
          "output_type": "stream",
          "text": [
            "                            OLS Regression Results                            \n",
            "==============================================================================\n",
            "Dep. Variable:                rawwin1   R-squared:                       0.031\n",
            "Model:                            OLS   Adj. R-squared:                  0.031\n",
            "Method:                 Least Squares   F-statistic:                     1950.\n",
            "Date:                Thu, 27 Feb 2020   Prob (F-statistic):               0.00\n",
            "Time:                        01:01:14   Log-Likelihood:                 68424.\n",
            "No. Observations:               60376   AIC:                        -1.368e+05\n",
            "Df Residuals:                   60374   BIC:                        -1.368e+05\n",
            "Df Model:                           1                                         \n",
            "Covariance Type:            nonrobust                                         \n",
            "=====================================================================================\n",
            "                        coef    std err          t      P>|t|      [0.025      0.975]\n",
            "-------------------------------------------------------------------------------------\n",
            "Intercept             0.0004      0.000      1.107      0.268      -0.000       0.001\n",
            "surprise_earnings     5.0090      0.113     44.161      0.000       4.787       5.231\n",
            "==============================================================================\n",
            "Omnibus:                    11285.768   Durbin-Watson:                   1.984\n",
            "Prob(Omnibus):                  0.000   Jarque-Bera (JB):           277661.480\n",
            "Skew:                           0.229   Prob(JB):                         0.00\n",
            "Kurtosis:                      13.496   Cond. No.                         358.\n",
            "==============================================================================\n",
            "\n",
            "Warnings:\n",
            "[1] Standard Errors assume that the covariance matrix of the errors is correctly specified.\n"
          ],
          "name": "stdout"
        }
      ]
    },
    {
      "cell_type": "code",
      "metadata": {
        "id": "tB6X8iTZ3dea",
        "colab_type": "code",
        "colab": {}
      },
      "source": [
        "#getting a certain column within a range of values  >= -.001 && <= .001\n",
        "data_range2 = data[data['surprise_earnings'] >= -.001]\n",
        "data_range2 = data_range2[data_range2['surprise_earnings'] <= .001] \n",
        "#data_range2['surprise_earnings'].describe()"
      ],
      "execution_count": 0,
      "outputs": []
    },
    {
      "cell_type": "code",
      "metadata": {
        "id": "KnkHoJbr3sp7",
        "colab_type": "code",
        "outputId": "a62d15fb-6b8a-4f80-9211-1a37a675323c",
        "colab": {
          "base_uri": "https://localhost:8080/",
          "height": 476
        }
      },
      "source": [
        "formula = 'rawwin1 ~ surprise_earnings'\n",
        "results = smf.ols(formula, data_range2).fit()\n",
        "print(results.summary())"
      ],
      "execution_count": 0,
      "outputs": [
        {
          "output_type": "stream",
          "text": [
            "                            OLS Regression Results                            \n",
            "==============================================================================\n",
            "Dep. Variable:                rawwin1   R-squared:                       0.015\n",
            "Model:                            OLS   Adj. R-squared:                  0.015\n",
            "Method:                 Least Squares   F-statistic:                     458.0\n",
            "Date:                Thu, 27 Feb 2020   Prob (F-statistic):          7.05e-101\n",
            "Time:                        01:01:54   Log-Likelihood:                 36996.\n",
            "No. Observations:               30944   AIC:                        -7.399e+04\n",
            "Df Residuals:                   30942   BIC:                        -7.397e+04\n",
            "Df Model:                           1                                         \n",
            "Covariance Type:            nonrobust                                         \n",
            "=====================================================================================\n",
            "                        coef    std err          t      P>|t|      [0.025      0.975]\n",
            "-------------------------------------------------------------------------------------\n",
            "Intercept            -0.0042      0.000     -9.450      0.000      -0.005      -0.003\n",
            "surprise_earnings    20.6358      0.964     21.401      0.000      18.746      22.526\n",
            "==============================================================================\n",
            "Omnibus:                     4900.092   Durbin-Watson:                   1.974\n",
            "Prob(Omnibus):                  0.000   Jarque-Bera (JB):            80760.912\n",
            "Skew:                          -0.212   Prob(JB):                         0.00\n",
            "Kurtosis:                      10.903   Cond. No.                     2.32e+03\n",
            "==============================================================================\n",
            "\n",
            "Warnings:\n",
            "[1] Standard Errors assume that the covariance matrix of the errors is correctly specified.\n",
            "[2] The condition number is large, 2.32e+03. This might indicate that there are\n",
            "strong multicollinearity or other numerical problems.\n"
          ],
          "name": "stdout"
        }
      ]
    },
    {
      "cell_type": "markdown",
      "metadata": {
        "colab_type": "text",
        "id": "fWREb_FFMszn"
      },
      "source": [
        "**For questions 3-7 you only need to consider cases when $s_{tk}$ is in the range [−0.01, 0.01]**\n",
        "\n"
      ]
    },
    {
      "cell_type": "markdown",
      "metadata": {
        "colab_type": "text",
        "id": "gkEQMxKMkaVT"
      },
      "source": [
        "**3. do a kernel regression of stock returns $r^{(0,1)}_{tk}$ on the earnings\n",
        "surprise $s_{tk}$.**"
      ]
    },
    {
      "cell_type": "code",
      "metadata": {
        "colab_type": "code",
        "id": "gEPmUFg_XYMH",
        "colab": {}
      },
      "source": [
        "from sklearn.model_selection import train_test_split\n",
        "#range of values  >= -.01 && <= .01\n",
        "data_x = data_range1['surprise_earnings']\n",
        "data_y = data_range1['rawwin1']\n",
        "kernel = sm.nonparametric.KernelReg(data_y, data_x, var_type='c')\n",
        "print(kernel)"
      ],
      "execution_count": 0,
      "outputs": []
    },
    {
      "cell_type": "code",
      "metadata": {
        "id": "7SK69yARwMAm",
        "colab_type": "code",
        "colab": {}
      },
      "source": [
        "def kde_sklearn(x, x_grid, bandwidth=0.2, **kwargs):\n",
        "    \"\"\"Kernel Density Estimation with Scikit-learn\"\"\"\n",
        "    kde_skl = KernelDensity(bandwidth=bandwidth, **kwargs)\n",
        "    kde_skl.fit(x[:, np.newaxis])\n",
        "    # score_samples() returns the log-likelihood of the samples\n",
        "    log_pdf = kde_skl.score_samples(x_grid[:, np.newaxis])\n",
        "    return np.exp(log_pdf)"
      ],
      "execution_count": 0,
      "outputs": []
    },
    {
      "cell_type": "code",
      "metadata": {
        "id": "DJ2jWUrKwjQQ",
        "colab_type": "code",
        "outputId": "e2e5765f-7472-4c90-d8cc-ec5d6b4c81b1",
        "colab": {
          "base_uri": "https://localhost:8080/",
          "height": 333
        }
      },
      "source": [
        "x_grid = np.linspace(-0.1, 3.5, 1000)\n",
        "pred_kernel = kernel.fit(data_x)[0]\n",
        "x=pred_kernel\n",
        "fig, ax = plt.subplots()\n",
        "for bandwidth in [0.01, 0.07]:\n",
        "    ax.plot(x_grid, kde_sklearn(x, x_grid, bandwidth=bandwidth),\n",
        "            label='bw={0}'.format(bandwidth), linewidth=3, alpha=0.5)\n",
        "ax.hist(x, 30, fc='gray', histtype='stepfilled', alpha=0.3, normed=True)\n",
        "ax.set_xlim(-0.1, 0.1)\n",
        "ax.legend(loc='upper left')"
      ],
      "execution_count": 0,
      "outputs": [
        {
          "output_type": "stream",
          "text": [
            "/usr/local/lib/python3.6/dist-packages/ipykernel_launcher.py:8: MatplotlibDeprecationWarning: \n",
            "The 'normed' kwarg was deprecated in Matplotlib 2.1 and will be removed in 3.1. Use 'density' instead.\n",
            "  \n"
          ],
          "name": "stderr"
        },
        {
          "output_type": "execute_result",
          "data": {
            "text/plain": [
              "<matplotlib.legend.Legend at 0x7fcf902ee080>"
            ]
          },
          "metadata": {
            "tags": []
          },
          "execution_count": 62
        },
        {
          "output_type": "display_data",
          "data": {
            "image/png": "[encoded data removed]",
            "text/plain": [
              "<Figure size 432x288 with 1 Axes>"
            ]
          },
          "metadata": {
            "tags": []
          }
        }
      ]
    },
    {
      "cell_type": "markdown",
      "metadata": {
        "colab_type": "text",
        "id": "f6gZwHobZmw0"
      },
      "source": [
        "**Is the\n",
        "relationship between the stock returns and the earnings surprise linear? Provide at least one\n",
        "interpretation for the observed non-linearity.**\n",
        "\n",
        "Answer: The relationship is non-linear. \n",
        "\n",
        "The earning surprise is the difference between the earning announcement and the forecast, divided by the lagged price of a share. While the raw returns measure the percentage change in stock returns a day after the announcements have been made.\n",
        "\n",
        "*Interpretation:*\n",
        "Bad news i.e. negatively incorrect forecasts, pushes people to abandon ship quicker than good news supports buying decisions. Also, the market may not always necessarily agree with the analysts view since it involves multiple players. Thus, behavioral/sentiment analysis is crucial for any activity involving purchase decisions.\n",
        "\n",
        "Furthermore, the model assumes that there is information symmetry in the market. Which is not always the case. Additionally, a period of one day may not be enough to measure the earning surprise since traders might be reacting differently to leading/lagging indicators instead of responding as per analyst reports"
      ]
    },
    {
      "cell_type": "markdown",
      "metadata": {
        "colab_type": "text",
        "id": "a_MCksJzkaVe"
      },
      "source": [
        "**4. Split the sample into a training set and a test set.Estimate\n",
        "a polynomial function with degree>3 using the training set and predict the return $r^{(0,1)}$ for\n",
        "the test set**"
      ]
    },
    {
      "cell_type": "code",
      "metadata": {
        "id": "i76vww7Ec94l",
        "colab_type": "code",
        "colab": {}
      },
      "source": [
        "train=data_range1.loc[(data_range1['comnam'].str.startswith(('A','B','C','D','E','F')))]\n",
        "test=data_range1.loc[(data_range1['comnam'].str.startswith(('G','H','I','J','K','L')))]"
      ],
      "execution_count": 0,
      "outputs": []
    },
    {
      "cell_type": "code",
      "metadata": {
        "colab_type": "code",
        "id": "A2gVAyWiMszs",
        "outputId": "c2832802-d11b-4b3c-a709-98e68e21716f",
        "colab": {
          "base_uri": "https://localhost:8080/",
          "height": 282
        }
      },
      "source": [
        "from math import sqrt\n",
        "from sklearn.metrics import mean_squared_error\n",
        "train_x = train['surprise_earnings']\n",
        "train_y = train['rawwin1']\n",
        "test_x = test['surprise_earnings']\n",
        "test_y = test['rawwin1']\n",
        "\n",
        "weights = np.polyfit(train_x, train_y, 5)\n",
        "model = np.poly1d(weights)\n",
        "\n",
        "# Prediction on validation set\n",
        "pred1 = model(test_x)\n",
        "# We will plot the graph for 70 observations only\n",
        "xp = np.linspace(test_x.min(),test_x.max(),70)\n",
        "pred_plot = model(xp)\n",
        "plt.scatter(test_x, test_y, facecolor='None', edgecolor='k', alpha=0.3)\n",
        "plt.plot(xp, pred_plot)\n",
        "plt.show()\n",
        "\n",
        "rms = sqrt(mean_squared_error(test_y, pred1))\n",
        "print(rms)"
      ],
      "execution_count": 0,
      "outputs": [
        {
          "output_type": "display_data",
          "data": {
            "image/png": "[encoded data removed]",
            "text/plain": [
              "<Figure size 432x288 with 1 Axes>"
            ]
          },
          "metadata": {
            "tags": []
          }
        },
        {
          "output_type": "stream",
          "text": [
            "0.07679764490416882\n"
          ],
          "name": "stdout"
        }
      ]
    },
    {
      "cell_type": "markdown",
      "metadata": {
        "colab_type": "text",
        "id": "_Jk25Qg6kaVi"
      },
      "source": [
        "**What is the RMSE?**\n",
        "\n",
        "Answer: 0.07679764490416882"
      ]
    },
    {
      "cell_type": "markdown",
      "metadata": {
        "colab_type": "text",
        "id": "na37Y_idkaVj"
      },
      "source": [
        "**5. Estimate a regression spline or MARS model for the training set and use the model to predict the return $r^{(0,1)}$ for the test set.**\n",
        "\n"
      ]
    },
    {
      "cell_type": "code",
      "metadata": {
        "id": "ZmErWBDFTN1Q",
        "colab_type": "code",
        "colab": {}
      },
      "source": [
        "!pip install sklearn-contrib-py-earth\n",
        "from pyearth import Earth"
      ],
      "execution_count": 0,
      "outputs": []
    },
    {
      "cell_type": "code",
      "metadata": {
        "colab_type": "code",
        "id": "3R1vECWARnec",
        "outputId": "477decc4-f07f-43eb-8996-9922027e5f3f",
        "colab": {
          "base_uri": "https://localhost:8080/",
          "height": 190
        }
      },
      "source": [
        "model = Earth()\n",
        "model.fit(train_x, train_y)\n",
        "pred5 =model.predict(test_x)\n",
        "print(pred5)\n",
        "# Calculating RMSE values\n",
        "rms5 = sqrt(mean_squared_error(test_y, pred5))\n",
        "print(rms5)"
      ],
      "execution_count": 0,
      "outputs": [
        {
          "output_type": "stream",
          "text": [
            "/usr/local/lib/python3.6/dist-packages/pyearth/earth.py:802: FutureWarning: `rcond` parameter will change to the default of machine precision times ``max(M, N)`` where M and N are the input matrix dimensions.\n",
            "To use the future default and silence this warning we advise to pass `rcond=None`, to keep using the old, explicitly pass `rcond=-1`.\n",
            "  pruning_passer.run()\n"
          ],
          "name": "stderr"
        },
        {
          "output_type": "stream",
          "text": [
            "[ 0.00689052 -0.01486417 -0.00466917 ...  0.02574246  0.02268024\n",
            " -0.02118626]\n",
            "0.07668152124607185\n"
          ],
          "name": "stdout"
        },
        {
          "output_type": "stream",
          "text": [
            "/usr/local/lib/python3.6/dist-packages/pyearth/earth.py:1055: FutureWarning: `rcond` parameter will change to the default of machine precision times ``max(M, N)`` where M and N are the input matrix dimensions.\n",
            "To use the future default and silence this warning we advise to pass `rcond=None`, to keep using the old, explicitly pass `rcond=-1`.\n",
            "  coef, resid = np.linalg.lstsq(B, weighted_y[:, i])[0:2]\n"
          ],
          "name": "stderr"
        }
      ]
    },
    {
      "cell_type": "markdown",
      "metadata": {
        "colab_type": "text",
        "id": "wFaYpySY98C5"
      },
      "source": [
        "**What is the RMSE?**\n",
        "\n",
        "Answer: 0.07668152124607185"
      ]
    },
    {
      "cell_type": "markdown",
      "metadata": {
        "colab_type": "text",
        "id": "4HYYE-47-FgW"
      },
      "source": [
        "**6. Estimate kernel regression for the training set, and use the model to predict the\n",
        "return $r^{(0,1)}$ for the test set.**\n",
        "\n"
      ]
    },
    {
      "cell_type": "code",
      "metadata": {
        "colab_type": "code",
        "id": "VjRtzJr1_PDs",
        "outputId": "f978a27c-a0b1-4bbc-c851-99750f2c1c13",
        "colab": {
          "base_uri": "https://localhost:8080/",
          "height": 34
        }
      },
      "source": [
        "#from sklearn.model_selection import train_test_split\n",
        "kernTrain = sm.nonparametric.KernelReg(train_y, train_x, var_type='c')\n",
        "kernPred = kernTrain.fit(test_x)[0]\n",
        "rmsKernPred = sqrt(mean_squared_error(test_y, kernPred))\n",
        "print(rmsKernPred)"
      ],
      "execution_count": 0,
      "outputs": [
        {
          "output_type": "stream",
          "text": [
            "0.07667928755278064\n"
          ],
          "name": "stdout"
        }
      ]
    },
    {
      "cell_type": "code",
      "metadata": {
        "id": "mClfMsVDQ3Fu",
        "colab_type": "code",
        "outputId": "21ecec01-9186-4a1e-b17a-74a8dec5506a",
        "colab": {
          "base_uri": "https://localhost:8080/",
          "height": 170
        }
      },
      "source": [
        "print (kernTrain)\n",
        "#BW Selection method = cross validation least square\n",
        "print(kernPred)"
      ],
      "execution_count": 0,
      "outputs": [
        {
          "output_type": "stream",
          "text": [
            "KernelReg instance\n",
            "Number of variables: k_vars = 1\n",
            "Number of samples:   N = 41582\n",
            "Variable types:      c\n",
            "BW selection method: cv_ls\n",
            "Estimator type: ll\n",
            "\n",
            "[ 0.00861205 -0.01281639 -0.0054125  ...  0.02922167  0.02336364\n",
            " -0.01817839]\n"
          ],
          "name": "stdout"
        }
      ]
    },
    {
      "cell_type": "markdown",
      "metadata": {
        "colab_type": "text",
        "id": "w2CFOm_W-6ZU"
      },
      "source": [
        "**What is the RMSE?**\n",
        "\n",
        "Answer: 0.07667928755278064"
      ]
    },
    {
      "cell_type": "markdown",
      "metadata": {
        "colab_type": "text",
        "id": "6hsN9pbY-8mS"
      },
      "source": [
        "**7. Which model from part 4 to part 6 has the best prediction in the test sample? Use\n",
        "that model and the whole sample to predict raw returns $r^{(3,75)}$ (variable “RAWWIN375”) as\n",
        "a function of earnings surprise and plot the relationship.**\n",
        "\n"
      ]
    },
    {
      "cell_type": "markdown",
      "metadata": {
        "id": "N5vKADzRgGzi",
        "colab_type": "text"
      },
      "source": [
        "Kern: 0.07667928755278064\n",
        "\n",
        "Spline: 0.07668152124607185\n",
        "\n",
        "Polynomial: 0.07679764490416882\n",
        "\n",
        "Thus, the kernel model has the best prediction since RMSE is the lowest.\n"
      ]
    },
    {
      "cell_type": "code",
      "metadata": {
        "colab_type": "code",
        "id": "HfnjBE_s_rzX",
        "outputId": "1532e7d0-0a5f-467f-e390-6351be775bec",
        "colab": {
          "base_uri": "https://localhost:8080/",
          "height": 384
        }
      },
      "source": [
        "kernPred_12 = kernTrain.fit(data['surprise_earnings'])[0]\n",
        "\n",
        "plt.xlim(-50,50)\n",
        "plt.plot(data['surprise_earnings'],data['rawwin375'],'r.')\n",
        "plt.plot(data['surprise_earnings'],kernPred_12,'y.',alpha=0.1)"
      ],
      "execution_count": 0,
      "outputs": [
        {
          "output_type": "stream",
          "text": [
            "/usr/local/lib/python3.6/dist-packages/numpy/linalg/linalg.py:1975: RuntimeWarning: overflow encountered in true_divide\n",
            "  s = divide(1, s, where=large, out=s)\n",
            "/usr/local/lib/python3.6/dist-packages/numpy/linalg/linalg.py:1978: RuntimeWarning: invalid value encountered in matmul\n",
            "  res = matmul(transpose(vt), multiply(s[..., newaxis], transpose(u)))\n",
            "/usr/local/lib/python3.6/dist-packages/numpy/linalg/linalg.py:1978: RuntimeWarning: invalid value encountered in multiply\n",
            "  res = matmul(transpose(vt), multiply(s[..., newaxis], transpose(u)))\n"
          ],
          "name": "stderr"
        },
        {
          "output_type": "execute_result",
          "data": {
            "text/plain": [
              "[<matplotlib.lines.Line2D at 0x7f0ff50836d8>]"
            ]
          },
          "metadata": {
            "tags": []
          },
          "execution_count": 40
        },
        {
          "output_type": "display_data",
          "data": {
            "image/png": "[encoded data removed]",
            "text/plain": [
              "<Figure size 432x288 with 1 Axes>"
            ]
          },
          "metadata": {
            "tags": []
          }
        }
      ]
    },
    {
      "cell_type": "markdown",
      "metadata": {
        "colab_type": "text",
        "id": "4Hlsza1j_jKd"
      },
      "source": [
        "**What does the theory of efficient\n",
        "financial markets predict the relationship to be? What do you find?**\n",
        "\n",
        "Answer: The predicted model & its plot seem to agree; it has no clear visual relationship.The theory of efficient markets suggests that all the information available will be absorbed in the market and that the market reacts accordingly.\n",
        "As per the theory, the data provided by the analysts should reflect the raw returns. Also, the deviation between actual and expected should create a common effect of buying/selling. \n",
        "\n",
        "However,  The model appears poor. Since the model was supposed to predict rawwin1 and not rawwin375 maybe that's why it can't predict rawwin375 very well. "
      ]
    },
    {
      "cell_type": "markdown",
      "metadata": {
        "colab_type": "text",
        "id": "938pxIGB_8om"
      },
      "source": [
        "**8. Plot the kernel density of this variable for\n",
        "values between -0.1 and 0.1 using bandwidth of 0.0025.**\n",
        "\n"
      ]
    },
    {
      "cell_type": "code",
      "metadata": {
        "colab_type": "code",
        "id": "aAjL9VJLAOOB",
        "outputId": "c964d1c1-02e8-4500-93eb-5578440d4db5",
        "colab": {
          "base_uri": "https://localhost:8080/",
          "height": 282
        }
      },
      "source": [
        "data_range3 = data[data['surprise_earnings'] >= -.1]\n",
        "data_range3 = data_range3[data_range3['surprise_earnings'] <= .1] \n",
        "from sklearn.neighbors import KernelDensity\n",
        "KDE = KernelDensity(bandwidth=.0025, kernel = 'gaussian')\n",
        "data_range3['surprise_earnings'].plot.kde(bw_method = .0025)\n",
        "plt.xlim(xmin=-.1)\n",
        "plt.xlim(xmax=.1)"
      ],
      "execution_count": 0,
      "outputs": [
        {
          "output_type": "execute_result",
          "data": {
            "text/plain": [
              "(-0.1, 0.1)"
            ]
          },
          "metadata": {
            "tags": []
          },
          "execution_count": 46
        },
        {
          "output_type": "display_data",
          "data": {
            "image/png": "[encoded data removed]",
            "text/plain": [
              "<Figure size 432x288 with 1 Axes>"
            ]
          },
          "metadata": {
            "tags": []
          }
        }
      ]
    },
    {
      "cell_type": "markdown",
      "metadata": {
        "colab_type": "text",
        "id": "yY_m4QRoAQmk"
      },
      "source": [
        "**Is there a discontinous jump in the\n",
        "density at zero? Interpret your result relating to manipulation of earnings.**\n",
        "\n",
        "Answer: No, there isn't a discontinuous jump in the density of the surprise earnings. Instead, it is continuous. \n",
        "\n",
        "The earning surprise is the difference between the earning announcement and the forecast, divided by the lagged price of a share. Thus a near zero mean suggests that the actual earnings and forecasted are pretty close.\n",
        "\n",
        "Manipulation in earnings occurs when companies rigs their numbers to make their earnings look inflated to attract shareholders. However, this gets cross checked by several analyst using cashflow analysis (DCF) and market multiple approach. Thus, the probability of manipulation in the data is scarce."
      ]
    },
    {
      "cell_type": "markdown",
      "metadata": {
        "colab_type": "text",
        "id": "6oBYNHO2kaVs"
      },
      "source": [
        "# 2. Survival of Cryptocurrencies"
      ]
    },
    {
      "cell_type": "markdown",
      "metadata": {
        "colab_type": "text",
        "id": "z4l12GqJkaVw"
      },
      "source": [
        "In this exercise, we will analyze the survival rate of over 2,000 cryptocurrencies\n",
        "that are or were previously traded on cryptocurrency exchanges"
      ]
    },
    {
      "cell_type": "markdown",
      "metadata": {
        "colab_type": "text",
        "id": "6YWE69T9kaV0"
      },
      "source": [
        "## Loading data\n",
        "\n"
      ]
    },
    {
      "cell_type": "code",
      "metadata": {
        "colab_type": "code",
        "id": "wcKJNIONkaV3",
        "colab": {}
      },
      "source": [
        "data2 = pd.read_excel('https://drive.google.com/uc?export=download&id=1kqUYjmTNPEvJeURLXhmPTDyWd7OclFnT')\n",
        "data2.interpolate(method=\"linear\",inplace=True)\n",
        "data2.info()"
      ],
      "execution_count": 0,
      "outputs": []
    },
    {
      "cell_type": "markdown",
      "metadata": {
        "colab_type": "text",
        "id": "7TpYQH6WkaV6"
      },
      "source": [
        "## Variable List\n",
        "\n",
        "- symbol: Symbol\n",
        "\n",
        "- name: Name\n",
        "\n",
        "- price0:  price of the first week it started trading\n",
        "\n",
        "- volume0: average daily trading volume of the first week\n",
        "\n",
        "- firstweek: first week it started trading on exchange\n",
        "\n",
        "- lastweek: last week it is traded on the exchanges\n",
        "\n",
        "\n"
      ]
    },
    {
      "cell_type": "markdown",
      "metadata": {
        "colab_type": "text",
        "id": "T1eRwue3kaV7"
      },
      "source": [
        "**1. Prepare the data for survival analysis by creating a dummy variable for exit (which\n",
        "equals one if the cryptocurrency has been delisted from the exchange by the last week of the\n",
        "sample) and a time variable**"
      ]
    },
    {
      "cell_type": "code",
      "metadata": {
        "colab_type": "code",
        "id": "loJnOz4EkaV9",
        "colab": {}
      },
      "source": [
        "data2['diff']=data2['lastweek']-data2['firstweek']\n",
        "idx = data2.loc[data2['lastweek']==354].index\n",
        "data2['exit']=1\n",
        "data2.loc[idx, 'exit'] = 0\n",
        "data2.tail()"
      ],
      "execution_count": 0,
      "outputs": []
    },
    {
      "cell_type": "markdown",
      "metadata": {
        "colab_type": "text",
        "id": "TG9praUOkaWD"
      },
      "source": [
        "**2. Plot the survival curve for cryptocurrencies using the Kaplan-Meier method**"
      ]
    },
    {
      "cell_type": "code",
      "metadata": {
        "id": "fQqwr49EbAT9",
        "colab_type": "code",
        "colab": {}
      },
      "source": [
        "!pip install lifelines\n",
        "from lifelines import CoxPHFitter\n",
        "from lifelines.utils import k_fold_cross_validation\n",
        "from lifelines import KaplanMeierFitter"
      ],
      "execution_count": 0,
      "outputs": []
    },
    {
      "cell_type": "code",
      "metadata": {
        "colab_type": "code",
        "id": "1TDISBrRkaWE",
        "colab": {}
      },
      "source": [
        "kmf = KaplanMeierFitter() \n",
        "\n",
        "kmf.fit(durations = data2['diff'], event_observed = data2['exit'])"
      ],
      "execution_count": 0,
      "outputs": []
    },
    {
      "cell_type": "code",
      "metadata": {
        "id": "hlSjKh1GbIgw",
        "colab_type": "code",
        "colab": {
          "base_uri": "https://localhost:8080/",
          "height": 325
        },
        "outputId": "4554cd2a-f4d9-4bd8-d837-2bf07c03bf8d"
      },
      "source": [
        "plt.figure()\n",
        "kmf.plot()\n",
        "plt.title(\"Exiting survival curve\")\n",
        "plt.ylabel(\"Probability of cryptocurrency being active\")\n",
        "plt.xlabel('Number of weeks')\n",
        "plt.show()\n",
        "kmf.survival_function_at_times(52)"
      ],
      "execution_count": 85,
      "outputs": [
        {
          "output_type": "display_data",
          "data": {
            "image/png": "[encoded data removed]",
            "text/plain": [
              "<Figure size 432x288 with 1 Axes>"
            ]
          },
          "metadata": {
            "tags": []
          }
        },
        {
          "output_type": "execute_result",
          "data": {
            "text/plain": [
              "52    0.781689\n",
              "Name: KM_estimate, dtype: float64"
            ]
          },
          "metadata": {
            "tags": []
          },
          "execution_count": 85
        }
      ]
    },
    {
      "cell_type": "markdown",
      "metadata": {
        "colab_type": "text",
        "id": "52mEPB7BiMnD"
      },
      "source": [
        "**On\n",
        "average what fraction of cryptocurrencies survive over a year (52 weeks)?**\n",
        "\n",
        "Answer: 0.781689"
      ]
    },
    {
      "cell_type": "markdown",
      "metadata": {
        "colab_type": "text",
        "id": "q1Xf13UXkaWP"
      },
      "source": [
        "**3. Compare the survival curves for cryptocurrencies that are originated on or before\n",
        "January 1, 2017 (week 192) vs cryptocurrencies that are originated after the date.**"
      ]
    },
    {
      "cell_type": "code",
      "metadata": {
        "colab_type": "code",
        "id": "aIjoFGZvkaWP",
        "outputId": "fc47a0a2-858e-42d8-bfd1-c0fa65bdbe49",
        "colab": {
          "base_uri": "https://localhost:8080/",
          "height": 308
        }
      },
      "source": [
        "T = data2['diff']\n",
        "E = data2['exit']\n",
        "\n",
        "plt.figure()\n",
        "ax = plt.subplot(111)\n",
        "\n",
        "a = (data2['firstweek'] <= 192)\n",
        "kmf.fit(T[a], event_observed=E[a], label=\"On/Before 2017\")\n",
        "kmf.plot(ax=ax, ci_force_lines=False, ci_show=False)\n",
        "\n",
        "b = (data2['firstweek'] >= 192)\n",
        "kmf.fit(T[b], event_observed=E[b], label=\"After 2017\")\n",
        "kmf.plot(ax=ax, ci_force_lines=False, ci_show=False)\n",
        "\n",
        "plt.grid(b=True, which='major', color='#666666', linestyle='-')\n",
        "plt.title(\"Exiting survival curve\")\n",
        "plt.ylabel(\"Probability of cryptocurrency being active\")\n",
        "plt.xlabel('Number of weeks')"
      ],
      "execution_count": 86,
      "outputs": [
        {
          "output_type": "execute_result",
          "data": {
            "text/plain": [
              "Text(0.5, 0, 'Number of weeks')"
            ]
          },
          "metadata": {
            "tags": []
          },
          "execution_count": 86
        },
        {
          "output_type": "display_data",
          "data": {
            "image/png": "[encoded data removed]",
            "text/plain": [
              "<Figure size 432x288 with 1 Axes>"
            ]
          },
          "metadata": {
            "tags": []
          }
        }
      ]
    },
    {
      "cell_type": "markdown",
      "metadata": {
        "colab_type": "text",
        "id": "e8kvhn9Gijm9"
      },
      "source": [
        "**Is it riskier\n",
        "to buy new cryptocurrencies before or after 2017?**\n",
        "\n",
        "Answer: On/Before 2017 is riskier than after. This is due to the fact that the probability of cryptocurrency being active is lesser as shown in the graph"
      ]
    },
    {
      "cell_type": "markdown",
      "metadata": {
        "colab_type": "text",
        "id": "J0wuM3ojkaWT"
      },
      "source": [
        "**4. Compare the survival curves for cryptocurrencies with a starting price of below 5\n",
        "cents ($0.05) and above 5 cents**"
      ]
    },
    {
      "cell_type": "code",
      "metadata": {
        "colab_type": "code",
        "id": "7A0Fzp-1kaWV",
        "outputId": "df510585-923c-40b1-bb29-bf4d0da5e2d4",
        "colab": {
          "base_uri": "https://localhost:8080/",
          "height": 308
        }
      },
      "source": [
        "T = data2['diff']\n",
        "E = data2['exit']\n",
        "\n",
        "plt.figure()\n",
        "ax = plt.subplot(111)\n",
        "\n",
        "a = (data2['price0'] <= 0.05)\n",
        "kmf.fit(T[a], event_observed=E[a], label=\"Less than 5 cents\")\n",
        "kmf.plot(ax=ax, ci_force_lines=False, ci_show=False)\n",
        "\n",
        "b = (data2['price0'] > 0.05)\n",
        "kmf.fit(T[b], event_observed=E[b], label=\"More than 5 cents\")\n",
        "kmf.plot(ax=ax, ci_force_lines=False, ci_show=False)\n",
        "\n",
        "plt.title(\"Exiting survival curve based on prices\")\n",
        "plt.ylabel(\"Probability of cryptocurrency being active\")\n",
        "plt.xlabel('Number of weeks')"
      ],
      "execution_count": 87,
      "outputs": [
        {
          "output_type": "execute_result",
          "data": {
            "text/plain": [
              "Text(0.5, 0, 'Number of weeks')"
            ]
          },
          "metadata": {
            "tags": []
          },
          "execution_count": 87
        },
        {
          "output_type": "display_data",
          "data": {
            "image/png": "[encoded data removed]",
            "text/plain": [
              "<Figure size 432x288 with 1 Axes>"
            ]
          },
          "metadata": {
            "tags": []
          }
        }
      ]
    },
    {
      "cell_type": "markdown",
      "metadata": {
        "colab_type": "text",
        "id": "7IIWjfKYi20v"
      },
      "source": [
        "**Is it riskier to buy new cryptocurrencies with a starting price\n",
        "of below 5 cents or above 5 cents?**\n",
        "\n",
        "Answer: Lesser than 5 cents is riskier as its probability of staying active is smaller. "
      ]
    },
    {
      "cell_type": "markdown",
      "metadata": {
        "colab_type": "text",
        "id": "1bd8h59NkaWa"
      },
      "source": [
        "**5. Merge the data with “bitcoin_price.xlsx” to get the price and supply of Bitcoins\n",
        "in the first week each cryptocurrency was initiated. (you should merge “FIRSTWEEK” from\n",
        "ctypto.xlsx to “WEEK” from bitcoin_price.xlsx)**"
      ]
    },
    {
      "cell_type": "code",
      "metadata": {
        "colab_type": "code",
        "id": "Jaheg3SzkaWc",
        "outputId": "cdaf3bc6-31fa-47de-9689-9fd0d27a1663",
        "colab": {
          "base_uri": "https://localhost:8080/",
          "height": 204
        }
      },
      "source": [
        "bitcoin_p = pd.read_excel('https://drive.google.com/uc?export=download&id=17chEaveWV3Li947WeRJPfhiBInADr_9x')\n",
        "new_df = pd.merge(data2, bitcoin_p,  how='left', left_on='firstweek',right_on='week')\n",
        "new_df['after2017']=0\n",
        "new_df.head()"
      ],
      "execution_count": 0,
      "outputs": [
        {
          "output_type": "execute_result",
          "data": {
            "text/html": [
              "<div>\n",
              "<style scoped>\n",
              "    .dataframe tbody tr th:only-of-type {\n",
              "        vertical-align: middle;\n",
              "    }\n",
              "\n",
              "    .dataframe tbody tr th {\n",
              "        vertical-align: top;\n",
              "    }\n",
              "\n",
              "    .dataframe thead th {\n",
              "        text-align: right;\n",
              "    }\n",
              "</style>\n",
              "<table border=\"1\" class=\"dataframe\">\n",
              "  <thead>\n",
              "    <tr style=\"text-align: right;\">\n",
              "      <th></th>\n",
              "      <th>symbol_x</th>\n",
              "      <th>name_x</th>\n",
              "      <th>price0</th>\n",
              "      <th>volume0</th>\n",
              "      <th>firstweek</th>\n",
              "      <th>lastweek</th>\n",
              "      <th>diff</th>\n",
              "      <th>exit</th>\n",
              "      <th>name_y</th>\n",
              "      <th>symbol_y</th>\n",
              "      <th>cap</th>\n",
              "      <th>price</th>\n",
              "      <th>supply</th>\n",
              "      <th>week</th>\n",
              "      <th>after2017</th>\n",
              "    </tr>\n",
              "  </thead>\n",
              "  <tbody>\n",
              "    <tr>\n",
              "      <th>0</th>\n",
              "      <td>$$$</td>\n",
              "      <td>Money</td>\n",
              "      <td>3.500000e-05</td>\n",
              "      <td>132.0</td>\n",
              "      <td>134</td>\n",
              "      <td>293</td>\n",
              "      <td>159</td>\n",
              "      <td>1</td>\n",
              "      <td>Bitcoin</td>\n",
              "      <td>BTC</td>\n",
              "      <td>4752000000</td>\n",
              "      <td>320.17</td>\n",
              "      <td>14843750</td>\n",
              "      <td>134</td>\n",
              "      <td>0</td>\n",
              "    </tr>\n",
              "    <tr>\n",
              "      <th>1</th>\n",
              "      <td>$MINE</td>\n",
              "      <td>InstaMineNuggets</td>\n",
              "      <td>2.893000e-03</td>\n",
              "      <td>290.0</td>\n",
              "      <td>99</td>\n",
              "      <td>131</td>\n",
              "      <td>32</td>\n",
              "      <td>1</td>\n",
              "      <td>Bitcoin</td>\n",
              "      <td>BTC</td>\n",
              "      <td>3994000000</td>\n",
              "      <td>286.39</td>\n",
              "      <td>13944575</td>\n",
              "      <td>99</td>\n",
              "      <td>0</td>\n",
              "    </tr>\n",
              "    <tr>\n",
              "      <th>2</th>\n",
              "      <td>$MINEW</td>\n",
              "      <td>InstaMineNuggets A</td>\n",
              "      <td>7.130000e-04</td>\n",
              "      <td>328.0</td>\n",
              "      <td>99</td>\n",
              "      <td>129</td>\n",
              "      <td>30</td>\n",
              "      <td>1</td>\n",
              "      <td>Bitcoin</td>\n",
              "      <td>BTC</td>\n",
              "      <td>3994000000</td>\n",
              "      <td>286.39</td>\n",
              "      <td>13944575</td>\n",
              "      <td>99</td>\n",
              "      <td>0</td>\n",
              "    </tr>\n",
              "    <tr>\n",
              "      <th>3</th>\n",
              "      <td>$MINEZ</td>\n",
              "      <td>InstaMineNuggets B</td>\n",
              "      <td>1.572000e-03</td>\n",
              "      <td>709.0</td>\n",
              "      <td>99</td>\n",
              "      <td>129</td>\n",
              "      <td>30</td>\n",
              "      <td>1</td>\n",
              "      <td>Bitcoin</td>\n",
              "      <td>BTC</td>\n",
              "      <td>3994000000</td>\n",
              "      <td>286.39</td>\n",
              "      <td>13944575</td>\n",
              "      <td>99</td>\n",
              "      <td>0</td>\n",
              "    </tr>\n",
              "    <tr>\n",
              "      <th>4</th>\n",
              "      <td>$PAC</td>\n",
              "      <td>PACcoin</td>\n",
              "      <td>1.080000e-08</td>\n",
              "      <td>4.0</td>\n",
              "      <td>133</td>\n",
              "      <td>325</td>\n",
              "      <td>192</td>\n",
              "      <td>1</td>\n",
              "      <td>Bitcoin</td>\n",
              "      <td>BTC</td>\n",
              "      <td>5532000000</td>\n",
              "      <td>373.37</td>\n",
              "      <td>14816675</td>\n",
              "      <td>133</td>\n",
              "      <td>0</td>\n",
              "    </tr>\n",
              "  </tbody>\n",
              "</table>\n",
              "</div>"
            ],
            "text/plain": [
              "  symbol_x              name_x        price0  ...    supply  week  after2017\n",
              "0      $$$               Money  3.500000e-05  ...  14843750   134          0\n",
              "1    $MINE    InstaMineNuggets  2.893000e-03  ...  13944575    99          0\n",
              "2   $MINEW  InstaMineNuggets A  7.130000e-04  ...  13944575    99          0\n",
              "3   $MINEZ  InstaMineNuggets B  1.572000e-03  ...  13944575    99          0\n",
              "4     $PAC             PACcoin  1.080000e-08  ...  14816675   133          0\n",
              "\n",
              "[5 rows x 15 columns]"
            ]
          },
          "metadata": {
            "tags": []
          },
          "execution_count": 60
        }
      ]
    },
    {
      "cell_type": "markdown",
      "metadata": {
        "colab_type": "text",
        "id": "ssUXpVoykaWf"
      },
      "source": [
        "**6. Estimate a Cox proportional hazard model using the following variables to predict survival of\n",
        "cryptocurrencies:**\n",
        "\n",
        "- Log starting price (log(PRICE0))\n",
        "\n",
        "- Log average volume in first week (log(VOLIME0))\n",
        "\n",
        "- Log price of bitcoin in the first week\n",
        "\n",
        "- A dummy variable for whether it is initiated after January 1 2017\n",
        "\n",
        "\n",
        "\n"
      ]
    },
    {
      "cell_type": "code",
      "metadata": {
        "colab_type": "code",
        "id": "_DaWiFv2keiW",
        "colab": {}
      },
      "source": [
        "idx = new_df.loc[new_df['firstweek']>192].index\n",
        "new_df.loc[idx, 'after2017'] = 1\n",
        "new_df['log_price']=np.log(new_df['price0'])\n",
        "new_df['log_vol']=np.log(new_df['volume0'])\n",
        "new_df['log_bitprice']=np.log(new_df['price'])\n",
        "new_df.tail()"
      ],
      "execution_count": 0,
      "outputs": []
    },
    {
      "cell_type": "code",
      "metadata": {
        "id": "6KF2nOeXySBp",
        "colab_type": "code",
        "outputId": "d9cd44b1-3767-4792-9d94-aa4ea02c329d",
        "colab": {
          "base_uri": "https://localhost:8080/",
          "height": 173
        }
      },
      "source": [
        "df_new1=new_df[['after2017','log_price','log_vol','log_bitprice','exit','diff']]\n",
        "cph1 = CoxPHFitter()\n",
        "cph1.fit(df_new1, 'diff', event_col='exit')\n",
        "cph1.summary"
      ],
      "execution_count": 0,
      "outputs": [
        {
          "output_type": "execute_result",
          "data": {
            "text/html": [
              "<div>\n",
              "<style scoped>\n",
              "    .dataframe tbody tr th:only-of-type {\n",
              "        vertical-align: middle;\n",
              "    }\n",
              "\n",
              "    .dataframe tbody tr th {\n",
              "        vertical-align: top;\n",
              "    }\n",
              "\n",
              "    .dataframe thead th {\n",
              "        text-align: right;\n",
              "    }\n",
              "</style>\n",
              "<table border=\"1\" class=\"dataframe\">\n",
              "  <thead>\n",
              "    <tr style=\"text-align: right;\">\n",
              "      <th></th>\n",
              "      <th>coef</th>\n",
              "      <th>exp(coef)</th>\n",
              "      <th>se(coef)</th>\n",
              "      <th>coef lower 95%</th>\n",
              "      <th>coef upper 95%</th>\n",
              "      <th>exp(coef) lower 95%</th>\n",
              "      <th>exp(coef) upper 95%</th>\n",
              "      <th>z</th>\n",
              "      <th>p</th>\n",
              "      <th>-log2(p)</th>\n",
              "    </tr>\n",
              "  </thead>\n",
              "  <tbody>\n",
              "    <tr>\n",
              "      <th>after2017</th>\n",
              "      <td>-0.076065</td>\n",
              "      <td>0.926756</td>\n",
              "      <td>0.128339</td>\n",
              "      <td>-0.327605</td>\n",
              "      <td>0.175476</td>\n",
              "      <td>0.720647</td>\n",
              "      <td>1.191813</td>\n",
              "      <td>-0.592686</td>\n",
              "      <td>5.533916e-01</td>\n",
              "      <td>0.853627</td>\n",
              "    </tr>\n",
              "    <tr>\n",
              "      <th>log_price</th>\n",
              "      <td>0.018339</td>\n",
              "      <td>1.018508</td>\n",
              "      <td>0.007908</td>\n",
              "      <td>0.002839</td>\n",
              "      <td>0.033838</td>\n",
              "      <td>1.002843</td>\n",
              "      <td>1.034417</td>\n",
              "      <td>2.318982</td>\n",
              "      <td>2.039600e-02</td>\n",
              "      <td>5.615570</td>\n",
              "    </tr>\n",
              "    <tr>\n",
              "      <th>log_vol</th>\n",
              "      <td>-0.088438</td>\n",
              "      <td>0.915360</td>\n",
              "      <td>0.007662</td>\n",
              "      <td>-0.103456</td>\n",
              "      <td>-0.073420</td>\n",
              "      <td>0.901715</td>\n",
              "      <td>0.929210</td>\n",
              "      <td>-11.541909</td>\n",
              "      <td>8.110521e-31</td>\n",
              "      <td>99.959976</td>\n",
              "    </tr>\n",
              "    <tr>\n",
              "      <th>log_bitprice</th>\n",
              "      <td>-0.086836</td>\n",
              "      <td>0.916828</td>\n",
              "      <td>0.046418</td>\n",
              "      <td>-0.177813</td>\n",
              "      <td>0.004142</td>\n",
              "      <td>0.837099</td>\n",
              "      <td>1.004150</td>\n",
              "      <td>-1.870737</td>\n",
              "      <td>6.138149e-02</td>\n",
              "      <td>4.026053</td>\n",
              "    </tr>\n",
              "  </tbody>\n",
              "</table>\n",
              "</div>"
            ],
            "text/plain": [
              "                  coef  exp(coef)  se(coef)  ...          z             p   -log2(p)\n",
              "after2017    -0.076065   0.926756  0.128339  ...  -0.592686  5.533916e-01   0.853627\n",
              "log_price     0.018339   1.018508  0.007908  ...   2.318982  2.039600e-02   5.615570\n",
              "log_vol      -0.088438   0.915360  0.007662  ... -11.541909  8.110521e-31  99.959976\n",
              "log_bitprice -0.086836   0.916828  0.046418  ...  -1.870737  6.138149e-02   4.026053\n",
              "\n",
              "[4 rows x 10 columns]"
            ]
          },
          "metadata": {
            "tags": []
          },
          "execution_count": 62
        }
      ]
    },
    {
      "cell_type": "code",
      "metadata": {
        "id": "Wq7q5AbX1FHI",
        "colab_type": "code",
        "outputId": "4aedc553-321b-493c-c9d7-75f3b67bd5d3",
        "colab": {
          "base_uri": "https://localhost:8080/",
          "height": 339
        }
      },
      "source": [
        "plt.rcParams.update({'font.size': 9})\n",
        "plt.figure()\n",
        "plt.title('Feature coefficients')\n",
        "cph1.summary['coef'].plot(kind='bar')"
      ],
      "execution_count": 88,
      "outputs": [
        {
          "output_type": "execute_result",
          "data": {
            "text/plain": [
              "<matplotlib.axes._subplots.AxesSubplot at 0x7f0ff212c978>"
            ]
          },
          "metadata": {
            "tags": []
          },
          "execution_count": 88
        },
        {
          "output_type": "display_data",
          "data": {
            "image/png": "[encoded data removed]",
            "text/plain": [
              "<Figure size 432x288 with 1 Axes>"
            ]
          },
          "metadata": {
            "tags": []
          }
        }
      ]
    },
    {
      "cell_type": "markdown",
      "metadata": {
        "colab_type": "text",
        "id": "2KjzDwK5knMB"
      },
      "source": [
        "**(a)What is the coefficient of the log starting price? What does the coefficient\n",
        "mean?**\n",
        "\n",
        "Answer: 0.018339.\n",
        "\n",
        "This Cox proportional hazard model is a method of investigating the effect of several variables such as log (bitcoin price), log (volume traded), dummy variable for being active after 2017 on the log price change of the crytocurrency.\n",
        "\n",
        "The coeffficient obtained relates to measuring the hazard. A positive value indicates a worse prognosis. This means that as the log price increases, the probability of survival (Crytocurrency being active) decreases"
      ]
    },
    {
      "cell_type": "markdown",
      "metadata": {
        "colab_type": "text",
        "id": "55Us60XAk6KE"
      },
      "source": [
        "**(b)Plot the baseline survival rate.**"
      ]
    },
    {
      "cell_type": "code",
      "metadata": {
        "colab_type": "code",
        "id": "LVqXKBfHlALN",
        "outputId": "33f78970-98b5-4781-c9db-b5037674951e",
        "colab": {
          "base_uri": "https://localhost:8080/",
          "height": 281
        }
      },
      "source": [
        "cph1.baseline_survival_.plot()\n",
        "cph1.baseline_survival_.loc[52,'baseline survival']"
      ],
      "execution_count": 0,
      "outputs": [
        {
          "output_type": "execute_result",
          "data": {
            "text/plain": [
              "0.799710331456815"
            ]
          },
          "metadata": {
            "tags": []
          },
          "execution_count": 66
        },
        {
          "output_type": "display_data",
          "data": {
            "image/png": "[encoded data removed]",
            "text/plain": [
              "<Figure size 432x288 with 1 Axes>"
            ]
          },
          "metadata": {
            "tags": []
          }
        }
      ]
    },
    {
      "cell_type": "markdown",
      "metadata": {
        "colab_type": "text",
        "id": "fCec5mIVlSrL"
      },
      "source": [
        "**On average what fraction of cryptocurrencies\n",
        "survive a year?**\n",
        "\n",
        "Answer: 0.799710331456815"
      ]
    },
    {
      "cell_type": "markdown",
      "metadata": {
        "colab_type": "text",
        "id": "zlnu6zMZloPI"
      },
      "source": [
        "**(c)Plot the predicted survival curve for the cryptocurrency “Nexo”.**"
      ]
    },
    {
      "cell_type": "code",
      "metadata": {
        "colab_type": "code",
        "id": "s9lIc-VilvQ-",
        "outputId": "b112cc86-37bb-40bf-bad8-db8a6db0991e",
        "colab": {
          "base_uri": "https://localhost:8080/",
          "height": 295
        }
      },
      "source": [
        "cph1.predict_survival_function(new_df[new_df['name_x']=='Nexo']).plot()\n",
        "plt.title(\"Nexo\")"
      ],
      "execution_count": 0,
      "outputs": [
        {
          "output_type": "execute_result",
          "data": {
            "text/plain": [
              "Text(0.5, 1.0, 'Nexo')"
            ]
          },
          "metadata": {
            "tags": []
          },
          "execution_count": 168
        },
        {
          "output_type": "display_data",
          "data": {
            "image/png": "[encoded data removed]",
            "text/plain": [
              "<Figure size 432x288 with 1 Axes>"
            ]
          },
          "metadata": {
            "tags": []
          }
        }
      ]
    },
    {
      "cell_type": "markdown",
      "metadata": {
        "colab_type": "text",
        "id": "Y-fEANUolwP2"
      },
      "source": [
        "**(d)Plot the predicted survival curve for a new cryptocurrency initiated in the\n",
        "week of February 2, 2020 with starting price=0.03 and first week’s volume=1 million.**"
      ]
    },
    {
      "cell_type": "code",
      "metadata": {
        "id": "JHJM66dj7gzt",
        "colab_type": "code",
        "outputId": "ddecbb6e-8288-485c-c0fc-fc095646daf4",
        "colab": {
          "base_uri": "https://localhost:8080/"
        }
      },
      "source": [
        "#'after2017','log_price','log_vol','log_bitprice','exit','diff\n",
        "NewCryptocurrency=pd.DataFrame(np.array([1,np.log(.03),np.log(1000000),9.142529, 0, 0]).reshape(1,-1),index=['NewCryptocurrency'],columns=df_new1.columns)\n",
        "cph1.predict_survival_function(NewCryptocurrency).plot()"
      ],
      "execution_count": 0,
      "outputs": [
        {
          "output_type": "execute_result",
          "data": {
            "text/plain": [
              "<matplotlib.axes._subplots.AxesSubplot at 0x7f0ff251ae80>"
            ]
          },
          "metadata": {
            "tags": []
          },
          "execution_count": 77
        },
        {
          "output_type": "display_data",
          "data": {
            "image/png": "[encoded data removed]",
            "text/plain": [
              "<Figure size 432x288 with 1 Axes>"
            ]
          },
          "metadata": {
            "tags": []
          }
        }
      ]
    },
    {
      "cell_type": "markdown",
      "metadata": {
        "colab_type": "text",
        "id": "5qTCXMWwmBmx"
      },
      "source": [
        "**7. Use week numbers not divisible by 3 (week 1, 2, 4, 5, 7...) as training set and week\n",
        "numbers dividible by 3 (week 3, 6, 9...) as test set. Estimate the Cox proportional hazard\n",
        "model on the training set and predict the survival of cryptocurrencies in the test set.**"
      ]
    },
    {
      "cell_type": "code",
      "metadata": {
        "colab_type": "code",
        "id": "MJytQ3X5mQMA",
        "colab": {}
      },
      "source": [
        "train = df_new1.loc[new_df['week']%3!=0]\n",
        "test = df_new1.loc[new_df['week']%3==0]\n",
        "cph_2 = CoxPHFitter()\n",
        "cph_2.fit(train, 'diff', event_col='exit')\n",
        "cph_2.predict_partial_hazard(test)"
      ],
      "execution_count": 0,
      "outputs": []
    },
    {
      "cell_type": "code",
      "metadata": {
        "id": "uyumNxBVJTQt",
        "colab_type": "code",
        "colab": {}
      },
      "source": [
        "cph_2.predict_survival_function(test)"
      ],
      "execution_count": 0,
      "outputs": []
    },
    {
      "cell_type": "code",
      "metadata": {
        "id": "wj4LzeyyJA7l",
        "colab_type": "code",
        "colab": {}
      },
      "source": [
        "cph_2.predict_partial_hazard(test).plot()"
      ],
      "execution_count": 0,
      "outputs": []
    },
    {
      "cell_type": "code",
      "metadata": {
        "id": "chailYNJIqtg",
        "colab_type": "code",
        "outputId": "5e63b6d9-52b9-4325-ed0c-b6a47e1b1177",
        "colab": {
          "base_uri": "https://localhost:8080/",
          "height": 34
        }
      },
      "source": [
        "#calculate concordance score\n",
        "from lifelines.utils import concordance_index\n",
        "print(concordance_index( test['diff'], -cph_2.predict_partial_hazard(test), test['exit'] ) )"
      ],
      "execution_count": 0,
      "outputs": [
        {
          "output_type": "stream",
          "text": [
            "0.6732298388916468\n"
          ],
          "name": "stdout"
        }
      ]
    },
    {
      "cell_type": "markdown",
      "metadata": {
        "colab_type": "text",
        "id": "qFYKsKkNmRkD"
      },
      "source": [
        "**What\n",
        "is the concordance index?**\n",
        "\n",
        "Answer: 0.6732298388916468"
      ]
    },
    {
      "cell_type": "code",
      "metadata": {
        "id": "xzpx8ryLMcfz",
        "colab_type": "code",
        "outputId": "c8f2de08-7799-4dbe-db3e-5b6f6e0490f3",
        "colab": {
          "base_uri": "https://localhost:8080/",
          "height": 34
        }
      },
      "source": [
        "# use cross validation for model selection\n",
        "print(np.mean(k_fold_cross_validation(cph_2, test, 'diff', event_col='exit', k=5, scoring_method=\"concordance_index\")))"
      ],
      "execution_count": 0,
      "outputs": [
        {
          "output_type": "stream",
          "text": [
            "0.6699463659284132\n"
          ],
          "name": "stdout"
        }
      ]
    },
    {
      "cell_type": "markdown",
      "metadata": {
        "colab_type": "text",
        "id": "UzfoudMEmfl6"
      },
      "source": [
        "**Add another variable that might predict the survival (for example,\n",
        "you can use characteristics about the name of cryptocurrency; be creative!)**"
      ]
    },
    {
      "cell_type": "code",
      "metadata": {
        "id": "_3rgQjbGLA86",
        "colab_type": "code",
        "colab": {}
      },
      "source": [
        "####\n",
        "df_new2=new_df[['after2017','log_price','log_vol','log_bitprice','exit','diff','cap','supply']]\n",
        "train1 = df_new2.loc[new_df['week']%3!=0]\n",
        "test1 = df_new2.loc[new_df['week']%3==0]\n",
        "cph_3 = CoxPHFitter()\n",
        "cph_3.fit(train1, 'diff', event_col='exit')\n",
        "cph_3.predict_partial_hazard(test1)"
      ],
      "execution_count": 0,
      "outputs": []
    },
    {
      "cell_type": "code",
      "metadata": {
        "colab_type": "code",
        "id": "7F1Zpk4hmlG-",
        "outputId": "6c64ce7b-7766-4922-ec9e-2d4c87daa195",
        "colab": {
          "base_uri": "https://localhost:8080/",
          "height": 34
        }
      },
      "source": [
        "#calculate concordance score\n",
        "from lifelines.utils import concordance_index\n",
        "print(concordance_index( test1['diff'], -cph_3.predict_partial_hazard(test1), test1['exit'] ) )"
      ],
      "execution_count": 0,
      "outputs": [
        {
          "output_type": "stream",
          "text": [
            "0.6755494381515411\n"
          ],
          "name": "stdout"
        }
      ]
    },
    {
      "cell_type": "markdown",
      "metadata": {
        "colab_type": "text",
        "id": "groPBaOfmlbd"
      },
      "source": [
        "**Does it improve\n",
        "the prediction?**\n",
        "\n",
        "Answer: Concordance index is used for validating the predictive ability of a survival model. As we add variables (Cap, supply) the value of concordance index increases. Since higher is better,\n",
        "\n",
        "Index without  & supply: 0.6732298388916468\n",
        "\n",
        "Index with cap & supply: 0.6755494381515411\n",
        "\n",
        "Thus, by adding cap& supply to the model, it's prediction power increases \n"
      ]
    },
    {
      "cell_type": "code",
      "metadata": {
        "id": "bQxAA3k8Pcx-",
        "colab_type": "code",
        "outputId": "5dfa28cb-706e-4c89-e7f6-bbd13161423c",
        "colab": {
          "base_uri": "https://localhost:8080/",
          "height": 34
        }
      },
      "source": [
        "# use cross validation for model selection\n",
        "print(np.mean(k_fold_cross_validation(cph_3, test1, 'diff', event_col='exit', k=5, scoring_method=\"concordance_index\")))"
      ],
      "execution_count": 0,
      "outputs": [
        {
          "output_type": "stream",
          "text": [
            "0.6740716907562689\n"
          ],
          "name": "stdout"
        }
      ]
    }
  ]
}