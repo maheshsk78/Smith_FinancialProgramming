{
  "nbformat": 4,
  "nbformat_minor": 0,
  "metadata": {
    "colab": {
      "name": "Problem_Set_1_template.ipynb",
      "provenance": [],
      "collapsed_sections": []
    },
    "kernelspec": {
      "display_name": "Python 3",
      "language": "python",
      "name": "python3"
    },
    "language_info": {
      "codemirror_mode": {
        "name": "ipython",
        "version": 3
      },
      "file_extension": ".py",
      "mimetype": "text/x-python",
      "name": "python",
      "nbconvert_exporter": "python",
      "pygments_lexer": "ipython3",
      "version": "3.7.4"
    }
  },
  "cells": [
    {
      "cell_type": "markdown",
      "metadata": {
        "id": "lCBGY19I8M9g",
        "colab_type": "text"
      },
      "source": [
        "# 1. Short Questions\n",
        "---\n",
        "\n",
        "*1.1) Give an example of “omitted variable bias”*\n",
        "\n",
        "=>**Omitted variable bias arises when the regressor ‘X’ is correlated with an omitted variable/unobservable variable. This results in an incorrectly specified model. For example, if we are running a regression between consumption as regressand and income as the regressor. An omitted variable bias (OVB) can occur when the model excludes one or more relevant variables such as inflation (macroeconomic factor) or other fixed expenditures as parameters. This results in an unfair value of beta. Thus, OVB affects the regression's explanatory power**\n",
        "\n",
        "\n",
        "*1.2) Suppose you are interested in the effect of being included in the S&P 500 index on stock prices. Give at least two reasons why OLS might not be the best linear unbiased estimator*\n",
        "\n",
        "=>**Although, the broad assumptions of OLS include that the model should be linear and that the sample should consist of identical, independent random variables. OLS might not be BLUE since the following conditions are NOT met:** \n",
        "> **Homoskedasticity(sigma square = 0)**\n",
        "\n",
        "> **Uncorrelated shocks(ui,uj =0)**\n",
        "\n",
        "=>**The effect of being included in the S&P 500 on stock prices should not be modeled using OLS. Not only because stock prices are a highly volatile dataset, but also since the variance of the error term is not constant. Further, shocks in the past can have an effect on the current market price. Moreover, stock prices reflect customer sentiment and their general perception towards markets being bullish or bearish**\n",
        "\n",
        "*1.3) [True/False/Uncertain] If fixed effects model and random effects model give very different estimates, then the estimate from the random-effects model must be inconsistent*\n",
        "\n",
        "=>**It depends. Based on the assumptions. The fixed-effects model rests on the assumption that the individual effects are correlated with the regressors. The underlying principle being that the unobserved characteristics of a firm are fixed. Based on this they remove the biases of the model by transforming the data. The random-effects model, on the other hand, assumes that the individual effects are uncorrelated**\n",
        "\n",
        "**This essentially means that random effects are efficient. They should be used in addition to the fixed effects provided their assumptions hold true**\n",
        "\n",
        "*1.4. There are four biosafety levels for viruses and other biological agents (BSL-1 - BSL-4), ranked by the level of precautions required in lab facility (For example, HIV is level 2, SARS is level 3, and Ebola is level 4). If we want to use the characteristics of the new coronavirus to predict which level it will be at, which model should we use?*\n",
        "\n",
        "=>**Logit Model using dummy variables**\n",
        "\n",
        "\n",
        " "
      ]
    },
    {
      "cell_type": "markdown",
      "metadata": {
        "colab_type": "text",
        "id": "Mv6b_DaUMszR"
      },
      "source": [
        "# 2. Housing Prices\n",
        "\n",
        "---\n",
        "\n"
      ]
    },
    {
      "cell_type": "markdown",
      "metadata": {
        "colab_type": "text",
        "id": "N5_pByHFMszU"
      },
      "source": [
        "## Loading data\n",
        "\n",
        "In this exercise you will work with a dataset containing housing prices from a large sample of neighborhoods."
      ]
    },
    {
      "cell_type": "code",
      "metadata": {
        "colab_type": "code",
        "id": "st3t2zUHMszV",
        "colab": {}
      },
      "source": [
        "import numpy as np\n",
        "import pandas as pd\n",
        "import matplotlib.pyplot as plt\n",
        "import statsmodels.api as sm\n",
        "import statsmodels.formula.api as smf\n",
        "import statsmodels.stats.api as sms"
      ],
      "execution_count": 0,
      "outputs": []
    },
    {
      "cell_type": "markdown",
      "metadata": {
        "colab_type": "text",
        "id": "bXouMIgfMszZ"
      },
      "source": [
        "First we load data on housing prices and neighborhood characteristics."
      ]
    },
    {
      "cell_type": "code",
      "metadata": {
        "colab_type": "code",
        "id": "NAjdq3Q5MszZ",
        "colab": {}
      },
      "source": [
        "data1 = pd.read_excel('https://drive.google.com/uc?export=download&id=1j6j_z_hJllt27ol9Jw1xhOCm8GMqD7Nk')\n",
        "data1.describe()"
      ],
      "execution_count": 0,
      "outputs": []
    },
    {
      "cell_type": "markdown",
      "metadata": {
        "id": "oEI1k1S-HyBZ",
        "colab_type": "text"
      },
      "source": [
        "## Variable List\n",
        "\n",
        "- price: Median housing price\n",
        "\n",
        "- crime: Crimes per capita\n",
        "\n",
        "- nox: Nitrous oxide in parts per 100 million\n",
        "\n",
        "- rooms: Average number of rooms\n",
        "\n",
        "- dist: Weighted distance to employment centers\n",
        "\n",
        "- radial: Accessibility index to radial highways\n",
        "\n",
        "- proptax: Property tax per $1,000\n"
      ]
    },
    {
      "cell_type": "markdown",
      "metadata": {
        "colab_type": "text",
        "id": "OAxNbueQUOJF"
      },
      "source": [
        "**1. Run a regression with the following model, and report the $R^{2}$ of the regression.**\n",
        "\n",
        "$$price_{i}=\\beta_{0}+\\beta_{1}crime_{i}+\\beta_{2}nox_{i}+\\beta_{3}dist_{i}+\\beta_{4}radial_{i}+\\beta_{5}proptax_{i}+\\epsilon_{i}$$"
      ]
    },
    {
      "cell_type": "code",
      "metadata": {
        "id": "313fknSyHyBd",
        "colab_type": "code",
        "colab": {}
      },
      "source": [
        "formula1 = 'price ~ crime + nox + dist + radial + proptax'\n",
        "result1 = smf.ols(formula1, data1).fit()\n",
        "print(result1.summary())"
      ],
      "execution_count": 0,
      "outputs": []
    },
    {
      "cell_type": "markdown",
      "metadata": {
        "id": "-pkHyxEMHyBh",
        "colab_type": "text"
      },
      "source": [
        "**What is the $R^2$?**"
      ]
    },
    {
      "cell_type": "code",
      "metadata": {
        "id": "LFBdo1eEJRrp",
        "colab_type": "code",
        "colab": {}
      },
      "source": [
        "print(\"R-squared:\",round(result1.rsquared,4))"
      ],
      "execution_count": 0,
      "outputs": []
    },
    {
      "cell_type": "markdown",
      "metadata": {
        "colab_type": "text",
        "id": "JwaX7WijMszc"
      },
      "source": [
        "**2. Run a Breusch-Pagan test for heteroskedasticity**"
      ]
    },
    {
      "cell_type": "code",
      "metadata": {
        "colab_type": "code",
        "id": "Ic3GlhE6Mszd",
        "colab": {}
      },
      "source": [
        "from statsmodels.compat import lzip\n",
        "\n",
        "name = ['Lagrange multiplier statistic', 'p-value', 'f-value', 'f p-value']\n",
        "test = sms.het_breuschpagan(result1.resid, result1.model.exog)\n",
        "lzip(name, test)"
      ],
      "execution_count": 0,
      "outputs": []
    },
    {
      "cell_type": "code",
      "metadata": {
        "id": "gcT5T9k6J5YD",
        "colab_type": "code",
        "colab": {}
      },
      "source": [
        "print(\"NULL HYPOTHESIS (H0): The error variances are all equal \")\n",
        "print(\"ALTHERNATIVE (Ha): The error variances are a multiplicative function of one or more variables\")\n",
        "print(\"Breusch Pagan Test\");print(\"p value = \",round(test[1],4))\n",
        "if(test[1]>0.05):\n",
        "  print(\"FAIL TO REJECT NULL i.e Reject Alternative\") \n",
        "else: \n",
        "  print(\"REJECT NULL HYPOTHESIS i.e Accept Alternative\")"
      ],
      "execution_count": 0,
      "outputs": []
    },
    {
      "cell_type": "markdown",
      "metadata": {
        "colab_type": "text",
        "id": "fWREb_FFMszn"
      },
      "source": [
        "**Is there heteroskedasticity present?**\n",
        "\n",
        "Answer: Yes, heteroskedasticity is present"
      ]
    },
    {
      "cell_type": "markdown",
      "metadata": {
        "id": "l3rjg0msHyBs",
        "colab_type": "text"
      },
      "source": [
        "**If there is heteroskedasticity, fix this problem by running a second regression using White standard errors.**\n",
        "\n",
        "\n"
      ]
    },
    {
      "cell_type": "code",
      "metadata": {
        "colab_type": "code",
        "id": "ieLQ7Br4Mszn",
        "colab": {}
      },
      "source": [
        "formula2 = 'price ~ crime + nox + dist + radial + proptax'\n",
        "result2 = smf.ols(formula2, data).fit(cov_type='HC1')\n",
        "print(result2.summary())"
      ],
      "execution_count": 0,
      "outputs": []
    },
    {
      "cell_type": "markdown",
      "metadata": {
        "id": "TCrOyEMSHyB-",
        "colab_type": "text"
      },
      "source": [
        "**Explain what has (and hasn’t) changed.**\n",
        "\n",
        "Answer: The value of F-statistic has changed marginally i.e. 2*10^45. The F-statistic measures the joint effect of all variables combined "
      ]
    },
    {
      "cell_type": "code",
      "metadata": {
        "id": "vDR2v895spB6",
        "colab_type": "code",
        "colab": {}
      },
      "source": [
        "#print(\"Residuals with standard OLS\")\n",
        "plt.plot(result1.resid)"
      ],
      "execution_count": 0,
      "outputs": []
    },
    {
      "cell_type": "code",
      "metadata": {
        "id": "-e3ieYNxvgQd",
        "colab_type": "code",
        "colab": {}
      },
      "source": [
        "#print(\"Residuals with White Standard Error\")\n",
        "plt.plot(result2.resid)"
      ],
      "execution_count": 0,
      "outputs": []
    },
    {
      "cell_type": "markdown",
      "metadata": {
        "id": "GuR8xaR6f0qj",
        "colab_type": "text"
      },
      "source": [
        "No considerable difference between the residuals of OLS and White standard Error test "
      ]
    },
    {
      "cell_type": "markdown",
      "metadata": {
        "colab_type": "text",
        "id": "WfASVV7wHyCA"
      },
      "source": [
        "**3. Run an F-test in Stata to check if *proptax* and *radial* jointly have no effect.**"
      ]
    },
    {
      "cell_type": "code",
      "metadata": {
        "id": "HH-WLr0AevdM",
        "colab_type": "code",
        "colab": {}
      },
      "source": [
        "hypothesis = \"proptax = radial\"\n",
        "f_test=result2.f_test(hypothesis)"
      ],
      "execution_count": 0,
      "outputs": []
    },
    {
      "cell_type": "code",
      "metadata": {
        "id": "7vMAW2NC1wzf",
        "colab_type": "code",
        "colab": {}
      },
      "source": [
        "print(\"F-test for joint hypothesis Test\")\n",
        "print(f_test)"
      ],
      "execution_count": 0,
      "outputs": []
    },
    {
      "cell_type": "markdown",
      "metadata": {
        "colab_type": "text",
        "id": "f6gZwHobZmw0"
      },
      "source": [
        "**What do you conclude?**\n",
        "\n",
        "Answer: A small p-value (typically ≤ 0.05) indicates strong evidence against the null hypothesis, so we reject the null hypothesis which states that proptax and radial are jointly significant "
      ]
    },
    {
      "cell_type": "markdown",
      "metadata": {
        "colab_type": "text",
        "id": "z26xBzmZHyCJ"
      },
      "source": [
        "**4. Run a Ramsey RESET test for functional form specification.**"
      ]
    },
    {
      "cell_type": "code",
      "metadata": {
        "colab_type": "code",
        "id": "A2gVAyWiMszs",
        "colab": {}
      },
      "source": [
        "from statsmodels.stats.outliers_influence import reset_ramsey\n",
        "formula3 = 'price ~ crime + nox + dist + radial + proptax'\n",
        "result3 = smf.ols(formula3, data1).fit()\n",
        "reset_ramsey(result3, degree=5)"
      ],
      "execution_count": 0,
      "outputs": []
    },
    {
      "cell_type": "markdown",
      "metadata": {
        "colab_type": "text",
        "id": "SFxXXvZ3HyCQ"
      },
      "source": [
        "**Is the linear model misspecified?**\n",
        "\n",
        "Answer: With an F-value of 443.3566 and a corresponding p-value of 0.09e-110, the RESET test results suggest that we reject the null hypothesis which states that the model has no omitted variables. In other words, we find strong evidence that the chosen linear functional form of the model is correct."
      ]
    },
    {
      "cell_type": "markdown",
      "metadata": {
        "colab_type": "text",
        "id": "alTlC0k1HyCS"
      },
      "source": [
        "**5. Run a regression using a log variant of the original model, as shown below. [Hint: You will need to create a new variable that is the natural log of price.] Be sure to use White standard errors if you found there was heteroskedasticity.**\n",
        "\n",
        "$$\\log(price_{i})=\\beta_{0}+\\beta_{1}crime_{i}+\\beta_{2}nox_{i}+\\beta_{3}dist_{i}+\\beta_{4}radial_{i}+\\beta_{5}proptax_{i}+\\epsilon_{i}$$"
      ]
    },
    {
      "cell_type": "code",
      "metadata": {
        "colab_type": "code",
        "id": "3R1vECWARnec",
        "colab": {}
      },
      "source": [
        "data1['log_price'] = np.log(data1['price'])\n",
        "formula4 = 'log_price ~ crime + nox + dist + radial + proptax'\n",
        "result4 = smf.ols(formula4, data1).fit()\n",
        "print(result4.summary())"
      ],
      "execution_count": 0,
      "outputs": []
    },
    {
      "cell_type": "markdown",
      "metadata": {
        "id": "60bOqlzAg4Yv",
        "colab_type": "text"
      },
      "source": [
        "**Compare the goodness-of-fit statistics for this model and the original model. Which one is a better fit?**"
      ]
    },
    {
      "cell_type": "code",
      "metadata": {
        "id": "Nf7qclEC0n8D",
        "colab_type": "code",
        "colab": {}
      },
      "source": [
        "print(\"Goodness of fit for model 1: \",round(result1.rsquared,4))\n",
        "print(\"Goodness of fit for model 4: \",round(result4.rsquared,4))\n",
        "if(result1.rsquared>result4.rsquared):\n",
        "  print(\"Model 1 is better\")\n",
        "else:\n",
        "  print(\"Model 4 is better\")"
      ],
      "execution_count": 0,
      "outputs": []
    },
    {
      "cell_type": "markdown",
      "metadata": {
        "colab_type": "text",
        "id": "JJrEtRHqHyCd"
      },
      "source": [
        "# 3. Value of Patents\n",
        "\n",
        "---\n",
        "\n"
      ]
    },
    {
      "cell_type": "markdown",
      "metadata": {
        "id": "J6q4-dAbHyCf",
        "colab_type": "text"
      },
      "source": [
        "In this exercise we study the value of patents for firms. Suppose we have a panel dataset for a sample of publicly listed firms. For each firm we have the number of patents granted to that firm in each year and the stock price and market value by the end of each year."
      ]
    },
    {
      "cell_type": "markdown",
      "metadata": {
        "id": "Q8ZVXNO5jWqt",
        "colab_type": "text"
      },
      "source": [
        "*3.1) Consider an OLS model: where y_it is the market value, and p_it is the number of patents for firm i in year t. Suppose i is unobserved firm-specific characteristic, like firm culture and managerial talent. What assumption do you need for the OLS estimator to be unbiased? Do you think the assumption is satisfied here and why?*\n",
        "\n",
        "**The assumption needed for the OLS estimator to be unbiased is that firm-specific characteristics (firm culture and managerial talent) are UNCORRELATED with variables that change over time i.e number of patents**\n",
        "\n",
        "*3.2) If the assumption from 1 is satisfied, is the OLS estimator BLUE? What procedure can you do to get an estimator that is BLUE?*\n",
        "\n",
        "**Even though the assumption from 3.1 is satisfied. It does not necessarily mean that the estimator is BLUE. Since it can still be inefficient i.e non-optimal solution set generated. To correct this, a transformation is required**\n",
        "\n",
        "*3.3) If the assumption from 1 is not satisfied, what are the two ways to get unbiased and consistent estimates? Use one or two sentences to describe each approach*\n",
        "\n",
        "**First difference: This procedure involves subtracting the previous value from the current value. This is called a first-order difference if lag is one period**\n",
        "\n",
        "**Fixed Effects: The modeling approach includes the error term causing the bias in the regression itself**\n",
        "\n",
        "*3.4) Now let’s consider how much R&D investment can produce a patent. When you\n",
        "regress number of patents on R&D investment, which model should you use?*\n",
        "\n",
        "**First Difference**\n"
      ]
    },
    {
      "cell_type": "code",
      "metadata": {
        "id": "YsNA8bHiHyCh",
        "colab_type": "code",
        "colab": {}
      },
      "source": [
        "!pip install -q linearmodels\n",
        "from linearmodels.panel import PooledOLS\n",
        "from linearmodels.panel import PanelOLS as fe"
      ],
      "execution_count": 0,
      "outputs": []
    },
    {
      "cell_type": "markdown",
      "metadata": {
        "colab_type": "text",
        "id": "6qTfrIc0HyCo"
      },
      "source": [
        "## Loading data\n",
        "\n",
        "In this exercise you will work with a dataset that matches the Compustat data to patents."
      ]
    },
    {
      "cell_type": "code",
      "metadata": {
        "id": "Fc2DKyNLHyCp",
        "colab_type": "code",
        "colab": {}
      },
      "source": [
        "data2 = pd.read_excel('https://drive.google.com/uc?export=download&id=1NJWomov6NFJoMjvFZyuGzE2Qjc0IkDqQ')\n",
        "## could take some time to load\n",
        "data2.describe()"
      ],
      "execution_count": 0,
      "outputs": []
    },
    {
      "cell_type": "code",
      "metadata": {
        "id": "UHW2u_xCrdL0",
        "colab_type": "code",
        "colab": {}
      },
      "source": [
        "#Fill missing variables\n",
        "idx = data2.loc[ (data2['npats'].isnull()) | (data2['npats']<=0) | (data2['npats'].isna())].index\n",
        "data2.loc[idx, 'npats'] = 0\n",
        "\n",
        "# get the index of rows where 'xrd' is negative or the value is missed\n",
        "idx = data2.loc[ (data2['xrd'].isnull()) | (data2['xrd']<0)].index\n",
        "data2.loc[idx, 'xrd'] = 0\n",
        "\n",
        "# get the index of rows where 'csho' is negative or the value is missed\n",
        "idx = data2.loc[ (data2['csho'].isnull()) | (data2['csho']<=0) | (data2['csho'].isna())].index\n",
        "data2.loc[idx, 'csho'] = 53.298925 #Mean/Average (no. of shares outstanding 'csho', excluding NA values)\n",
        "\n",
        "\n",
        "idx = data2.loc[ (data2['prcc_c'].isnull()) | (data2['prcc_c']<=0)| (data2['prcc_c'].isna())].index\n",
        "# replace value of 'xrd' at those rows by zero.\n",
        "data2.loc[idx, 'prcc_c'] = 22.995556 #Mean/Average (price per share 'prcc_c', excluding NA values)\n",
        "\n",
        "#As data points become closer to the mean, data is more normally distributed\n",
        "data2.info()"
      ],
      "execution_count": 0,
      "outputs": []
    },
    {
      "cell_type": "markdown",
      "metadata": {
        "id": "LoG_QoH9HyCv",
        "colab_type": "text"
      },
      "source": [
        "## Variable List\n",
        "\n",
        "- permno: Company ID\n",
        "\n",
        "- year: Year of observation\n",
        "\n",
        "- npats: Number of patents the firm is granted in each year\n",
        "\n",
        "- xrd: R&D investment (millions)\n",
        "\n",
        "- csho: Number of common shares outstanding (millions)\n",
        "\n",
        "- prcc_c: Year-end stock price\n",
        "\n",
        "- conm: Company name\n"
      ]
    },
    {
      "cell_type": "markdown",
      "metadata": {
        "colab_type": "text",
        "id": "EkAJPiP-HyCw"
      },
      "source": [
        "**5. How many firms have at least one patent? How many firms have no patent?**"
      ]
    },
    {
      "cell_type": "code",
      "metadata": {
        "id": "zZQ04ciUHyCy",
        "colab_type": "code",
        "colab": {}
      },
      "source": [
        "temp1=data2.groupby('conm')['npats'].count()\n",
        "print(\"Companies with atleast 1 patent:\",temp1[temp1>=1].sum())"
      ],
      "execution_count": 0,
      "outputs": []
    },
    {
      "cell_type": "code",
      "metadata": {
        "id": "X8KNgiEf-uml",
        "colab_type": "code",
        "colab": {}
      },
      "source": [
        "print(\"Companies with no patents:\",temp1[temp1==0].sum())"
      ],
      "execution_count": 0,
      "outputs": []
    },
    {
      "cell_type": "markdown",
      "metadata": {
        "colab_type": "text",
        "id": "qCRwQxQ5HyC3"
      },
      "source": [
        "**6. Calculate market capitalization by multiplying the stock price by shares outstanding. What is the average market capitalization?**"
      ]
    },
    {
      "cell_type": "code",
      "metadata": {
        "id": "sQaHOFWVHyC5",
        "colab_type": "code",
        "colab": {}
      },
      "source": [
        "temp2_1=data2.groupby('conm')['prcc_c'].mean()\n",
        "temp2_2=data2.groupby('conm')['csho'].mean()\n",
        "market_cap = temp2_1*temp2_2\n",
        "print(market_cap)"
      ],
      "execution_count": 0,
      "outputs": []
    },
    {
      "cell_type": "markdown",
      "metadata": {
        "id": "hQD2rs48HyC-",
        "colab_type": "text"
      },
      "source": [
        "The average market capitalization is "
      ]
    },
    {
      "cell_type": "code",
      "metadata": {
        "id": "UFDEVZ0JAAV0",
        "colab_type": "code",
        "colab": {}
      },
      "source": [
        "print(\"The average market capitalization is:\",round(np.mean(market_cap),4))"
      ],
      "execution_count": 0,
      "outputs": []
    },
    {
      "cell_type": "markdown",
      "metadata": {
        "colab_type": "text",
        "id": "fOqgdsWmHyDB"
      },
      "source": [
        "**7. Create a variable “log_cap” that is the log market capitalization. Run an OLS regression of log market capitalization on the number of patents.**"
      ]
    },
    {
      "cell_type": "code",
      "metadata": {
        "id": "yMV54Ap3HyDC",
        "colab_type": "code",
        "colab": {}
      },
      "source": [
        "data2.info()\n",
        "data2['log_cap']=np.log(data2['prcc_c'])+  np.log(data2['csho'])"
      ],
      "execution_count": 0,
      "outputs": []
    },
    {
      "cell_type": "code",
      "metadata": {
        "id": "UM32Bq6EVSVW",
        "colab_type": "code",
        "colab": {}
      },
      "source": [
        "#Performing regression\n",
        "formula5 = 'log_cap~npats'\n",
        "result5 = smf.ols(formula5,data2).fit()\n",
        "print(result5.summary())"
      ],
      "execution_count": 0,
      "outputs": []
    },
    {
      "cell_type": "markdown",
      "metadata": {
        "id": "lEvIyBPOHyDI",
        "colab_type": "text"
      },
      "source": [
        "The coefficient is "
      ]
    },
    {
      "cell_type": "code",
      "metadata": {
        "id": "a7SOmf8KC4XM",
        "colab_type": "code",
        "colab": {}
      },
      "source": [
        "print(\"The coefficient is:\",round(result5.params[1],4))"
      ],
      "execution_count": 0,
      "outputs": []
    },
    {
      "cell_type": "markdown",
      "metadata": {
        "colab_type": "text",
        "id": "RU5YI8tFHyDJ"
      },
      "source": [
        "**8. Run a regression of log market capitalization on the number of patents with firm and year fixed effects.**"
      ]
    },
    {
      "cell_type": "code",
      "metadata": {
        "id": "8kCfUPbzlkSM",
        "colab_type": "code",
        "colab": {
          "base_uri": "https://localhost:8080/",
          "height": 71
        },
        "outputId": "bea12dbb-3063-48ef-954a-d51bdd3c4cbc"
      },
      "source": [
        "exog_vars = ['npats']\n",
        "exog = sm.add_constant(data2[exog_vars])"
      ],
      "execution_count": 134,
      "outputs": [
        {
          "output_type": "stream",
          "text": [
            "/usr/local/lib/python3.6/dist-packages/numpy/core/fromnumeric.py:2495: FutureWarning: Method .ptp is deprecated and will be removed in a future version. Use numpy.ptp instead.\n",
            "  return ptp(axis=axis, out=out, **kwargs)\n"
          ],
          "name": "stderr"
        }
      ]
    },
    {
      "cell_type": "code",
      "metadata": {
        "id": "x7VK_bLQji0X",
        "colab_type": "code",
        "colab": {}
      },
      "source": [
        "data2.reset_index(inplace=True)\n",
        "data2.set_index(['conm', 'year'], inplace=True)\n",
        "data2['log_cap1'] = data2.groupby('conm')['log_cap'].shift()"
      ],
      "execution_count": 0,
      "outputs": []
    },
    {
      "cell_type": "code",
      "metadata": {
        "id": "CVL7sqYH9vh0",
        "colab_type": "code",
        "colab": {
          "base_uri": "https://localhost:8080/",
          "height": 510
        },
        "outputId": "4af73ef6-b550-4e65-a8e0-5c9703ea3587"
      },
      "source": [
        "#Pooled OLS\n",
        "mod = PooledOLS(data2['log_cap1'], exog)\n",
        "pooled_res = mod.fit()\n",
        "print(pooled_res)"
      ],
      "execution_count": 136,
      "outputs": [
        {
          "output_type": "stream",
          "text": [
            "/usr/local/lib/python3.6/dist-packages/linearmodels/utility.py:549: MissingValueWarning: \n",
            "Inputs contain missing values. Dropping rows with missing observations.\n",
            "  warnings.warn(missing_value_warning_msg, MissingValueWarning)\n"
          ],
          "name": "stderr"
        },
        {
          "output_type": "stream",
          "text": [
            "                          PooledOLS Estimation Summary                          \n",
            "================================================================================\n",
            "Dep. Variable:               log_cap1   R-squared:                        0.0593\n",
            "Estimator:                  PooledOLS   R-squared (Between):              0.0255\n",
            "No. Observations:              195992   R-squared (Within):              -0.0288\n",
            "Date:                Tue, Feb 11 2020   R-squared (Overall):              0.0593\n",
            "Time:                        13:39:13   Log-likelihood                -4.265e+05\n",
            "Cov. Estimator:            Unadjusted                                           \n",
            "                                        F-statistic:                   1.236e+04\n",
            "Entities:                       19899   P-value                           0.0000\n",
            "Avg Obs:                       9.8493   Distribution:                F(1,195990)\n",
            "Min Obs:                       1.0000                                           \n",
            "Max Obs:                       30.000   F-statistic (robust):          1.236e+04\n",
            "                                        P-value                           0.0000\n",
            "Time periods:                      31   Distribution:                F(1,195990)\n",
            "Avg Obs:                       6322.3                                           \n",
            "Min Obs:                       13.000                                           \n",
            "Max Obs:                       8583.0                                           \n",
            "                                                                                \n",
            "                             Parameter Estimates                              \n",
            "==============================================================================\n",
            "            Parameter  Std. Err.     T-stat    P-value    Lower CI    Upper CI\n",
            "------------------------------------------------------------------------------\n",
            "const          4.7092     0.0049     965.03     0.0000      4.6996      4.7188\n",
            "npats          0.0326     0.0003     111.16     0.0000      0.0320      0.0332\n",
            "==============================================================================\n"
          ],
          "name": "stdout"
        }
      ]
    },
    {
      "cell_type": "code",
      "metadata": {
        "id": "1R8Sqo1q9hO_",
        "colab_type": "code",
        "colab": {
          "base_uri": "https://localhost:8080/",
          "height": 612
        },
        "outputId": "f71634e9-3276-4497-80da-3de8968f091e"
      },
      "source": [
        "#With Year Fixed effects\n",
        "mod = fe(data2['log_cap1'], exog, time_effects=True)\n",
        "fe_year = mod.fit()\n",
        "print(fe_year)"
      ],
      "execution_count": 137,
      "outputs": [
        {
          "output_type": "stream",
          "text": [
            "/usr/local/lib/python3.6/dist-packages/linearmodels/utility.py:549: MissingValueWarning: \n",
            "Inputs contain missing values. Dropping rows with missing observations.\n",
            "  warnings.warn(missing_value_warning_msg, MissingValueWarning)\n"
          ],
          "name": "stderr"
        },
        {
          "output_type": "stream",
          "text": [
            "                          PanelOLS Estimation Summary                           \n",
            "================================================================================\n",
            "Dep. Variable:               log_cap1   R-squared:                        0.0620\n",
            "Estimator:                   PanelOLS   R-squared (Between):              0.0245\n",
            "No. Observations:              195992   R-squared (Within):              -0.0250\n",
            "Date:                Tue, Feb 11 2020   R-squared (Overall):              0.0592\n",
            "Time:                        13:39:21   Log-likelihood                -4.141e+05\n",
            "Cov. Estimator:            Unadjusted                                           \n",
            "                                        F-statistic:                   1.296e+04\n",
            "Entities:                       19899   P-value                           0.0000\n",
            "Avg Obs:                       9.8493   Distribution:                F(1,195960)\n",
            "Min Obs:                       1.0000                                           \n",
            "Max Obs:                       30.000   F-statistic (robust):          1.296e+04\n",
            "                                        P-value                           0.0000\n",
            "Time periods:                      31   Distribution:                F(1,195960)\n",
            "Avg Obs:                       6322.3                                           \n",
            "Min Obs:                       13.000                                           \n",
            "Max Obs:                       8583.0                                           \n",
            "                                                                                \n",
            "                             Parameter Estimates                              \n",
            "==============================================================================\n",
            "            Parameter  Std. Err.     T-stat    P-value    Lower CI    Upper CI\n",
            "------------------------------------------------------------------------------\n",
            "const          4.7125     0.0046     1029.1     0.0000      4.7035      4.7215\n",
            "npats          0.0314     0.0003     113.83     0.0000      0.0308      0.0319\n",
            "==============================================================================\n",
            "\n",
            "F-test for Poolability: 886.72\n",
            "P-value: 0.0000\n",
            "Distribution: F(30,195960)\n",
            "\n",
            "Included effects: Time\n"
          ],
          "name": "stdout"
        }
      ]
    },
    {
      "cell_type": "code",
      "metadata": {
        "id": "QkVKjA529huM",
        "colab_type": "code",
        "colab": {
          "base_uri": "https://localhost:8080/",
          "height": 612
        },
        "outputId": "44366f8f-0716-4e8a-fcdf-a6d53f5f9603"
      },
      "source": [
        "#With Firm Fixed Effects\n",
        "mod = fe(data2['log_cap1'], exog,  entity_effects=True)\n",
        "fe_firm = mod.fit()\n",
        "print(fe_firm)"
      ],
      "execution_count": 138,
      "outputs": [
        {
          "output_type": "stream",
          "text": [
            "/usr/local/lib/python3.6/dist-packages/linearmodels/utility.py:549: MissingValueWarning: \n",
            "Inputs contain missing values. Dropping rows with missing observations.\n",
            "  warnings.warn(missing_value_warning_msg, MissingValueWarning)\n"
          ],
          "name": "stderr"
        },
        {
          "output_type": "stream",
          "text": [
            "                          PanelOLS Estimation Summary                           \n",
            "================================================================================\n",
            "Dep. Variable:               log_cap1   R-squared:                        0.0067\n",
            "Estimator:                   PanelOLS   R-squared (Between):             -0.0084\n",
            "No. Observations:              195992   R-squared (Within):               0.0067\n",
            "Date:                Tue, Feb 11 2020   R-squared (Overall):              0.0305\n",
            "Time:                        13:39:32   Log-likelihood                -2.834e+05\n",
            "Cov. Estimator:            Unadjusted                                           \n",
            "                                        F-statistic:                      1184.3\n",
            "Entities:                       19899   P-value                           0.0000\n",
            "Avg Obs:                       9.8493   Distribution:                F(1,176092)\n",
            "Min Obs:                       1.0000                                           \n",
            "Max Obs:                       30.000   F-statistic (robust):             1184.3\n",
            "                                        P-value                           0.0000\n",
            "Time periods:                      31   Distribution:                F(1,176092)\n",
            "Avg Obs:                       6322.3                                           \n",
            "Min Obs:                       13.000                                           \n",
            "Max Obs:                       8583.0                                           \n",
            "                                                                                \n",
            "                             Parameter Estimates                              \n",
            "==============================================================================\n",
            "            Parameter  Std. Err.     T-stat    P-value    Lower CI    Upper CI\n",
            "------------------------------------------------------------------------------\n",
            "const          4.7696     0.0026     1860.2     0.0000      4.7645      4.7746\n",
            "npats          0.0099     0.0003     34.413     0.0000      0.0093      0.0104\n",
            "==============================================================================\n",
            "\n",
            "F-test for Poolability: 29.281\n",
            "P-value: 0.0000\n",
            "Distribution: F(19898,176092)\n",
            "\n",
            "Included effects: Entity\n"
          ],
          "name": "stdout"
        }
      ]
    },
    {
      "cell_type": "code",
      "metadata": {
        "id": "z_3szOOw7s3W",
        "colab_type": "code",
        "colab": {
          "base_uri": "https://localhost:8080/",
          "height": 612
        },
        "outputId": "c3ac3656-b7e2-4d72-a7d7-af8e9c33a478"
      },
      "source": [
        "#With Firm and Year Fixed Effects\n",
        "mod = fe(data2['log_cap1'], exog,  entity_effects=True, time_effects=True)\n",
        "fe_firm_year = mod.fit()\n",
        "print(fe_firm_year)"
      ],
      "execution_count": 139,
      "outputs": [
        {
          "output_type": "stream",
          "text": [
            "/usr/local/lib/python3.6/dist-packages/linearmodels/utility.py:549: MissingValueWarning: \n",
            "Inputs contain missing values. Dropping rows with missing observations.\n",
            "  warnings.warn(missing_value_warning_msg, MissingValueWarning)\n"
          ],
          "name": "stderr"
        },
        {
          "output_type": "stream",
          "text": [
            "                          PanelOLS Estimation Summary                           \n",
            "================================================================================\n",
            "Dep. Variable:               log_cap1   R-squared:                        0.0031\n",
            "Estimator:                   PanelOLS   R-squared (Between):             -0.0169\n",
            "No. Observations:              195992   R-squared (Within):               0.0057\n",
            "Date:                Tue, Feb 11 2020   R-squared (Overall):              0.0202\n",
            "Time:                        13:39:40   Log-likelihood                -2.663e+05\n",
            "Cov. Estimator:            Unadjusted                                           \n",
            "                                        F-statistic:                      539.86\n",
            "Entities:                       19899   P-value                           0.0000\n",
            "Avg Obs:                       9.8493   Distribution:                F(1,176062)\n",
            "Min Obs:                       1.0000                                           \n",
            "Max Obs:                       30.000   F-statistic (robust):             539.86\n",
            "                                        P-value                           0.0000\n",
            "Time periods:                      31   Distribution:                F(1,176062)\n",
            "Avg Obs:                       6322.3                                           \n",
            "Min Obs:                       13.000                                           \n",
            "Max Obs:                       8583.0                                           \n",
            "                                                                                \n",
            "                             Parameter Estimates                              \n",
            "==============================================================================\n",
            "            Parameter  Std. Err.     T-stat    P-value    Lower CI    Upper CI\n",
            "------------------------------------------------------------------------------\n",
            "const          4.7795     0.0024     2033.0     0.0000      4.7749      4.7841\n",
            "npats          0.0061     0.0003     23.235     0.0000      0.0056      0.0066\n",
            "==============================================================================\n",
            "\n",
            "F-test for Poolability: 36.485\n",
            "P-value: 0.0000\n",
            "Distribution: F(19928,176062)\n",
            "\n",
            "Included effects: Entity, Time\n"
          ],
          "name": "stdout"
        }
      ]
    },
    {
      "cell_type": "markdown",
      "metadata": {
        "id": "sp9QK1kNHyDP",
        "colab_type": "text"
      },
      "source": [
        "The coefficient is "
      ]
    },
    {
      "cell_type": "code",
      "metadata": {
        "id": "zte0-ZYEiKmi",
        "colab_type": "code",
        "colab": {
          "base_uri": "https://localhost:8080/",
          "height": 85
        },
        "outputId": "bd10370a-e478-4444-cbb8-8ab83f830d9d"
      },
      "source": [
        "print(\"Coefficient using Pooled ols:\",round(pooled_res.params[1],5))\n",
        "print(\"Coefficient using Year fixed effect ols:\",round(fe_year.params[1],5))\n",
        "print(\"Coefficient using Firm  fixed effect ols:\",round(fe_firm.params[1],5))\n",
        "print(\"Coefficient using Firm and Year fixed effect ols:\",round(fe_firm_year.params[1],5))\n"
      ],
      "execution_count": 140,
      "outputs": [
        {
          "output_type": "stream",
          "text": [
            "Coefficient using Pooled ols: 0.0326\n",
            "Coefficient using Year fixed effect ols: 0.03135\n",
            "Coefficient using Firm  fixed effect ols: 0.00986\n",
            "Coefficient using Firm and Year fixed effect ols: 0.00613\n"
          ],
          "name": "stdout"
        }
      ]
    },
    {
      "cell_type": "markdown",
      "metadata": {
        "colab_type": "text",
        "id": "8jHMTbyLHyDR"
      },
      "source": [
        "**9. Run a first difference regression of log market capitalization on the number of patents.**"
      ]
    },
    {
      "cell_type": "code",
      "metadata": {
        "id": "DNztbzoIHyDS",
        "colab_type": "code",
        "colab": {
          "base_uri": "https://localhost:8080/",
          "height": 564
        },
        "outputId": "b96f1dd7-b2e4-4dad-d236-7c8431287354"
      },
      "source": [
        "mod_firstdiff = data2.groupby('conm')[['log_cap1'] + exog_vars ].diff()\n",
        "exog = sm.add_constant(mod_firstdiff[exog_vars])\n",
        "mod = PooledOLS(mod_firstdiff['log_cap1'], exog)\n",
        "firstdiff = mod.fit()\n",
        "print(firstdiff)"
      ],
      "execution_count": 141,
      "outputs": [
        {
          "output_type": "stream",
          "text": [
            "/usr/local/lib/python3.6/dist-packages/numpy/core/fromnumeric.py:2495: FutureWarning: Method .ptp is deprecated and will be removed in a future version. Use numpy.ptp instead.\n",
            "  return ptp(axis=axis, out=out, **kwargs)\n",
            "/usr/local/lib/python3.6/dist-packages/linearmodels/utility.py:549: MissingValueWarning: \n",
            "Inputs contain missing values. Dropping rows with missing observations.\n",
            "  warnings.warn(missing_value_warning_msg, MissingValueWarning)\n"
          ],
          "name": "stderr"
        },
        {
          "output_type": "stream",
          "text": [
            "                          PooledOLS Estimation Summary                          \n",
            "================================================================================\n",
            "Dep. Variable:               log_cap1   R-squared:                     8.779e-05\n",
            "Estimator:                  PooledOLS   R-squared (Between):             -0.0165\n",
            "No. Observations:              176093   R-squared (Within):           -1.079e-05\n",
            "Date:                Tue, Feb 11 2020   R-squared (Overall):           8.779e-05\n",
            "Time:                        13:40:14   Log-likelihood                -2.363e+05\n",
            "Cov. Estimator:            Unadjusted                                           \n",
            "                                        F-statistic:                      15.461\n",
            "Entities:                       19840   P-value                           0.0001\n",
            "Avg Obs:                       8.8757   Distribution:                F(1,176091)\n",
            "Min Obs:                       1.0000                                           \n",
            "Max Obs:                       29.000   F-statistic (robust):             15.461\n",
            "                                        P-value                           0.0001\n",
            "Time periods:                      31   Distribution:                F(1,176091)\n",
            "Avg Obs:                       5680.4                                           \n",
            "Min Obs:                       12.000                                           \n",
            "Max Obs:                       7836.0                                           \n",
            "                                                                                \n",
            "                             Parameter Estimates                              \n",
            "==============================================================================\n",
            "            Parameter  Std. Err.     T-stat    P-value    Lower CI    Upper CI\n",
            "------------------------------------------------------------------------------\n",
            "const         -0.0042     0.0022    -1.9194     0.0549     -0.0086   8.963e-05\n",
            "npats          0.0018     0.0005     3.9321     0.0001      0.0009      0.0027\n",
            "==============================================================================\n"
          ],
          "name": "stdout"
        }
      ]
    },
    {
      "cell_type": "markdown",
      "metadata": {
        "id": "Q5Dizq_lHyDW",
        "colab_type": "text"
      },
      "source": [
        "The coefficient is "
      ]
    },
    {
      "cell_type": "code",
      "metadata": {
        "id": "506ld75C_nin",
        "colab_type": "code",
        "colab": {
          "base_uri": "https://localhost:8080/",
          "height": 34
        },
        "outputId": "bc6c6b9b-05c2-4c18-ef0c-689545072524"
      },
      "source": [
        "print(\"Coefficient using First Difference ols:\",round(firstdiff.params[1],5))"
      ],
      "execution_count": 142,
      "outputs": [
        {
          "output_type": "stream",
          "text": [
            "Coefficient using First Difference ols: 0.00183\n"
          ],
          "name": "stdout"
        }
      ]
    },
    {
      "cell_type": "markdown",
      "metadata": {
        "colab_type": "text",
        "id": "L4qMGXKeHyDY"
      },
      "source": [
        "**10. Using the average firm's market capitalization, what is the value of a patent?**\n",
        "\n",
        "Answer: Using OLS, the value of a patent is\n",
        "\n",
        "Using FE, the value of a patent is\n",
        "\n",
        "Using FD, the value of a patent is"
      ]
    },
    {
      "cell_type": "code",
      "metadata": {
        "id": "vwzuJlex_8Ix",
        "colab_type": "code",
        "colab": {
          "base_uri": "https://localhost:8080/",
          "height": 111
        },
        "outputId": "20f67142-818e-4285-a3e7-7a4ab40e932f"
      },
      "source": [
        "res = fe_firm_year.params\n",
        "res.name = 'FE_firm_year'\n",
        "res = res.to_frame() \n",
        "res['First_difference']= firstdiff.params \n",
        "res"
      ],
      "execution_count": 143,
      "outputs": [
        {
          "output_type": "execute_result",
          "data": {
            "text/html": [
              "<div>\n",
              "<style scoped>\n",
              "    .dataframe tbody tr th:only-of-type {\n",
              "        vertical-align: middle;\n",
              "    }\n",
              "\n",
              "    .dataframe tbody tr th {\n",
              "        vertical-align: top;\n",
              "    }\n",
              "\n",
              "    .dataframe thead th {\n",
              "        text-align: right;\n",
              "    }\n",
              "</style>\n",
              "<table border=\"1\" class=\"dataframe\">\n",
              "  <thead>\n",
              "    <tr style=\"text-align: right;\">\n",
              "      <th></th>\n",
              "      <th>FE_firm_year</th>\n",
              "      <th>First_difference</th>\n",
              "    </tr>\n",
              "  </thead>\n",
              "  <tbody>\n",
              "    <tr>\n",
              "      <th>const</th>\n",
              "      <td>4.779475</td>\n",
              "      <td>-0.004237</td>\n",
              "    </tr>\n",
              "    <tr>\n",
              "      <th>npats</th>\n",
              "      <td>0.006131</td>\n",
              "      <td>0.001826</td>\n",
              "    </tr>\n",
              "  </tbody>\n",
              "</table>\n",
              "</div>"
            ],
            "text/plain": [
              "       FE_firm_year  First_difference\n",
              "const      4.779475         -0.004237\n",
              "npats      0.006131          0.001826"
            ]
          },
          "metadata": {
            "tags": []
          },
          "execution_count": 143
        }
      ]
    },
    {
      "cell_type": "code",
      "metadata": {
        "id": "4YcjgOiqEdtU",
        "colab_type": "code",
        "colab": {
          "base_uri": "https://localhost:8080/",
          "height": 34
        },
        "outputId": "2d121f8c-bd29-42e5-8e4f-9f486c2831c0"
      },
      "source": [
        "(np.log(np.mean(market_cap)) - fe_firm_year.params[0])/fe_firm_year.params[1]"
      ],
      "execution_count": 144,
      "outputs": [
        {
          "output_type": "execute_result",
          "data": {
            "text/plain": [
              "359.4070942814854"
            ]
          },
          "metadata": {
            "tags": []
          },
          "execution_count": 144
        }
      ]
    },
    {
      "cell_type": "code",
      "metadata": {
        "id": "LIItxDwQFKlk",
        "colab_type": "code",
        "colab": {
          "base_uri": "https://localhost:8080/",
          "height": 34
        },
        "outputId": "16ea06c4-e189-4bcc-807a-1614af2c3d2a"
      },
      "source": [
        "(np.log(np.mean(market_cap)) - firstdiff.params[0])/firstdiff.params[1]"
      ],
      "execution_count": 145,
      "outputs": [
        {
          "output_type": "execute_result",
          "data": {
            "text/plain": [
              "3827.4889727537497"
            ]
          },
          "metadata": {
            "tags": []
          },
          "execution_count": 145
        }
      ]
    },
    {
      "cell_type": "markdown",
      "metadata": {
        "colab_type": "text",
        "id": "4SbqO4sGHyDZ"
      },
      "source": [
        "**11. Let's consider firms with only one patent (in all of the years), for which the patent could be more valuable.**"
      ]
    },
    {
      "cell_type": "code",
      "metadata": {
        "id": "UmSRZcIiHyDa",
        "colab_type": "code",
        "colab": {
          "base_uri": "https://localhost:8080/",
          "height": 238
        },
        "outputId": "8fc4d0dd-98e9-4e34-cbf5-e24f457fa237"
      },
      "source": [
        "#Restrict the sample to firms with single patent\n",
        "data3 = data2.loc[(data2['npats']==1)]\n",
        "data3.info()"
      ],
      "execution_count": 146,
      "outputs": [
        {
          "output_type": "stream",
          "text": [
            "<class 'pandas.core.frame.DataFrame'>\n",
            "MultiIndex: 10490 entries, (CABOT MEDICAL CORP, 1990) to (YUKON ENERGY CORP, 1989)\n",
            "Data columns (total 8 columns):\n",
            "index       10490 non-null int64\n",
            "permno      10490 non-null int64\n",
            "npats       10490 non-null int64\n",
            "xrd         10490 non-null float64\n",
            "csho        10490 non-null float64\n",
            "prcc_c      10490 non-null float64\n",
            "log_cap     10490 non-null float64\n",
            "log_cap1    10189 non-null float64\n",
            "dtypes: float64(5), int64(3)\n",
            "memory usage: 842.5+ KB\n"
          ],
          "name": "stdout"
        }
      ]
    },
    {
      "cell_type": "code",
      "metadata": {
        "id": "nzcxH5g9HyDe",
        "colab_type": "code",
        "colab": {
          "base_uri": "https://localhost:8080/",
          "height": 598
        },
        "outputId": "ea3f3f82-955b-4d74-a726-33b1e24a1040"
      },
      "source": [
        "#FE\n",
        "exog = sm.add_constant(data3[exog_vars])\n",
        "mod = fe(data3['log_cap'], exog, entity_effects=True)\n",
        "fe_firm = mod.fit()\n",
        "print(fe_firm)"
      ],
      "execution_count": 147,
      "outputs": [
        {
          "output_type": "stream",
          "text": [
            "                          PanelOLS Estimation Summary                           \n",
            "================================================================================\n",
            "Dep. Variable:                log_cap   R-squared:                        0.0000\n",
            "Estimator:                   PanelOLS   R-squared (Between):              0.0000\n",
            "No. Observations:               10490   R-squared (Within):               0.0000\n",
            "Date:                Tue, Feb 11 2020   R-squared (Overall):              0.0000\n",
            "Time:                        13:40:46   Log-likelihood                -1.067e+04\n",
            "Cov. Estimator:            Unadjusted                                           \n",
            "                                        F-statistic:                          --\n",
            "Entities:                       19935   P-value                               --\n",
            "Avg Obs:                       0.5262   Distribution:                         --\n",
            "Min Obs:                       0.0000                                           \n",
            "Max Obs:                       17.000   F-statistic (robust):                 --\n",
            "                                        P-value                               --\n",
            "Time periods:                      31   Distribution:                         --\n",
            "Avg Obs:                       338.39                                           \n",
            "Min Obs:                       232.00                                           \n",
            "Max Obs:                       449.00                                           \n",
            "                                                                                \n",
            "                             Parameter Estimates                              \n",
            "==============================================================================\n",
            "            Parameter  Std. Err.     T-stat    P-value    Lower CI    Upper CI\n",
            "------------------------------------------------------------------------------\n",
            "npats          4.8293     0.0085     568.65     0.0000      4.8126      4.8459\n",
            "==============================================================================\n",
            "\n",
            "F-test for Poolability: 12.638\n",
            "P-value: 0.0000\n",
            "Distribution: F(4284,6205)\n",
            "\n",
            "Included effects: Entity\n"
          ],
          "name": "stdout"
        },
        {
          "output_type": "stream",
          "text": [
            "/usr/local/lib/python3.6/dist-packages/numpy/core/fromnumeric.py:2495: FutureWarning: Method .ptp is deprecated and will be removed in a future version. Use numpy.ptp instead.\n",
            "  return ptp(axis=axis, out=out, **kwargs)\n"
          ],
          "name": "stderr"
        }
      ]
    },
    {
      "cell_type": "code",
      "metadata": {
        "id": "WFv31jkSHtMx",
        "colab_type": "code",
        "colab": {
          "base_uri": "https://localhost:8080/",
          "height": 547
        },
        "outputId": "a23a93db-5a5a-40a9-9d52-c29cd8cf2ac7"
      },
      "source": [
        "#FD\n",
        "data3 = data2.loc[(data2['npats']==1)]\n",
        "exog_vars = ['npats']\n",
        "mod_firstdiff = data3.groupby('conm')[['log_cap1'] + exog_vars ].diff()\n",
        "exog = sm.add_constant(data23[exog_vars])\n",
        "mod = PooledOLS(mod_firstdiff['log_cap1'], exog)\n",
        "firstdiff = mod.fit()\n",
        "print(firstdiff)"
      ],
      "execution_count": 148,
      "outputs": [
        {
          "output_type": "stream",
          "text": [
            "                          PooledOLS Estimation Summary                          \n",
            "================================================================================\n",
            "Dep. Variable:               log_cap1   R-squared:                        0.0000\n",
            "Estimator:                  PooledOLS   R-squared (Between):              0.0000\n",
            "No. Observations:                5970   R-squared (Within):               0.0000\n",
            "Date:                Tue, Feb 11 2020   R-squared (Overall):              0.0000\n",
            "Time:                        13:40:56   Log-likelihood                   -8331.5\n",
            "Cov. Estimator:            Unadjusted                                           \n",
            "                                        F-statistic:                          --\n",
            "Entities:                        2431   P-value                               --\n",
            "Avg Obs:                       2.4558   Distribution:                         --\n",
            "Min Obs:                       1.0000                                           \n",
            "Max Obs:                       16.000   F-statistic (robust):                 --\n",
            "                                        P-value                               --\n",
            "Time periods:                      29   Distribution:                         --\n",
            "Avg Obs:                       205.86                                           \n",
            "Min Obs:                       56.000                                           \n",
            "Max Obs:                       278.00                                           \n",
            "                                                                                \n",
            "                             Parameter Estimates                              \n",
            "==============================================================================\n",
            "            Parameter  Std. Err.     T-stat    P-value    Lower CI    Upper CI\n",
            "------------------------------------------------------------------------------\n",
            "npats          0.1668     0.0126     13.188     0.0000      0.1420      0.1915\n",
            "==============================================================================\n"
          ],
          "name": "stdout"
        },
        {
          "output_type": "stream",
          "text": [
            "/usr/local/lib/python3.6/dist-packages/numpy/core/fromnumeric.py:2495: FutureWarning: Method .ptp is deprecated and will be removed in a future version. Use numpy.ptp instead.\n",
            "  return ptp(axis=axis, out=out, **kwargs)\n",
            "/usr/local/lib/python3.6/dist-packages/linearmodels/utility.py:549: MissingValueWarning: \n",
            "Inputs contain missing values. Dropping rows with missing observations.\n",
            "  warnings.warn(missing_value_warning_msg, MissingValueWarning)\n"
          ],
          "name": "stderr"
        }
      ]
    },
    {
      "cell_type": "markdown",
      "metadata": {
        "id": "Flhko05EHyDn",
        "colab_type": "text"
      },
      "source": [
        "Answer: For the group of firms with a single patent,\n",
        "\n",
        "Using FE, the value of a patent is: 4.8293 \n",
        "\n",
        "Using FD, the value of a patent is: 0.1668"
      ]
    },
    {
      "cell_type": "markdown",
      "metadata": {
        "colab_type": "text",
        "id": "e-Rmd9rZHyDq"
      },
      "source": [
        "# 4. Predicting Sovereign Default"
      ]
    },
    {
      "cell_type": "markdown",
      "metadata": {
        "colab_type": "text",
        "id": "xltm0tyXHyDt"
      },
      "source": [
        "## Loading data\n",
        "\n",
        "In this exercise you will work with a dataset from World Bank from 1991 to 2017 to predict default of sovereign debt. "
      ]
    },
    {
      "cell_type": "code",
      "metadata": {
        "id": "R0zd7-x6HyDv",
        "colab_type": "code",
        "colab": {}
      },
      "source": [
        "data4 = pd.read_csv('https://drive.google.com/uc?export=download&id=1-SVgD876f1uq69814leAAU6lXoFRdX7K')\n",
        "data4.describe()"
      ],
      "execution_count": 0,
      "outputs": []
    },
    {
      "cell_type": "code",
      "metadata": {
        "id": "DVCdKzaKryBM",
        "colab_type": "code",
        "colab": {}
      },
      "source": [
        "data4.info()"
      ],
      "execution_count": 0,
      "outputs": []
    },
    {
      "cell_type": "markdown",
      "metadata": {
        "id": "gwfX8D5bHyD0",
        "colab_type": "text"
      },
      "source": [
        "## Variable List\n",
        "\n",
        "- Country: country name\n",
        "- Year: year of observation\n",
        "- default_RR: whether default (=1 if default)\n",
        "- Netforeignassets_currentLCU : Net Foreign Assets (current LCU)\n",
        "- Inflationconsumerprices_annualpc : Inflation (annual % change in CPI)\n",
        "- Externalbalanceongoodsandservice : External Trade Balance (% of GDP)\n",
        "- Currentaccountbalance_BoPcurrent : Current Account Balance (current USD)\n",
        "- Nettradeingoodsandservices_BoPcu : Balance of Payments (current USD)\n",
        "- Unemploymenttotal_pctoftotallabo : Unemployment (% of labor force)\n",
        "- DGDP : Real GDP Growth (YOY % change)\n",
        "- RYPC : Real GDP per capita growth (annual % change)\n",
        "- CGEB : Change in Net Exports (% of GDP)\n",
        "- PSBR : Central Government Balance (% of GDP)\n",
        "- BINT : Interest Payments on Government Debt (% of GDP)\n",
        "- PUDP : Total Debt owed by Government to Domestic and Foreign Creditors (% of GDP)\n",
        "- SODD : Bank Lending to Public and Private Sectors (annual % change)\n",
        "- CARA : Current Account Balance (% of GDP)\n",
        "- IRTD : Total International Reserves (% of external debt stock)\n",
        "- TDPX : Total External Debt Stock (% of exports)\n",
        "- TDPY : Total External Debt (% of GDP)\n",
        "- TSPY : Total External Debt Service Paid (% of GDP)\n",
        "- INPS : Total Interest Payments made on External Debt (% of total debt service paid)\n",
        "- INPY : Total Interest Payments made on External Debt (% of GDP)\n",
        "- XRRE : Real Effective Exchange Rate (weighted by trade)\n"
      ]
    },
    {
      "cell_type": "code",
      "metadata": {
        "id": "dqdsjuEDHyD1",
        "colab_type": "code",
        "colab": {}
      },
      "source": [
        "from statsmodels.formula.api import logit\n",
        "from statsmodels.formula.api import probit\n",
        "from statsmodels.formula.api import ols\n",
        "from sklearn.utils import resample \n",
        "import scipy.stats\n",
        "import sklearn.metrics as sklm"
      ],
      "execution_count": 0,
      "outputs": []
    },
    {
      "cell_type": "markdown",
      "metadata": {
        "colab_type": "text",
        "id": "W5XhvFNBHyD8"
      },
      "source": [
        "**1. Split the data into a training sample (before 2010) and a test sample (2010 and afterwards).**"
      ]
    },
    {
      "cell_type": "code",
      "metadata": {
        "id": "CBu4OzKMHyD9",
        "colab_type": "code",
        "colab": {}
      },
      "source": [
        "train = data4.loc[(data4['Year']<2010)]\n",
        "test =  data4.loc[(data4['Year']>=2010)]"
      ],
      "execution_count": 0,
      "outputs": []
    },
    {
      "cell_type": "markdown",
      "metadata": {
        "id": "NKesIn5dHyEB",
        "colab_type": "text"
      },
      "source": [
        "**Fit an OLS model to the training sample and predict the default in the test sample.**"
      ]
    },
    {
      "cell_type": "code",
      "metadata": {
        "id": "F3CocWAyHyEC",
        "colab_type": "code",
        "colab": {
          "base_uri": "https://localhost:8080/",
          "height": 816
        },
        "outputId": "a57966fc-a9f6-407e-97aa-3c78584d8757"
      },
      "source": [
        "formula = 'default_RR ~ Netforeignassets_currentLCU + Inflationconsumerprices_annualpc + Externalbalanceongoodsandservice + Currentaccountbalance_BoPcurrent + Nettradeingoodsandservices_BoPcu + Unemploymenttotal_pctoftotallabo + DGDP + RYPC + CGEB + PSBR + BINT + PUDP + SODD + CARA + IRTD + TDPX + TDPY + TSPY + INPS + INPY + XRRE'\n",
        "results_ols = ols(formula, test).fit()\n",
        "print(results_ols.summary())"
      ],
      "execution_count": 194,
      "outputs": [
        {
          "output_type": "stream",
          "text": [
            "                            OLS Regression Results                            \n",
            "==============================================================================\n",
            "Dep. Variable:             default_RR   R-squared:                       1.000\n",
            "Model:                            OLS   Adj. R-squared:                  1.000\n",
            "Method:                 Least Squares   F-statistic:                 7.000e+13\n",
            "Date:                Tue, 11 Feb 2020   Prob (F-statistic):               0.00\n",
            "Time:                        15:13:17   Log-Likelihood:                 8175.1\n",
            "No. Observations:                 496   AIC:                        -1.631e+04\n",
            "Df Residuals:                     476   BIC:                        -1.623e+04\n",
            "Df Model:                          19                                         \n",
            "Covariance Type:            nonrobust                                         \n",
            "====================================================================================================\n",
            "                                       coef    std err          t      P>|t|      [0.025      0.975]\n",
            "----------------------------------------------------------------------------------------------------\n",
            "Intercept                            0.0152   4.15e-09   3.65e+06      0.000       0.015       0.015\n",
            "Netforeignassets_currentLCU       6.384e-18   4.65e-24   1.37e+06      0.000    6.38e-18    6.38e-18\n",
            "Inflationconsumerprices_annualpc     0.0027   1.33e-10   2.06e+07      0.000       0.003       0.003\n",
            "Externalbalanceongoodsandservice     0.0002   1.16e-10   1.67e+06      0.000       0.000       0.000\n",
            "Currentaccountbalance_BoPcurrent  1.821e-13   6.91e-20   2.63e+06      0.000    1.82e-13    1.82e-13\n",
            "Nettradeingoodsandservices_BoPcu -1.218e-13   5.91e-20  -2.06e+06      0.000   -1.22e-13   -1.22e-13\n",
            "Unemploymenttotal_pctoftotallabo -2.375e-05   1.48e-10  -1.61e+05      0.000   -2.38e-05   -2.38e-05\n",
            "DGDP                                 0.0015   7.36e-10   1.97e+06      0.000       0.001       0.001\n",
            "RYPC                                -0.0061    7.2e-10  -8.47e+06      0.000      -0.006      -0.006\n",
            "CGEB                                 0.0009    1.5e-10   6.07e+06      0.000       0.001       0.001\n",
            "PSBR                                 0.0046   3.23e-10   1.44e+07      0.000       0.005       0.005\n",
            "BINT                                 0.0006   1.49e-10   3.86e+06      0.000       0.001       0.001\n",
            "PUDP                                 0.0001   4.96e-11   2.95e+06      0.000       0.000       0.000\n",
            "SODD                              4.094e-05   8.94e-12   4.58e+06      0.000    4.09e-05    4.09e-05\n",
            "CARA                                -0.0005   1.65e-10  -3.28e+06      0.000      -0.001      -0.001\n",
            "IRTD                             -2.635e-06   2.39e-12   -1.1e+06      0.000   -2.63e-06   -2.63e-06\n",
            "TDPX                                -0.0001   1.06e-11  -1.05e+07      0.000      -0.000      -0.000\n",
            "TDPY                             -6.936e-05   3.39e-11  -2.05e+06      0.000   -6.94e-05   -6.94e-05\n",
            "TSPY                                 0.0006    1.9e-10   3.35e+06      0.000       0.001       0.001\n",
            "INPS                             -2.771e-05   7.81e-11  -3.55e+05      0.000   -2.77e-05   -2.77e-05\n",
            "INPY                                 0.0106   1.28e-09   8.31e+06      0.000       0.011       0.011\n",
            "XRRE                             -3.671e-05   9.43e-12  -3.89e+06      0.000   -3.67e-05   -3.67e-05\n",
            "==============================================================================\n",
            "Omnibus:                      454.679   Durbin-Watson:                   0.343\n",
            "Prob(Omnibus):                  0.000   Jarque-Bera (JB):            15322.097\n",
            "Skew:                           3.927   Prob(JB):                         0.00\n",
            "Kurtosis:                      29.071   Cond. No.                     9.59e+14\n",
            "==============================================================================\n",
            "\n",
            "Warnings:\n",
            "[1] Standard Errors assume that the covariance matrix of the errors is correctly specified.\n",
            "[2] The condition number is large, 9.59e+14. This might indicate that there are\n",
            "strong multicollinearity or other numerical problems.\n"
          ],
          "name": "stdout"
        }
      ]
    },
    {
      "cell_type": "code",
      "metadata": {
        "id": "A3IUYfKCv64n",
        "colab_type": "code",
        "colab": {
          "base_uri": "https://localhost:8080/",
          "height": 170
        },
        "outputId": "32c0cccc-4a6b-472c-e969-c4e8e9be07d1"
      },
      "source": [
        "exog_var=['Netforeignassets_currentLCU','Inflationconsumerprices_annualpc','Externalbalanceongoodsandservice','Currentaccountbalance_BoPcurrent','Nettradeingoodsandservices_BoPcu','Unemploymenttotal_pctoftotallabo','DGDP','RYPC','CGEB','PSBR','BINT','PUDP','SODD','CARA','IRTD','TDPX','TDPY','TSPY','INPS','INPY','XRRE']\n",
        "test_predict=results_ols.predict(test[exog_var])\n",
        "test_predict.describe()"
      ],
      "execution_count": 195,
      "outputs": [
        {
          "output_type": "execute_result",
          "data": {
            "text/plain": [
              "count    496.000000\n",
              "mean       0.010081\n",
              "std        0.028134\n",
              "min       -0.063619\n",
              "25%       -0.006434\n",
              "50%        0.006555\n",
              "75%        0.021014\n",
              "max        0.239043\n",
              "dtype: float64"
            ]
          },
          "metadata": {
            "tags": []
          },
          "execution_count": 195
        }
      ]
    },
    {
      "cell_type": "markdown",
      "metadata": {
        "id": "VQSXu0CAHyEH",
        "colab_type": "text"
      },
      "source": [
        "**What is the problem with the predicted value of default?**\n",
        "\n",
        "Answer: Value of default should vary between one and zero. However, with this model the dependent variable takes on negative values of prediction term 'default_rr'. Also, with this model there exists strong multicolinearity"
      ]
    },
    {
      "cell_type": "markdown",
      "metadata": {
        "colab_type": "text",
        "id": "17HXFQN1HyEK"
      },
      "source": [
        "**2. Estimate a logit model for the training sample and use bootstrap to get the standard errors of coefficients.**"
      ]
    },
    {
      "cell_type": "code",
      "metadata": {
        "id": "_ew-Mu01HyEL",
        "colab_type": "code",
        "colab": {
          "base_uri": "https://localhost:8080/",
          "height": 663
        },
        "outputId": "7162faa4-cc74-4b14-f1ac-df744d25c146"
      },
      "source": [
        "results_logit = logit(formula, train).fit()\n",
        "print(results_logit.summary())"
      ],
      "execution_count": 196,
      "outputs": [
        {
          "output_type": "stream",
          "text": [
            "Optimization terminated successfully.\n",
            "         Current function value: 0.079749\n",
            "         Iterations 12\n",
            "                           Logit Regression Results                           \n",
            "==============================================================================\n",
            "Dep. Variable:             default_RR   No. Observations:                  773\n",
            "Model:                          Logit   Df Residuals:                      760\n",
            "Method:                           MLE   Df Model:                           12\n",
            "Date:                Tue, 11 Feb 2020   Pseudo R-squ.:                  0.1668\n",
            "Time:                        15:13:44   Log-Likelihood:                -61.646\n",
            "converged:                       True   LL-Null:                       -73.987\n",
            "Covariance Type:            nonrobust   LLR p-value:                   0.01641\n",
            "====================================================================================================\n",
            "                                       coef    std err          z      P>|z|      [0.025      0.975]\n",
            "----------------------------------------------------------------------------------------------------\n",
            "Intercept                           -3.2338      2.017     -1.604      0.109      -7.186       0.719\n",
            "Netforeignassets_currentLCU       4.208e-15   3.21e-15      1.313      0.189   -2.08e-15    1.05e-14\n",
            "Inflationconsumerprices_annualpc    -0.0029      0.024     -0.118      0.906      -0.050       0.045\n",
            "Externalbalanceongoodsandservice     0.0429      0.050      0.857      0.392      -0.055       0.141\n",
            "Currentaccountbalance_BoPcurrent   5.94e-11   8.19e-11      0.725      0.468   -1.01e-10     2.2e-10\n",
            "Nettradeingoodsandservices_BoPcu -1.684e-11   6.81e-11     -0.247      0.805    -1.5e-10    1.17e-10\n",
            "Unemploymenttotal_pctoftotallabo    -0.0126      0.060     -0.208      0.835      -0.131       0.106\n",
            "DGDP                                -0.0756      0.207     -0.365      0.715      -0.482       0.331\n",
            "RYPC                                 0.0621      0.195      0.318      0.750      -0.321       0.445\n",
            "CGEB                                 0.0177      0.031      0.570      0.569      -0.043       0.078\n",
            "PSBR                                -0.0252      0.070     -0.360      0.719      -0.162       0.112\n",
            "BINT                                -0.0004      0.017     -0.024      0.981      -0.034       0.033\n",
            "PUDP                                 0.0225      0.010      2.148      0.032       0.002       0.043\n",
            "SODD                                -0.0019      0.015     -0.122      0.903      -0.032       0.028\n",
            "CARA                                 0.0072      0.066      0.109      0.913      -0.123       0.137\n",
            "IRTD                                -0.0457      0.024     -1.923      0.055      -0.092       0.001\n",
            "TDPX                                -0.0018      0.003     -0.574      0.566      -0.008       0.004\n",
            "TDPY                                -0.0090      0.016     -0.556      0.578      -0.041       0.023\n",
            "TSPY                                -0.0669      0.145     -0.462      0.644      -0.351       0.217\n",
            "INPS                                -0.0170      0.039     -0.436      0.663      -0.093       0.059\n",
            "INPY                                 0.3865      0.474      0.816      0.414      -0.542       1.315\n",
            "XRRE                                 0.0032      0.003      1.262      0.207      -0.002       0.008\n",
            "====================================================================================================\n"
          ],
          "name": "stdout"
        }
      ]
    },
    {
      "cell_type": "markdown",
      "metadata": {
        "colab_type": "text",
        "id": "hEbcl_vSHyEQ"
      },
      "source": [
        "**3. Calculate the marginal effect for Total International Reserves (“irtd”) based on the logit model.**"
      ]
    },
    {
      "cell_type": "code",
      "metadata": {
        "id": "tRoa7Mi1HyET",
        "colab_type": "code",
        "colab": {
          "base_uri": "https://localhost:8080/",
          "height": 563
        },
        "outputId": "fd18c64f-e9b3-434d-d3f4-c63b28a4f7f7"
      },
      "source": [
        "# marginal effect\n",
        "results.get_margeff(at='mean', method='dydx', atexog='IRTD', dummy=False).summary()"
      ],
      "execution_count": 156,
      "outputs": [
        {
          "output_type": "execute_result",
          "data": {
            "text/html": [
              "<table class=\"simpletable\">\n",
              "<caption>Logit Marginal Effects</caption>\n",
              "<tr>\n",
              "  <th>Dep. Variable:</th> <td>default_RR</td>\n",
              "</tr>\n",
              "<tr>\n",
              "  <th>Method:</th>           <td>dydx</td>   \n",
              "</tr>\n",
              "<tr>\n",
              "  <th>At:</th>               <td>mean</td>   \n",
              "</tr>\n",
              "</table>\n",
              "<table class=\"simpletable\">\n",
              "<tr>\n",
              "                  <th></th>                    <th>dy/dx</th>    <th>std err</th>      <th>z</th>      <th>P>|z|</th>  <th>[0.025</th>    <th>0.975]</th>  \n",
              "</tr>\n",
              "<tr>\n",
              "  <th>Netforeignassets_currentLCU</th>      <td> 1.897e-17</td> <td> 1.83e-17</td> <td>    1.035</td> <td> 0.301</td> <td> -1.7e-17</td> <td> 5.49e-17</td>\n",
              "</tr>\n",
              "<tr>\n",
              "  <th>Inflationconsumerprices_annualpc</th> <td>-1.289e-05</td> <td>    0.000</td> <td>   -0.118</td> <td> 0.906</td> <td>   -0.000</td> <td>    0.000</td>\n",
              "</tr>\n",
              "<tr>\n",
              "  <th>Externalbalanceongoodsandservice</th> <td>    0.0002</td> <td>    0.000</td> <td>    0.711</td> <td> 0.477</td> <td>   -0.000</td> <td>    0.001</td>\n",
              "</tr>\n",
              "<tr>\n",
              "  <th>Currentaccountbalance_BoPcurrent</th> <td> 2.678e-13</td> <td> 3.77e-13</td> <td>    0.711</td> <td> 0.477</td> <td> -4.7e-13</td> <td> 1.01e-12</td>\n",
              "</tr>\n",
              "<tr>\n",
              "  <th>Nettradeingoodsandservices_BoPcu</th> <td>-7.592e-14</td> <td> 3.09e-13</td> <td>   -0.246</td> <td> 0.806</td> <td>-6.81e-13</td> <td> 5.29e-13</td>\n",
              "</tr>\n",
              "<tr>\n",
              "  <th>Unemploymenttotal_pctoftotallabo</th> <td>-5.661e-05</td> <td>    0.000</td> <td>   -0.209</td> <td> 0.834</td> <td>   -0.001</td> <td>    0.000</td>\n",
              "</tr>\n",
              "<tr>\n",
              "  <th>DGDP</th>                             <td>   -0.0003</td> <td>    0.001</td> <td>   -0.354</td> <td> 0.723</td> <td>   -0.002</td> <td>    0.002</td>\n",
              "</tr>\n",
              "<tr>\n",
              "  <th>RYPC</th>                             <td>    0.0003</td> <td>    0.001</td> <td>    0.312</td> <td> 0.755</td> <td>   -0.001</td> <td>    0.002</td>\n",
              "</tr>\n",
              "<tr>\n",
              "  <th>CGEB</th>                             <td>  7.96e-05</td> <td>    0.000</td> <td>    0.521</td> <td> 0.602</td> <td>   -0.000</td> <td>    0.000</td>\n",
              "</tr>\n",
              "<tr>\n",
              "  <th>PSBR</th>                             <td>   -0.0001</td> <td>    0.000</td> <td>   -0.363</td> <td> 0.716</td> <td>   -0.001</td> <td>    0.000</td>\n",
              "</tr>\n",
              "<tr>\n",
              "  <th>BINT</th>                             <td>-1.835e-06</td> <td> 7.68e-05</td> <td>   -0.024</td> <td> 0.981</td> <td>   -0.000</td> <td>    0.000</td>\n",
              "</tr>\n",
              "<tr>\n",
              "  <th>PUDP</th>                             <td>    0.0001</td> <td> 8.26e-05</td> <td>    1.229</td> <td> 0.219</td> <td>-6.04e-05</td> <td>    0.000</td>\n",
              "</tr>\n",
              "<tr>\n",
              "  <th>SODD</th>                             <td>-8.393e-06</td> <td> 6.89e-05</td> <td>   -0.122</td> <td> 0.903</td> <td>   -0.000</td> <td>    0.000</td>\n",
              "</tr>\n",
              "<tr>\n",
              "  <th>CARA</th>                             <td> 3.268e-05</td> <td>    0.000</td> <td>    0.111</td> <td> 0.912</td> <td>   -0.001</td> <td>    0.001</td>\n",
              "</tr>\n",
              "<tr>\n",
              "  <th>IRTD</th>                             <td>   -0.0002</td> <td> 8.04e-05</td> <td>   -2.560</td> <td> 0.010</td> <td>   -0.000</td> <td>-4.83e-05</td>\n",
              "</tr>\n",
              "<tr>\n",
              "  <th>TDPX</th>                             <td>-8.064e-06</td> <td> 1.44e-05</td> <td>   -0.562</td> <td> 0.574</td> <td>-3.62e-05</td> <td> 2.01e-05</td>\n",
              "</tr>\n",
              "<tr>\n",
              "  <th>TDPY</th>                             <td>-4.062e-05</td> <td>  7.7e-05</td> <td>   -0.528</td> <td> 0.598</td> <td>   -0.000</td> <td>    0.000</td>\n",
              "</tr>\n",
              "<tr>\n",
              "  <th>TSPY</th>                             <td>   -0.0003</td> <td>    0.001</td> <td>   -0.432</td> <td> 0.666</td> <td>   -0.002</td> <td>    0.001</td>\n",
              "</tr>\n",
              "<tr>\n",
              "  <th>INPS</th>                             <td>-7.646e-05</td> <td>    0.000</td> <td>   -0.426</td> <td> 0.670</td> <td>   -0.000</td> <td>    0.000</td>\n",
              "</tr>\n",
              "<tr>\n",
              "  <th>INPY</th>                             <td>    0.0017</td> <td>    0.002</td> <td>    0.700</td> <td> 0.484</td> <td>   -0.003</td> <td>    0.007</td>\n",
              "</tr>\n",
              "<tr>\n",
              "  <th>XRRE</th>                             <td>  1.44e-05</td> <td> 1.57e-05</td> <td>    0.915</td> <td> 0.360</td> <td>-1.65e-05</td> <td> 4.53e-05</td>\n",
              "</tr>\n",
              "</table>"
            ],
            "text/plain": [
              "<class 'statsmodels.iolib.summary.Summary'>\n",
              "\"\"\"\n",
              "        Logit Marginal Effects       \n",
              "=====================================\n",
              "Dep. Variable:             default_RR\n",
              "Method:                          dydx\n",
              "At:                              mean\n",
              "====================================================================================================\n",
              "                                      dy/dx    std err          z      P>|z|      [0.025      0.975]\n",
              "----------------------------------------------------------------------------------------------------\n",
              "Netforeignassets_currentLCU       1.897e-17   1.83e-17      1.035      0.301    -1.7e-17    5.49e-17\n",
              "Inflationconsumerprices_annualpc -1.289e-05      0.000     -0.118      0.906      -0.000       0.000\n",
              "Externalbalanceongoodsandservice     0.0002      0.000      0.711      0.477      -0.000       0.001\n",
              "Currentaccountbalance_BoPcurrent  2.678e-13   3.77e-13      0.711      0.477    -4.7e-13    1.01e-12\n",
              "Nettradeingoodsandservices_BoPcu -7.592e-14   3.09e-13     -0.246      0.806   -6.81e-13    5.29e-13\n",
              "Unemploymenttotal_pctoftotallabo -5.661e-05      0.000     -0.209      0.834      -0.001       0.000\n",
              "DGDP                                -0.0003      0.001     -0.354      0.723      -0.002       0.002\n",
              "RYPC                                 0.0003      0.001      0.312      0.755      -0.001       0.002\n",
              "CGEB                               7.96e-05      0.000      0.521      0.602      -0.000       0.000\n",
              "PSBR                                -0.0001      0.000     -0.363      0.716      -0.001       0.000\n",
              "BINT                             -1.835e-06   7.68e-05     -0.024      0.981      -0.000       0.000\n",
              "PUDP                                 0.0001   8.26e-05      1.229      0.219   -6.04e-05       0.000\n",
              "SODD                             -8.393e-06   6.89e-05     -0.122      0.903      -0.000       0.000\n",
              "CARA                              3.268e-05      0.000      0.111      0.912      -0.001       0.001\n",
              "IRTD                                -0.0002   8.04e-05     -2.560      0.010      -0.000   -4.83e-05\n",
              "TDPX                             -8.064e-06   1.44e-05     -0.562      0.574   -3.62e-05    2.01e-05\n",
              "TDPY                             -4.062e-05    7.7e-05     -0.528      0.598      -0.000       0.000\n",
              "TSPY                                -0.0003      0.001     -0.432      0.666      -0.002       0.001\n",
              "INPS                             -7.646e-05      0.000     -0.426      0.670      -0.000       0.000\n",
              "INPY                                 0.0017      0.002      0.700      0.484      -0.003       0.007\n",
              "XRRE                               1.44e-05   1.57e-05      0.915      0.360   -1.65e-05    4.53e-05\n",
              "====================================================================================================\n",
              "\"\"\""
            ]
          },
          "metadata": {
            "tags": []
          },
          "execution_count": 156
        }
      ]
    },
    {
      "cell_type": "markdown",
      "metadata": {
        "colab_type": "text",
        "id": "zhb8OjZcHyEW"
      },
      "source": [
        "**4. Estimate a probit model for the training sample and use bootstrap to get the standard errors of coefficients.**"
      ]
    },
    {
      "cell_type": "code",
      "metadata": {
        "id": "cdURb6WvHyEY",
        "colab_type": "code",
        "colab": {}
      },
      "source": [
        "def probit_wrap(formula, moddata):\n",
        "    return probit(formula, moddata).fit()"
      ],
      "execution_count": 0,
      "outputs": []
    },
    {
      "cell_type": "code",
      "metadata": {
        "id": "PhThRexZ2Dye",
        "colab_type": "code",
        "colab": {}
      },
      "source": [
        "# a function to run bootstraping with given number of iterations for given model\n",
        "\n",
        "def bootstrap_with_model(func, nrep, formula, moddata):\n",
        "    # func - input model function\n",
        "    # nrep - number of iterations\n",
        "    # formula - given formula for the model, required by statsmodels.formula.api\n",
        "    # moddata - data used to run the model\n",
        "    \n",
        "    mod = func(formula, moddata)\n",
        "    \n",
        "    # store parameters of model without bootstrapping\n",
        "    params0 = mod.params\n",
        "\n",
        "    params0.name = 'Observed coef.'\n",
        "\n",
        "    # run bootstrap with nrep number of iterations \n",
        "    # store parameters of each iteration as pd.Series in the list, params_list\n",
        "    # params_list will be used to concatenate all pd.Series in a more efficient way by pd.concat than pd.append\n",
        "    params_list = []\n",
        "\n",
        "    for i in range(nrep):\n",
        "        data_bs = resample(moddata, replace=True)\n",
        "\n",
        "        temp_n = func(formula, data_bs).params\n",
        "\n",
        "        params_list.append(temp_n)\n",
        "\n",
        "        i+=1\n",
        "\n",
        "    params = pd.concat(params_list, axis=1)\n",
        "\n",
        "    # find standard erros\n",
        "    errors = params.sub(params.mean(axis=1), axis=0)\n",
        "\n",
        "    se = np.sqrt(((errors**2).sum(axis=1))/(nrep-1))\n",
        "\n",
        "    se.name = 'Bootstrap Std. Err.'\n",
        "\n",
        "    # find z score\n",
        "    z = params0/se\n",
        "\n",
        "    z.name = 'z'\n",
        "    \n",
        "    # find p-value\n",
        "    p_values = scipy.stats.norm.sf(abs(z))*2\n",
        "\n",
        "    p_values = pd.Series(np.round(p_values, 3), index=z.index, name='P>|z|')\n",
        "    \n",
        "    # find 95% confidence interval\n",
        "    CI = scipy.stats.norm.interval(0.95, loc=params0, scale=se)\n",
        "\n",
        "    CI_lower = pd.Series(CI[0], index=z.index, name='95% CI,lower')\n",
        "\n",
        "    CI_high = pd.Series(CI[1], index=z.index, name='95% CI,high')\n",
        "    \n",
        "    # return:\n",
        "    #    mod - the model run without bootstrapping, used for marginal effects later\n",
        "    #    pd.concat returns the result table\n",
        "    return mod, pd.concat([params0, se, z, p_values, CI_lower, CI_high], axis=1)"
      ],
      "execution_count": 0,
      "outputs": []
    },
    {
      "cell_type": "code",
      "metadata": {
        "id": "dRZZd0Fc3VVA",
        "colab_type": "code",
        "colab": {
          "base_uri": "https://localhost:8080/",
          "height": 1000
        },
        "outputId": "4ded761b-21fc-47df-af17-23cdfb9af581"
      },
      "source": [
        "equation = 'default_RR ~ Netforeignassets_currentLCU + Inflationconsumerprices_annualpc + Externalbalanceongoodsandservice + Currentaccountbalance_BoPcurrent + Nettradeingoodsandservices_BoPcu + Unemploymenttotal_pctoftotallabo + DGDP + RYPC + CGEB + PSBR + BINT + PUDP + SODD + CARA + IRTD + TDPX + TDPY + TSPY + INPS + INPY + XRRE'\n",
        "probit, result_probit = bootstrap_with_model(probit_wrap, 50, equation, train)"
      ],
      "execution_count": 165,
      "outputs": [
        {
          "output_type": "stream",
          "text": [
            "Optimization terminated successfully.\n",
            "         Current function value: 0.079613\n",
            "         Iterations 11\n",
            "Optimization terminated successfully.\n",
            "         Current function value: 0.064167\n",
            "         Iterations 11\n",
            "Optimization terminated successfully.\n",
            "         Current function value: 0.048737\n",
            "         Iterations 12\n",
            "Optimization terminated successfully.\n",
            "         Current function value: 0.067346\n",
            "         Iterations 17\n",
            "Optimization terminated successfully.\n",
            "         Current function value: 0.050051\n",
            "         Iterations 12\n",
            "Optimization terminated successfully.\n",
            "         Current function value: 0.049951\n",
            "         Iterations 17\n",
            "Optimization terminated successfully.\n",
            "         Current function value: 0.051092\n",
            "         Iterations 11\n",
            "Optimization terminated successfully.\n",
            "         Current function value: 0.066657\n",
            "         Iterations 10\n",
            "Optimization terminated successfully.\n",
            "         Current function value: 0.086574\n",
            "         Iterations 13\n",
            "Optimization terminated successfully.\n",
            "         Current function value: 0.063953\n",
            "         Iterations 11\n",
            "Optimization terminated successfully.\n",
            "         Current function value: 0.049235\n",
            "         Iterations 18\n",
            "Optimization terminated successfully.\n",
            "         Current function value: 0.078436\n",
            "         Iterations 12\n",
            "Optimization terminated successfully.\n",
            "         Current function value: 0.077519\n",
            "         Iterations 11\n",
            "Optimization terminated successfully.\n",
            "         Current function value: 0.065949\n",
            "         Iterations 11\n",
            "Optimization terminated successfully.\n",
            "         Current function value: 0.080249\n",
            "         Iterations 11\n",
            "Optimization terminated successfully.\n",
            "         Current function value: 0.062177\n",
            "         Iterations 11\n",
            "Optimization terminated successfully.\n",
            "         Current function value: 0.067787\n",
            "         Iterations 11\n",
            "Optimization terminated successfully.\n",
            "         Current function value: 0.053630\n",
            "         Iterations 13\n",
            "Optimization terminated successfully.\n",
            "         Current function value: 0.093987\n",
            "         Iterations 10\n",
            "Optimization terminated successfully.\n",
            "         Current function value: 0.048832\n",
            "         Iterations 12\n",
            "Optimization terminated successfully.\n",
            "         Current function value: 0.060639\n",
            "         Iterations 17\n",
            "Optimization terminated successfully.\n",
            "         Current function value: 0.080787\n",
            "         Iterations 11\n",
            "Optimization terminated successfully.\n",
            "         Current function value: 0.055347\n",
            "         Iterations 12\n",
            "Optimization terminated successfully.\n",
            "         Current function value: 0.019724\n",
            "         Iterations 15\n",
            "Optimization terminated successfully.\n",
            "         Current function value: 0.069743\n",
            "         Iterations 11\n",
            "Optimization terminated successfully.\n",
            "         Current function value: 0.072874\n",
            "         Iterations 11\n",
            "Optimization terminated successfully.\n",
            "         Current function value: 0.076585\n",
            "         Iterations 12\n",
            "Optimization terminated successfully.\n",
            "         Current function value: 0.083331\n",
            "         Iterations 11\n",
            "Optimization terminated successfully.\n",
            "         Current function value: 0.082333\n",
            "         Iterations 11\n",
            "Optimization terminated successfully.\n",
            "         Current function value: 0.032708\n",
            "         Iterations 15\n",
            "Optimization terminated successfully.\n",
            "         Current function value: 0.078177\n",
            "         Iterations 10\n",
            "Optimization terminated successfully.\n",
            "         Current function value: 0.076422\n",
            "         Iterations 12\n",
            "Optimization terminated successfully.\n",
            "         Current function value: 0.043053\n",
            "         Iterations 12\n",
            "Optimization terminated successfully.\n",
            "         Current function value: 0.065235\n",
            "         Iterations 11\n",
            "Optimization terminated successfully.\n",
            "         Current function value: 0.058036\n",
            "         Iterations 11\n",
            "Optimization terminated successfully.\n",
            "         Current function value: 0.092127\n",
            "         Iterations 10\n",
            "Optimization terminated successfully.\n",
            "         Current function value: 0.033767\n",
            "         Iterations 13\n",
            "Optimization terminated successfully.\n",
            "         Current function value: 0.110675\n",
            "         Iterations 11\n",
            "Optimization terminated successfully.\n",
            "         Current function value: 0.077899\n",
            "         Iterations 11\n",
            "Optimization terminated successfully.\n",
            "         Current function value: 0.066834\n",
            "         Iterations 13\n",
            "Optimization terminated successfully.\n",
            "         Current function value: 0.066911\n",
            "         Iterations 11\n",
            "Optimization terminated successfully.\n",
            "         Current function value: 0.082772\n",
            "         Iterations 11\n",
            "Optimization terminated successfully.\n",
            "         Current function value: 0.055232\n",
            "         Iterations 10\n",
            "Optimization terminated successfully.\n",
            "         Current function value: 0.065255\n",
            "         Iterations 11\n",
            "Optimization terminated successfully.\n",
            "         Current function value: 0.060978\n",
            "         Iterations 12\n",
            "Optimization terminated successfully.\n",
            "         Current function value: 0.074391\n",
            "         Iterations 12\n",
            "Optimization terminated successfully.\n",
            "         Current function value: 0.058209\n",
            "         Iterations 10\n",
            "Optimization terminated successfully.\n",
            "         Current function value: 0.101845\n",
            "         Iterations 11\n",
            "Optimization terminated successfully.\n",
            "         Current function value: 0.046080\n",
            "         Iterations 13\n",
            "Optimization terminated successfully.\n",
            "         Current function value: 0.047133\n",
            "         Iterations 12\n",
            "Optimization terminated successfully.\n",
            "         Current function value: 0.098616\n",
            "         Iterations 11\n"
          ],
          "name": "stdout"
        }
      ]
    },
    {
      "cell_type": "code",
      "metadata": {
        "id": "Rk-DhGK9203O",
        "colab_type": "code",
        "colab": {
          "base_uri": "https://localhost:8080/",
          "height": 731
        },
        "outputId": "9ba2d8de-bf39-4aa9-eef1-26cccd85fd65"
      },
      "source": [
        "result_probit"
      ],
      "execution_count": 200,
      "outputs": [
        {
          "output_type": "execute_result",
          "data": {
            "text/html": [
              "<div>\n",
              "<style scoped>\n",
              "    .dataframe tbody tr th:only-of-type {\n",
              "        vertical-align: middle;\n",
              "    }\n",
              "\n",
              "    .dataframe tbody tr th {\n",
              "        vertical-align: top;\n",
              "    }\n",
              "\n",
              "    .dataframe thead th {\n",
              "        text-align: right;\n",
              "    }\n",
              "</style>\n",
              "<table border=\"1\" class=\"dataframe\">\n",
              "  <thead>\n",
              "    <tr style=\"text-align: right;\">\n",
              "      <th></th>\n",
              "      <th>Observed coef.</th>\n",
              "      <th>Bootstrap Std. Err.</th>\n",
              "      <th>z</th>\n",
              "      <th>P&gt;|z|</th>\n",
              "      <th>95% CI,lower</th>\n",
              "      <th>95% CI,high</th>\n",
              "    </tr>\n",
              "  </thead>\n",
              "  <tbody>\n",
              "    <tr>\n",
              "      <th>Intercept</th>\n",
              "      <td>-1.702901e+00</td>\n",
              "      <td>1.562216e+00</td>\n",
              "      <td>-1.090055</td>\n",
              "      <td>0.276</td>\n",
              "      <td>-4.764789e+00</td>\n",
              "      <td>1.358986e+00</td>\n",
              "    </tr>\n",
              "    <tr>\n",
              "      <th>Netforeignassets_currentLCU</th>\n",
              "      <td>1.855261e-15</td>\n",
              "      <td>5.318780e-13</td>\n",
              "      <td>0.003488</td>\n",
              "      <td>0.997</td>\n",
              "      <td>-1.040606e-12</td>\n",
              "      <td>1.044317e-12</td>\n",
              "    </tr>\n",
              "    <tr>\n",
              "      <th>Inflationconsumerprices_annualpc</th>\n",
              "      <td>-2.409873e-03</td>\n",
              "      <td>1.338533e-02</td>\n",
              "      <td>-0.180038</td>\n",
              "      <td>0.857</td>\n",
              "      <td>-2.864463e-02</td>\n",
              "      <td>2.382488e-02</td>\n",
              "    </tr>\n",
              "    <tr>\n",
              "      <th>Externalbalanceongoodsandservice</th>\n",
              "      <td>1.381201e-02</td>\n",
              "      <td>4.698523e-02</td>\n",
              "      <td>0.293965</td>\n",
              "      <td>0.769</td>\n",
              "      <td>-7.827736e-02</td>\n",
              "      <td>1.059014e-01</td>\n",
              "    </tr>\n",
              "    <tr>\n",
              "      <th>Currentaccountbalance_BoPcurrent</th>\n",
              "      <td>2.730080e-11</td>\n",
              "      <td>4.229807e-11</td>\n",
              "      <td>0.645439</td>\n",
              "      <td>0.519</td>\n",
              "      <td>-5.560189e-11</td>\n",
              "      <td>1.102035e-10</td>\n",
              "    </tr>\n",
              "    <tr>\n",
              "      <th>Nettradeingoodsandservices_BoPcu</th>\n",
              "      <td>-7.332647e-12</td>\n",
              "      <td>2.803184e-11</td>\n",
              "      <td>-0.261583</td>\n",
              "      <td>0.794</td>\n",
              "      <td>-6.227404e-11</td>\n",
              "      <td>4.760875e-11</td>\n",
              "    </tr>\n",
              "    <tr>\n",
              "      <th>Unemploymenttotal_pctoftotallabo</th>\n",
              "      <td>-9.455684e-04</td>\n",
              "      <td>3.914388e-02</td>\n",
              "      <td>-0.024156</td>\n",
              "      <td>0.981</td>\n",
              "      <td>-7.766617e-02</td>\n",
              "      <td>7.577504e-02</td>\n",
              "    </tr>\n",
              "    <tr>\n",
              "      <th>DGDP</th>\n",
              "      <td>-3.808581e-02</td>\n",
              "      <td>1.434412e-01</td>\n",
              "      <td>-0.265515</td>\n",
              "      <td>0.791</td>\n",
              "      <td>-3.192254e-01</td>\n",
              "      <td>2.430537e-01</td>\n",
              "    </tr>\n",
              "    <tr>\n",
              "      <th>RYPC</th>\n",
              "      <td>3.920344e-02</td>\n",
              "      <td>9.967055e-02</td>\n",
              "      <td>0.393330</td>\n",
              "      <td>0.694</td>\n",
              "      <td>-1.561472e-01</td>\n",
              "      <td>2.345541e-01</td>\n",
              "    </tr>\n",
              "    <tr>\n",
              "      <th>CGEB</th>\n",
              "      <td>8.276174e-03</td>\n",
              "      <td>3.268297e-02</td>\n",
              "      <td>0.253226</td>\n",
              "      <td>0.800</td>\n",
              "      <td>-5.578126e-02</td>\n",
              "      <td>7.233361e-02</td>\n",
              "    </tr>\n",
              "    <tr>\n",
              "      <th>PSBR</th>\n",
              "      <td>-3.439379e-03</td>\n",
              "      <td>4.730430e-02</td>\n",
              "      <td>-0.072708</td>\n",
              "      <td>0.942</td>\n",
              "      <td>-9.615410e-02</td>\n",
              "      <td>8.927534e-02</td>\n",
              "    </tr>\n",
              "    <tr>\n",
              "      <th>BINT</th>\n",
              "      <td>-7.417583e-05</td>\n",
              "      <td>1.854543e-02</td>\n",
              "      <td>-0.004000</td>\n",
              "      <td>0.997</td>\n",
              "      <td>-3.642256e-02</td>\n",
              "      <td>3.627421e-02</td>\n",
              "    </tr>\n",
              "    <tr>\n",
              "      <th>PUDP</th>\n",
              "      <td>9.921542e-03</td>\n",
              "      <td>7.015766e-03</td>\n",
              "      <td>1.414178</td>\n",
              "      <td>0.157</td>\n",
              "      <td>-3.829106e-03</td>\n",
              "      <td>2.367219e-02</td>\n",
              "    </tr>\n",
              "    <tr>\n",
              "      <th>SODD</th>\n",
              "      <td>2.102913e-04</td>\n",
              "      <td>9.465325e-03</td>\n",
              "      <td>0.022217</td>\n",
              "      <td>0.982</td>\n",
              "      <td>-1.834141e-02</td>\n",
              "      <td>1.876199e-02</td>\n",
              "    </tr>\n",
              "    <tr>\n",
              "      <th>CARA</th>\n",
              "      <td>9.266071e-03</td>\n",
              "      <td>7.224322e-02</td>\n",
              "      <td>0.128262</td>\n",
              "      <td>0.898</td>\n",
              "      <td>-1.323280e-01</td>\n",
              "      <td>1.508602e-01</td>\n",
              "    </tr>\n",
              "    <tr>\n",
              "      <th>IRTD</th>\n",
              "      <td>-2.131842e-02</td>\n",
              "      <td>3.335666e-02</td>\n",
              "      <td>-0.639105</td>\n",
              "      <td>0.523</td>\n",
              "      <td>-8.669628e-02</td>\n",
              "      <td>4.405944e-02</td>\n",
              "    </tr>\n",
              "    <tr>\n",
              "      <th>TDPX</th>\n",
              "      <td>-7.532332e-04</td>\n",
              "      <td>3.488732e-03</td>\n",
              "      <td>-0.215905</td>\n",
              "      <td>0.829</td>\n",
              "      <td>-7.591022e-03</td>\n",
              "      <td>6.084556e-03</td>\n",
              "    </tr>\n",
              "    <tr>\n",
              "      <th>TDPY</th>\n",
              "      <td>-3.940049e-03</td>\n",
              "      <td>1.366436e-02</td>\n",
              "      <td>-0.288345</td>\n",
              "      <td>0.773</td>\n",
              "      <td>-3.072170e-02</td>\n",
              "      <td>2.284160e-02</td>\n",
              "    </tr>\n",
              "    <tr>\n",
              "      <th>TSPY</th>\n",
              "      <td>-3.417764e-02</td>\n",
              "      <td>1.081952e-01</td>\n",
              "      <td>-0.315889</td>\n",
              "      <td>0.752</td>\n",
              "      <td>-2.462363e-01</td>\n",
              "      <td>1.778810e-01</td>\n",
              "    </tr>\n",
              "    <tr>\n",
              "      <th>INPS</th>\n",
              "      <td>-1.011696e-02</td>\n",
              "      <td>1.649733e-02</td>\n",
              "      <td>-0.613249</td>\n",
              "      <td>0.540</td>\n",
              "      <td>-4.245114e-02</td>\n",
              "      <td>2.221721e-02</td>\n",
              "    </tr>\n",
              "    <tr>\n",
              "      <th>INPY</th>\n",
              "      <td>1.992338e-01</td>\n",
              "      <td>2.848202e-01</td>\n",
              "      <td>0.699507</td>\n",
              "      <td>0.484</td>\n",
              "      <td>-3.590036e-01</td>\n",
              "      <td>7.574711e-01</td>\n",
              "    </tr>\n",
              "    <tr>\n",
              "      <th>XRRE</th>\n",
              "      <td>1.445557e-03</td>\n",
              "      <td>1.244439e-02</td>\n",
              "      <td>0.116161</td>\n",
              "      <td>0.908</td>\n",
              "      <td>-2.294499e-02</td>\n",
              "      <td>2.583610e-02</td>\n",
              "    </tr>\n",
              "  </tbody>\n",
              "</table>\n",
              "</div>"
            ],
            "text/plain": [
              "                                  Observed coef.  ...   95% CI,high\n",
              "Intercept                          -1.702901e+00  ...  1.358986e+00\n",
              "Netforeignassets_currentLCU         1.855261e-15  ...  1.044317e-12\n",
              "Inflationconsumerprices_annualpc   -2.409873e-03  ...  2.382488e-02\n",
              "Externalbalanceongoodsandservice    1.381201e-02  ...  1.059014e-01\n",
              "Currentaccountbalance_BoPcurrent    2.730080e-11  ...  1.102035e-10\n",
              "Nettradeingoodsandservices_BoPcu   -7.332647e-12  ...  4.760875e-11\n",
              "Unemploymenttotal_pctoftotallabo   -9.455684e-04  ...  7.577504e-02\n",
              "DGDP                               -3.808581e-02  ...  2.430537e-01\n",
              "RYPC                                3.920344e-02  ...  2.345541e-01\n",
              "CGEB                                8.276174e-03  ...  7.233361e-02\n",
              "PSBR                               -3.439379e-03  ...  8.927534e-02\n",
              "BINT                               -7.417583e-05  ...  3.627421e-02\n",
              "PUDP                                9.921542e-03  ...  2.367219e-02\n",
              "SODD                                2.102913e-04  ...  1.876199e-02\n",
              "CARA                                9.266071e-03  ...  1.508602e-01\n",
              "IRTD                               -2.131842e-02  ...  4.405944e-02\n",
              "TDPX                               -7.532332e-04  ...  6.084556e-03\n",
              "TDPY                               -3.940049e-03  ...  2.284160e-02\n",
              "TSPY                               -3.417764e-02  ...  1.778810e-01\n",
              "INPS                               -1.011696e-02  ...  2.221721e-02\n",
              "INPY                                1.992338e-01  ...  7.574711e-01\n",
              "XRRE                                1.445557e-03  ...  2.583610e-02\n",
              "\n",
              "[22 rows x 6 columns]"
            ]
          },
          "metadata": {
            "tags": []
          },
          "execution_count": 200
        }
      ]
    },
    {
      "cell_type": "markdown",
      "metadata": {
        "id": "HX1aBEWTHyEd",
        "colab_type": "text"
      },
      "source": [
        "**5. Calculate the marginal effect for Total International Reserves (“irtd”) based on the probit model.**"
      ]
    },
    {
      "cell_type": "code",
      "metadata": {
        "id": "13NzLepUHyEf",
        "colab_type": "code",
        "colab": {
          "base_uri": "https://localhost:8080/",
          "height": 563
        },
        "outputId": "d85e2623-680e-4b0f-e486-fae8a75d88a7"
      },
      "source": [
        "# marginal effect\n",
        "probit.get_margeff(at='mean', method='dydx', atexog='IRTD', dummy=False).summary()"
      ],
      "execution_count": 167,
      "outputs": [
        {
          "output_type": "execute_result",
          "data": {
            "text/html": [
              "<table class=\"simpletable\">\n",
              "<caption>Probit Marginal Effects</caption>\n",
              "<tr>\n",
              "  <th>Dep. Variable:</th> <td>default_RR</td>\n",
              "</tr>\n",
              "<tr>\n",
              "  <th>Method:</th>           <td>dydx</td>   \n",
              "</tr>\n",
              "<tr>\n",
              "  <th>At:</th>               <td>mean</td>   \n",
              "</tr>\n",
              "</table>\n",
              "<table class=\"simpletable\">\n",
              "<tr>\n",
              "                  <th></th>                    <th>dy/dx</th>    <th>std err</th>      <th>z</th>      <th>P>|z|</th>  <th>[0.025</th>    <th>0.975]</th>  \n",
              "</tr>\n",
              "<tr>\n",
              "  <th>Netforeignassets_currentLCU</th>      <td> 1.867e-17</td> <td> 2.17e-17</td> <td>    0.861</td> <td> 0.389</td> <td>-2.39e-17</td> <td> 6.12e-17</td>\n",
              "</tr>\n",
              "<tr>\n",
              "  <th>Inflationconsumerprices_annualpc</th> <td>-2.425e-05</td> <td>    0.000</td> <td>   -0.230</td> <td> 0.818</td> <td>   -0.000</td> <td>    0.000</td>\n",
              "</tr>\n",
              "<tr>\n",
              "  <th>Externalbalanceongoodsandservice</th> <td>    0.0001</td> <td>    0.000</td> <td>    0.568</td> <td> 0.570</td> <td>   -0.000</td> <td>    0.001</td>\n",
              "</tr>\n",
              "<tr>\n",
              "  <th>Currentaccountbalance_BoPcurrent</th> <td> 2.747e-13</td> <td> 3.79e-13</td> <td>    0.725</td> <td> 0.469</td> <td>-4.68e-13</td> <td> 1.02e-12</td>\n",
              "</tr>\n",
              "<tr>\n",
              "  <th>Nettradeingoodsandservices_BoPcu</th> <td>-7.378e-14</td> <td> 2.99e-13</td> <td>   -0.247</td> <td> 0.805</td> <td> -6.6e-13</td> <td> 5.13e-13</td>\n",
              "</tr>\n",
              "<tr>\n",
              "  <th>Unemploymenttotal_pctoftotallabo</th> <td>-9.514e-06</td> <td>    0.000</td> <td>   -0.036</td> <td> 0.972</td> <td>   -0.001</td> <td>    0.001</td>\n",
              "</tr>\n",
              "<tr>\n",
              "  <th>DGDP</th>                             <td>   -0.0004</td> <td>    0.001</td> <td>   -0.403</td> <td> 0.687</td> <td>   -0.002</td> <td>    0.001</td>\n",
              "</tr>\n",
              "<tr>\n",
              "  <th>RYPC</th>                             <td>    0.0004</td> <td>    0.001</td> <td>    0.437</td> <td> 0.662</td> <td>   -0.001</td> <td>    0.002</td>\n",
              "</tr>\n",
              "<tr>\n",
              "  <th>CGEB</th>                             <td> 8.327e-05</td> <td>    0.000</td> <td>    0.478</td> <td> 0.633</td> <td>   -0.000</td> <td>    0.000</td>\n",
              "</tr>\n",
              "<tr>\n",
              "  <th>PSBR</th>                             <td>-3.461e-05</td> <td>    0.000</td> <td>   -0.106</td> <td> 0.916</td> <td>   -0.001</td> <td>    0.001</td>\n",
              "</tr>\n",
              "<tr>\n",
              "  <th>BINT</th>                             <td>-7.463e-07</td> <td> 7.79e-05</td> <td>   -0.010</td> <td> 0.992</td> <td>   -0.000</td> <td>    0.000</td>\n",
              "</tr>\n",
              "<tr>\n",
              "  <th>PUDP</th>                             <td> 9.983e-05</td> <td> 9.27e-05</td> <td>    1.077</td> <td> 0.281</td> <td>-8.18e-05</td> <td>    0.000</td>\n",
              "</tr>\n",
              "<tr>\n",
              "  <th>SODD</th>                             <td> 2.116e-06</td> <td> 4.95e-05</td> <td>    0.043</td> <td> 0.966</td> <td> -9.5e-05</td> <td> 9.92e-05</td>\n",
              "</tr>\n",
              "<tr>\n",
              "  <th>CARA</th>                             <td> 9.323e-05</td> <td>    0.000</td> <td>    0.328</td> <td> 0.743</td> <td>   -0.000</td> <td>    0.001</td>\n",
              "</tr>\n",
              "<tr>\n",
              "  <th>IRTD</th>                             <td>   -0.0002</td> <td>    0.000</td> <td>   -2.065</td> <td> 0.039</td> <td>   -0.000</td> <td>-1.09e-05</td>\n",
              "</tr>\n",
              "<tr>\n",
              "  <th>TDPX</th>                             <td>-7.579e-06</td> <td> 1.34e-05</td> <td>   -0.564</td> <td> 0.573</td> <td>-3.39e-05</td> <td> 1.88e-05</td>\n",
              "</tr>\n",
              "<tr>\n",
              "  <th>TDPY</th>                             <td>-3.964e-05</td> <td> 7.33e-05</td> <td>   -0.541</td> <td> 0.589</td> <td>   -0.000</td> <td>    0.000</td>\n",
              "</tr>\n",
              "<tr>\n",
              "  <th>TSPY</th>                             <td>   -0.0003</td> <td>    0.001</td> <td>   -0.482</td> <td> 0.630</td> <td>   -0.002</td> <td>    0.001</td>\n",
              "</tr>\n",
              "<tr>\n",
              "  <th>INPS</th>                             <td>   -0.0001</td> <td>    0.000</td> <td>   -0.542</td> <td> 0.588</td> <td>   -0.000</td> <td>    0.000</td>\n",
              "</tr>\n",
              "<tr>\n",
              "  <th>INPY</th>                             <td>    0.0020</td> <td>    0.003</td> <td>    0.731</td> <td> 0.465</td> <td>   -0.003</td> <td>    0.007</td>\n",
              "</tr>\n",
              "<tr>\n",
              "  <th>XRRE</th>                             <td> 1.455e-05</td> <td> 1.78e-05</td> <td>    0.819</td> <td> 0.413</td> <td>-2.03e-05</td> <td> 4.94e-05</td>\n",
              "</tr>\n",
              "</table>"
            ],
            "text/plain": [
              "<class 'statsmodels.iolib.summary.Summary'>\n",
              "\"\"\"\n",
              "       Probit Marginal Effects       \n",
              "=====================================\n",
              "Dep. Variable:             default_RR\n",
              "Method:                          dydx\n",
              "At:                              mean\n",
              "====================================================================================================\n",
              "                                      dy/dx    std err          z      P>|z|      [0.025      0.975]\n",
              "----------------------------------------------------------------------------------------------------\n",
              "Netforeignassets_currentLCU       1.867e-17   2.17e-17      0.861      0.389   -2.39e-17    6.12e-17\n",
              "Inflationconsumerprices_annualpc -2.425e-05      0.000     -0.230      0.818      -0.000       0.000\n",
              "Externalbalanceongoodsandservice     0.0001      0.000      0.568      0.570      -0.000       0.001\n",
              "Currentaccountbalance_BoPcurrent  2.747e-13   3.79e-13      0.725      0.469   -4.68e-13    1.02e-12\n",
              "Nettradeingoodsandservices_BoPcu -7.378e-14   2.99e-13     -0.247      0.805    -6.6e-13    5.13e-13\n",
              "Unemploymenttotal_pctoftotallabo -9.514e-06      0.000     -0.036      0.972      -0.001       0.001\n",
              "DGDP                                -0.0004      0.001     -0.403      0.687      -0.002       0.001\n",
              "RYPC                                 0.0004      0.001      0.437      0.662      -0.001       0.002\n",
              "CGEB                              8.327e-05      0.000      0.478      0.633      -0.000       0.000\n",
              "PSBR                             -3.461e-05      0.000     -0.106      0.916      -0.001       0.001\n",
              "BINT                             -7.463e-07   7.79e-05     -0.010      0.992      -0.000       0.000\n",
              "PUDP                              9.983e-05   9.27e-05      1.077      0.281   -8.18e-05       0.000\n",
              "SODD                              2.116e-06   4.95e-05      0.043      0.966    -9.5e-05    9.92e-05\n",
              "CARA                              9.323e-05      0.000      0.328      0.743      -0.000       0.001\n",
              "IRTD                                -0.0002      0.000     -2.065      0.039      -0.000   -1.09e-05\n",
              "TDPX                             -7.579e-06   1.34e-05     -0.564      0.573   -3.39e-05    1.88e-05\n",
              "TDPY                             -3.964e-05   7.33e-05     -0.541      0.589      -0.000       0.000\n",
              "TSPY                                -0.0003      0.001     -0.482      0.630      -0.002       0.001\n",
              "INPS                                -0.0001      0.000     -0.542      0.588      -0.000       0.000\n",
              "INPY                                 0.0020      0.003      0.731      0.465      -0.003       0.007\n",
              "XRRE                              1.455e-05   1.78e-05      0.819      0.413   -2.03e-05    4.94e-05\n",
              "====================================================================================================\n",
              "\"\"\""
            ]
          },
          "metadata": {
            "tags": []
          },
          "execution_count": 167
        }
      ]
    },
    {
      "cell_type": "markdown",
      "metadata": {
        "id": "3AqyEbmEHyEi",
        "colab_type": "text"
      },
      "source": [
        "**6. A common way to assess the predictive efficiency of a binary model is the ROC curve. It plots the true positive rate ($=\\frac{\\text{True Positive}}{\\text{True Positive+False Negative}}$) against the false positive rate ($=\\frac{\\text{False Positive}}{\\text{False Positive+True Negative}}$). If a test is the diagonal line from bottom left corner to upper right corner, then the test is completely useless. The bigger the area is between the ROC curve and the diagonal line, the better the test (Read more about ROC curve in [https://en.wikipedia.org/wiki/Receiver_operating_characteristic]). Plot the ROC curve for logit and probit using the test sample and compare the accuracy of the two predictions.**"
      ]
    },
    {
      "cell_type": "code",
      "metadata": {
        "id": "RWrlAsfVw_I-",
        "colab_type": "code",
        "colab": {}
      },
      "source": [
        "exog_var=['Netforeignassets_currentLCU','Inflationconsumerprices_annualpc','Externalbalanceongoodsandservice','Currentaccountbalance_BoPcurrent','Nettradeingoodsandservices_BoPcu','Unemploymenttotal_pctoftotallabo','DGDP','RYPC','CGEB','PSBR','BINT','PUDP','SODD','CARA','IRTD','TDPX','TDPY','TSPY','INPS','INPY','XRRE']\n",
        "test_predict_logit=results_logit.predict(test[exog_var])\n",
        "#test_predict_logit.describe()"
      ],
      "execution_count": 0,
      "outputs": []
    },
    {
      "cell_type": "markdown",
      "metadata": {
        "id": "vz4T7ol5HyEj",
        "colab_type": "text"
      },
      "source": [
        "Check the help file of roc_curve and roc_auc_score"
      ]
    },
    {
      "cell_type": "code",
      "metadata": {
        "id": "lO0dAJWrHyEk",
        "colab_type": "code",
        "colab": {}
      },
      "source": [
        "# help(sklm.roc_curve)\n",
        "# help(sklm.roc_auc_score)"
      ],
      "execution_count": 0,
      "outputs": []
    },
    {
      "cell_type": "markdown",
      "metadata": {
        "id": "Rpjqxm8QHyEy",
        "colab_type": "text"
      },
      "source": [
        "**7. (extra points) Use machine learning methods to select variables from the list of all variables and then run a logit regression and plot the ROC curve. Does this improve the prediction?**"
      ]
    },
    {
      "cell_type": "code",
      "metadata": {
        "id": "uNy1pstTHyE0",
        "colab_type": "code",
        "colab": {}
      },
      "source": [
        ""
      ],
      "execution_count": 0,
      "outputs": []
    },
    {
      "cell_type": "markdown",
      "metadata": {
        "id": "Pl5OxsagU8rQ",
        "colab_type": "text"
      },
      "source": [
        "\n",
        "\n",
        "---\n",
        "\n",
        "Submission by:\n",
        "Mahesh Kumar\n"
      ]
    }
  ]
}