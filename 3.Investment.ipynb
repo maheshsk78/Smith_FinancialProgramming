{
  "nbformat": 4,
  "nbformat_minor": 0,
  "metadata": {
    "kernelspec": {
      "display_name": "Python 3",
      "language": "python",
      "name": "python3"
    },
    "language_info": {
      "codemirror_mode": {
        "name": "ipython",
        "version": 3
      },
      "file_extension": ".py",
      "mimetype": "text/x-python",
      "name": "python",
      "nbconvert_exporter": "python",
      "pygments_lexer": "ipython3",
      "version": "3.7.3"
    },
    "colab": {
      "name": "Investment.ipynb",
      "provenance": [],
      "collapsed_sections": []
    }
  },
  "cells": [
    {
      "cell_type": "code",
      "metadata": {
        "id": "4TOK7BNr7pmg",
        "colab_type": "code",
        "outputId": "ba754fee-6e13-4bfa-da01-f9f038e15166",
        "colab": {
          "base_uri": "https://localhost:8080/",
          "height": 221
        }
      },
      "source": [
        "import pandas as pd\n",
        "import numpy as np\n",
        "import statsmodels.api as sm\n",
        "! pip install linearmodels\n",
        "from linearmodels.panel import PooledOLS\n",
        "from linearmodels.panel import PanelOLS as fe # for fixed effects\n",
        "import matplotlib.pyplot as plt"
      ],
      "execution_count": 0,
      "outputs": [
        {
          "output_type": "stream",
          "text": [
            "Requirement already satisfied: linearmodels in /usr/local/lib/python3.6/dist-packages (4.16)\n",
            "Requirement already satisfied: scipy>=1 in /usr/local/lib/python3.6/dist-packages (from linearmodels) (1.4.1)\n",
            "Requirement already satisfied: property-cached>=1.6.3 in /usr/local/lib/python3.6/dist-packages (from linearmodels) (1.6.3)\n",
            "Requirement already satisfied: pandas>=0.23 in /usr/local/lib/python3.6/dist-packages (from linearmodels) (0.25.3)\n",
            "Requirement already satisfied: mypy-extensions>=0.4 in /usr/local/lib/python3.6/dist-packages (from linearmodels) (0.4.3)\n",
            "Requirement already satisfied: patsy in /usr/local/lib/python3.6/dist-packages (from linearmodels) (0.5.1)\n",
            "Requirement already satisfied: numpy>=1.15 in /usr/local/lib/python3.6/dist-packages (from linearmodels) (1.17.5)\n",
            "Requirement already satisfied: Cython>=0.29.14 in /usr/local/lib/python3.6/dist-packages (from linearmodels) (0.29.14)\n",
            "Requirement already satisfied: statsmodels>=0.9 in /usr/local/lib/python3.6/dist-packages (from linearmodels) (0.10.2)\n",
            "Requirement already satisfied: python-dateutil>=2.6.1 in /usr/local/lib/python3.6/dist-packages (from pandas>=0.23->linearmodels) (2.6.1)\n",
            "Requirement already satisfied: pytz>=2017.2 in /usr/local/lib/python3.6/dist-packages (from pandas>=0.23->linearmodels) (2018.9)\n",
            "Requirement already satisfied: six in /usr/local/lib/python3.6/dist-packages (from patsy->linearmodels) (1.12.0)\n"
          ],
          "name": "stdout"
        }
      ]
    },
    {
      "cell_type": "markdown",
      "metadata": {
        "id": "R1T5Hmyy7pmn",
        "colab_type": "text"
      },
      "source": [
        "## Load Data"
      ]
    },
    {
      "cell_type": "code",
      "metadata": {
        "id": "DPlLxvv87pmo",
        "colab_type": "code",
        "colab": {}
      },
      "source": [
        "data = pd.read_excel('https://drive.google.com/uc?export=download&id=1J2-qDDCOzxpacT9HdCSfrpEdUqGXpoKX')\n",
        "\n",
        "data = data.sort_values(by=['gvkey', 'fyear'])\n",
        "\n",
        "data.head()\n",
        "\n",
        "data['year'] = data['fyear']"
      ],
      "execution_count": 0,
      "outputs": []
    },
    {
      "cell_type": "markdown",
      "metadata": {
        "id": "Qzs57V_e7pms",
        "colab_type": "text"
      },
      "source": [
        "**Variables:**\n",
        "\n",
        "gvkey: firm id\n",
        "\n",
        "at: total assets\n",
        "\n",
        "capx: investment\n",
        "\n",
        "che: cash\n",
        "\n",
        "csho: Common Shares Outstanding\n",
        "\n",
        "dlc: short-term debt\n",
        "\n",
        "dltt: long-term debt\n",
        "\n",
        "dvt: dividends\n",
        "\n",
        "oiadp: operating income after depreciation\n",
        "\n",
        "pstk: preferred stock\n",
        "\n",
        "revt: revenue\n",
        "\n",
        "prcc_f: price close\n",
        "\n",
        "sic: industry code\n"
      ]
    },
    {
      "cell_type": "markdown",
      "metadata": {
        "id": "9Fsr-_RX7pmt",
        "colab_type": "text"
      },
      "source": [
        "# replace some missings to zero"
      ]
    },
    {
      "cell_type": "code",
      "metadata": {
        "id": "i8v02q-I4yI5",
        "colab_type": "code",
        "outputId": "a9239d96-dc5e-4a2f-c860-4eda08e0966d",
        "colab": {
          "base_uri": "https://localhost:8080/",
          "height": 374
        }
      },
      "source": [
        "data.info()"
      ],
      "execution_count": 0,
      "outputs": [
        {
          "output_type": "stream",
          "text": [
            "<class 'pandas.core.frame.DataFrame'>\n",
            "Int64Index: 50060 entries, 0 to 50059\n",
            "Data columns (total 16 columns):\n",
            "gvkey       50060 non-null int64\n",
            "datadate    50060 non-null datetime64[ns]\n",
            "fyear       50060 non-null int64\n",
            "at          49891 non-null float64\n",
            "capx        48398 non-null float64\n",
            "che         49884 non-null float64\n",
            "csho        49163 non-null float64\n",
            "dlc         49820 non-null float64\n",
            "dltt        49780 non-null float64\n",
            "dvt         49492 non-null float64\n",
            "oiadp       49864 non-null float64\n",
            "pstk        49700 non-null float64\n",
            "revt        49865 non-null float64\n",
            "prcc_f      46691 non-null float64\n",
            "sic         50060 non-null int64\n",
            "year        50060 non-null int64\n",
            "dtypes: datetime64[ns](1), float64(11), int64(4)\n",
            "memory usage: 6.5 MB\n"
          ],
          "name": "stdout"
        }
      ]
    },
    {
      "cell_type": "code",
      "metadata": {
        "id": "-eOfjcXY7pmt",
        "colab_type": "code",
        "colab": {}
      },
      "source": [
        "# get the index of rows where capx is negative or the value is missed\n",
        "idx = data.loc[ (data['capx'].isnull()) | (data['capx']<0)].index\n",
        "\n",
        "# replace value of capx at those rows by zero.\n",
        "data.loc[idx, 'capx'] = 0"
      ],
      "execution_count": 0,
      "outputs": []
    },
    {
      "cell_type": "code",
      "metadata": {
        "id": "iBTItZK97pmw",
        "colab_type": "code",
        "colab": {}
      },
      "source": [
        "# Fill missing variables with zero\n",
        "data[['dltt', 'dlc', 'pstk']] = data[['dltt', 'dlc', 'pstk']].apply(lambda x: x.fillna(0))"
      ],
      "execution_count": 0,
      "outputs": []
    },
    {
      "cell_type": "markdown",
      "metadata": {
        "id": "r80XLln57pm0",
        "colab_type": "text"
      },
      "source": [
        "# calculate financial variables"
      ]
    },
    {
      "cell_type": "code",
      "metadata": {
        "id": "tjM_4i687pm1",
        "colab_type": "code",
        "colab": {}
      },
      "source": [
        "data['debt'] = data['dlc'] + data['dltt']"
      ],
      "execution_count": 0,
      "outputs": []
    },
    {
      "cell_type": "code",
      "metadata": {
        "id": "PoJkXDSS7pm4",
        "colab_type": "code",
        "colab": {}
      },
      "source": [
        "data['equity'] = data['pstk'] + data['prcc_f']*data['csho']"
      ],
      "execution_count": 0,
      "outputs": []
    },
    {
      "cell_type": "code",
      "metadata": {
        "id": "ZTW8CyJY7pnB",
        "colab_type": "code",
        "colab": {}
      },
      "source": [
        "# firm_value is the sum of equity and debt and leverage = debt / firm_value\n",
        "\n",
        "### practice\n",
        "\n",
        "data['firm_value']=data['debt']+data['equity']\n",
        "\n",
        "data['leverage']=data['debt']/data['firm_value']\n"
      ],
      "execution_count": 0,
      "outputs": []
    },
    {
      "cell_type": "code",
      "metadata": {
        "id": "h6T0lIat7bsV",
        "colab_type": "code",
        "outputId": "dab61d20-94a6-4d59-a7c9-1f5175e180c6",
        "colab": {
          "base_uri": "https://localhost:8080/",
          "height": 317
        }
      },
      "source": [
        "data.describe()"
      ],
      "execution_count": 0,
      "outputs": [
        {
          "output_type": "execute_result",
          "data": {
            "text/html": [
              "<div>\n",
              "<style scoped>\n",
              "    .dataframe tbody tr th:only-of-type {\n",
              "        vertical-align: middle;\n",
              "    }\n",
              "\n",
              "    .dataframe tbody tr th {\n",
              "        vertical-align: top;\n",
              "    }\n",
              "\n",
              "    .dataframe thead th {\n",
              "        text-align: right;\n",
              "    }\n",
              "</style>\n",
              "<table border=\"1\" class=\"dataframe\">\n",
              "  <thead>\n",
              "    <tr style=\"text-align: right;\">\n",
              "      <th></th>\n",
              "      <th>gvkey</th>\n",
              "      <th>fyear</th>\n",
              "      <th>at</th>\n",
              "      <th>capx</th>\n",
              "      <th>che</th>\n",
              "      <th>csho</th>\n",
              "      <th>dlc</th>\n",
              "      <th>dltt</th>\n",
              "      <th>dvt</th>\n",
              "      <th>oiadp</th>\n",
              "      <th>pstk</th>\n",
              "      <th>revt</th>\n",
              "      <th>prcc_f</th>\n",
              "      <th>sic</th>\n",
              "      <th>year</th>\n",
              "      <th>debt</th>\n",
              "      <th>equity</th>\n",
              "      <th>firm_value</th>\n",
              "      <th>leverage</th>\n",
              "    </tr>\n",
              "  </thead>\n",
              "  <tbody>\n",
              "    <tr>\n",
              "      <th>count</th>\n",
              "      <td>50060.000000</td>\n",
              "      <td>50060.000000</td>\n",
              "      <td>4.989100e+04</td>\n",
              "      <td>50060.000000</td>\n",
              "      <td>49884.000000</td>\n",
              "      <td>49163.000000</td>\n",
              "      <td>50060.000000</td>\n",
              "      <td>50060.000000</td>\n",
              "      <td>49492.000000</td>\n",
              "      <td>49864.000000</td>\n",
              "      <td>50060.000000</td>\n",
              "      <td>49865.000000</td>\n",
              "      <td>46691.000000</td>\n",
              "      <td>50060.000000</td>\n",
              "      <td>50060.000000</td>\n",
              "      <td>50060.000000</td>\n",
              "      <td>46543.000000</td>\n",
              "      <td>4.654300e+04</td>\n",
              "      <td>46543.000000</td>\n",
              "    </tr>\n",
              "    <tr>\n",
              "      <th>mean</th>\n",
              "      <td>47520.295565</td>\n",
              "      <td>2008.974531</td>\n",
              "      <td>1.691878e+04</td>\n",
              "      <td>280.650161</td>\n",
              "      <td>1924.123376</td>\n",
              "      <td>205.270520</td>\n",
              "      <td>1465.410494</td>\n",
              "      <td>2573.762342</td>\n",
              "      <td>149.581280</td>\n",
              "      <td>661.679214</td>\n",
              "      <td>36.732036</td>\n",
              "      <td>4870.749605</td>\n",
              "      <td>33.077049</td>\n",
              "      <td>4713.566760</td>\n",
              "      <td>2008.974531</td>\n",
              "      <td>4039.172836</td>\n",
              "      <td>6620.929920</td>\n",
              "      <td>1.066952e+04</td>\n",
              "      <td>0.247006</td>\n",
              "    </tr>\n",
              "    <tr>\n",
              "      <th>std</th>\n",
              "      <td>52491.522841</td>\n",
              "      <td>5.446955</td>\n",
              "      <td>1.092948e+05</td>\n",
              "      <td>739.382866</td>\n",
              "      <td>17228.374200</td>\n",
              "      <td>695.968007</td>\n",
              "      <td>17281.093095</td>\n",
              "      <td>13248.331892</td>\n",
              "      <td>637.692964</td>\n",
              "      <td>2458.176589</td>\n",
              "      <td>614.688501</td>\n",
              "      <td>12890.279074</td>\n",
              "      <td>107.533801</td>\n",
              "      <td>1861.686116</td>\n",
              "      <td>5.446955</td>\n",
              "      <td>27680.815567</td>\n",
              "      <td>19106.599940</td>\n",
              "      <td>4.025748e+04</td>\n",
              "      <td>0.235271</td>\n",
              "    </tr>\n",
              "    <tr>\n",
              "      <th>min</th>\n",
              "      <td>1004.000000</td>\n",
              "      <td>2000.000000</td>\n",
              "      <td>0.000000e+00</td>\n",
              "      <td>0.000000</td>\n",
              "      <td>-0.156000</td>\n",
              "      <td>0.000000</td>\n",
              "      <td>0.000000</td>\n",
              "      <td>0.000000</td>\n",
              "      <td>-665.655000</td>\n",
              "      <td>-16207.404000</td>\n",
              "      <td>-252.000000</td>\n",
              "      <td>-15009.328000</td>\n",
              "      <td>0.000100</td>\n",
              "      <td>100.000000</td>\n",
              "      <td>2000.000000</td>\n",
              "      <td>0.000000</td>\n",
              "      <td>0.000000</td>\n",
              "      <td>1.500000e-04</td>\n",
              "      <td>0.000000</td>\n",
              "    </tr>\n",
              "    <tr>\n",
              "      <th>25%</th>\n",
              "      <td>9299.000000</td>\n",
              "      <td>2004.000000</td>\n",
              "      <td>2.364600e+02</td>\n",
              "      <td>2.421750</td>\n",
              "      <td>15.448250</td>\n",
              "      <td>14.701500</td>\n",
              "      <td>0.100000</td>\n",
              "      <td>3.000000</td>\n",
              "      <td>0.000000</td>\n",
              "      <td>5.882750</td>\n",
              "      <td>0.000000</td>\n",
              "      <td>106.455000</td>\n",
              "      <td>7.920000</td>\n",
              "      <td>3490.000000</td>\n",
              "      <td>2004.000000</td>\n",
              "      <td>8.466000</td>\n",
              "      <td>141.668435</td>\n",
              "      <td>2.062293e+02</td>\n",
              "      <td>0.039953</td>\n",
              "    </tr>\n",
              "    <tr>\n",
              "      <th>50%</th>\n",
              "      <td>24396.000000</td>\n",
              "      <td>2009.000000</td>\n",
              "      <td>1.269421e+03</td>\n",
              "      <td>24.193500</td>\n",
              "      <td>77.716500</td>\n",
              "      <td>41.371000</td>\n",
              "      <td>10.018000</td>\n",
              "      <td>154.079500</td>\n",
              "      <td>2.518000</td>\n",
              "      <td>72.950000</td>\n",
              "      <td>0.000000</td>\n",
              "      <td>744.755000</td>\n",
              "      <td>20.410000</td>\n",
              "      <td>4841.000000</td>\n",
              "      <td>2009.000000</td>\n",
              "      <td>219.548000</td>\n",
              "      <td>822.923530</td>\n",
              "      <td>1.165885e+03</td>\n",
              "      <td>0.188019</td>\n",
              "    </tr>\n",
              "    <tr>\n",
              "      <th>75%</th>\n",
              "      <td>65090.000000</td>\n",
              "      <td>2014.000000</td>\n",
              "      <td>6.177509e+03</td>\n",
              "      <td>173.256000</td>\n",
              "      <td>389.558750</td>\n",
              "      <td>130.908000</td>\n",
              "      <td>154.568500</td>\n",
              "      <td>1198.050000</td>\n",
              "      <td>55.702750</td>\n",
              "      <td>398.674000</td>\n",
              "      <td>0.000000</td>\n",
              "      <td>3318.765000</td>\n",
              "      <td>38.756000</td>\n",
              "      <td>6020.000000</td>\n",
              "      <td>2014.000000</td>\n",
              "      <td>1470.606000</td>\n",
              "      <td>4177.238730</td>\n",
              "      <td>6.020374e+03</td>\n",
              "      <td>0.390371</td>\n",
              "    </tr>\n",
              "    <tr>\n",
              "      <th>max</th>\n",
              "      <td>259503.000000</td>\n",
              "      <td>2018.000000</td>\n",
              "      <td>3.065553e+06</td>\n",
              "      <td>9830.851000</td>\n",
              "      <td>623959.820000</td>\n",
              "      <td>29058.361000</td>\n",
              "      <td>575319.394000</td>\n",
              "      <td>542569.195000</td>\n",
              "      <td>67643.805000</td>\n",
              "      <td>91996.871000</td>\n",
              "      <td>70664.000000</td>\n",
              "      <td>226247.000000</td>\n",
              "      <td>11650.000000</td>\n",
              "      <td>9997.000000</td>\n",
              "      <td>2018.000000</td>\n",
              "      <td>889300.000000</td>\n",
              "      <td>467092.875000</td>\n",
              "      <td>1.036340e+06</td>\n",
              "      <td>1.000000</td>\n",
              "    </tr>\n",
              "  </tbody>\n",
              "</table>\n",
              "</div>"
            ],
            "text/plain": [
              "               gvkey         fyear  ...    firm_value      leverage\n",
              "count   50060.000000  50060.000000  ...  4.654300e+04  46543.000000\n",
              "mean    47520.295565   2008.974531  ...  1.066952e+04      0.247006\n",
              "std     52491.522841      5.446955  ...  4.025748e+04      0.235271\n",
              "min      1004.000000   2000.000000  ...  1.500000e-04      0.000000\n",
              "25%      9299.000000   2004.000000  ...  2.062293e+02      0.039953\n",
              "50%     24396.000000   2009.000000  ...  1.165885e+03      0.188019\n",
              "75%     65090.000000   2014.000000  ...  6.020374e+03      0.390371\n",
              "max    259503.000000   2018.000000  ...  1.036340e+06      1.000000\n",
              "\n",
              "[8 rows x 19 columns]"
            ]
          },
          "metadata": {
            "tags": []
          },
          "execution_count": 121
        }
      ]
    },
    {
      "cell_type": "markdown",
      "metadata": {
        "id": "s7bcLLnq7pnE",
        "colab_type": "text"
      },
      "source": [
        "Take the difference of consecutive years. Mark if it's not equal to one"
      ]
    },
    {
      "cell_type": "code",
      "metadata": {
        "id": "P3N2E39Wi4nj",
        "colab_type": "code",
        "outputId": "4a16fab9-b8fa-4e70-db67-73b1c1f4bc04",
        "colab": {
          "base_uri": "https://localhost:8080/",
          "height": 317
        }
      },
      "source": [
        "data.describe()"
      ],
      "execution_count": 0,
      "outputs": [
        {
          "output_type": "execute_result",
          "data": {
            "text/html": [
              "<div>\n",
              "<style scoped>\n",
              "    .dataframe tbody tr th:only-of-type {\n",
              "        vertical-align: middle;\n",
              "    }\n",
              "\n",
              "    .dataframe tbody tr th {\n",
              "        vertical-align: top;\n",
              "    }\n",
              "\n",
              "    .dataframe thead th {\n",
              "        text-align: right;\n",
              "    }\n",
              "</style>\n",
              "<table border=\"1\" class=\"dataframe\">\n",
              "  <thead>\n",
              "    <tr style=\"text-align: right;\">\n",
              "      <th></th>\n",
              "      <th>gvkey</th>\n",
              "      <th>fyear</th>\n",
              "      <th>at</th>\n",
              "      <th>capx</th>\n",
              "      <th>che</th>\n",
              "      <th>csho</th>\n",
              "      <th>dlc</th>\n",
              "      <th>dltt</th>\n",
              "      <th>dvt</th>\n",
              "      <th>oiadp</th>\n",
              "      <th>pstk</th>\n",
              "      <th>revt</th>\n",
              "      <th>prcc_f</th>\n",
              "      <th>sic</th>\n",
              "      <th>year</th>\n",
              "      <th>debt</th>\n",
              "      <th>equity</th>\n",
              "      <th>firm_value</th>\n",
              "      <th>leverage</th>\n",
              "    </tr>\n",
              "  </thead>\n",
              "  <tbody>\n",
              "    <tr>\n",
              "      <th>count</th>\n",
              "      <td>50060.000000</td>\n",
              "      <td>50060.000000</td>\n",
              "      <td>4.989100e+04</td>\n",
              "      <td>50060.000000</td>\n",
              "      <td>49884.000000</td>\n",
              "      <td>49163.000000</td>\n",
              "      <td>50060.000000</td>\n",
              "      <td>50060.000000</td>\n",
              "      <td>49492.000000</td>\n",
              "      <td>49864.000000</td>\n",
              "      <td>50060.000000</td>\n",
              "      <td>49865.000000</td>\n",
              "      <td>46691.000000</td>\n",
              "      <td>50060.000000</td>\n",
              "      <td>50060.000000</td>\n",
              "      <td>50060.000000</td>\n",
              "      <td>46543.000000</td>\n",
              "      <td>4.654300e+04</td>\n",
              "      <td>46543.000000</td>\n",
              "    </tr>\n",
              "    <tr>\n",
              "      <th>mean</th>\n",
              "      <td>47520.295565</td>\n",
              "      <td>2008.974531</td>\n",
              "      <td>1.691878e+04</td>\n",
              "      <td>280.650161</td>\n",
              "      <td>1924.123376</td>\n",
              "      <td>205.270520</td>\n",
              "      <td>1465.410494</td>\n",
              "      <td>2573.762342</td>\n",
              "      <td>149.581280</td>\n",
              "      <td>661.679214</td>\n",
              "      <td>36.732036</td>\n",
              "      <td>4870.749605</td>\n",
              "      <td>33.077049</td>\n",
              "      <td>4713.566760</td>\n",
              "      <td>2008.974531</td>\n",
              "      <td>4039.172836</td>\n",
              "      <td>6620.929920</td>\n",
              "      <td>1.066952e+04</td>\n",
              "      <td>0.247006</td>\n",
              "    </tr>\n",
              "    <tr>\n",
              "      <th>std</th>\n",
              "      <td>52491.522841</td>\n",
              "      <td>5.446955</td>\n",
              "      <td>1.092948e+05</td>\n",
              "      <td>739.382866</td>\n",
              "      <td>17228.374200</td>\n",
              "      <td>695.968007</td>\n",
              "      <td>17281.093095</td>\n",
              "      <td>13248.331892</td>\n",
              "      <td>637.692964</td>\n",
              "      <td>2458.176589</td>\n",
              "      <td>614.688501</td>\n",
              "      <td>12890.279074</td>\n",
              "      <td>107.533801</td>\n",
              "      <td>1861.686116</td>\n",
              "      <td>5.446955</td>\n",
              "      <td>27680.815567</td>\n",
              "      <td>19106.599940</td>\n",
              "      <td>4.025748e+04</td>\n",
              "      <td>0.235271</td>\n",
              "    </tr>\n",
              "    <tr>\n",
              "      <th>min</th>\n",
              "      <td>1004.000000</td>\n",
              "      <td>2000.000000</td>\n",
              "      <td>0.000000e+00</td>\n",
              "      <td>0.000000</td>\n",
              "      <td>-0.156000</td>\n",
              "      <td>0.000000</td>\n",
              "      <td>0.000000</td>\n",
              "      <td>0.000000</td>\n",
              "      <td>-665.655000</td>\n",
              "      <td>-16207.404000</td>\n",
              "      <td>-252.000000</td>\n",
              "      <td>-15009.328000</td>\n",
              "      <td>0.000100</td>\n",
              "      <td>100.000000</td>\n",
              "      <td>2000.000000</td>\n",
              "      <td>0.000000</td>\n",
              "      <td>0.000000</td>\n",
              "      <td>1.500000e-04</td>\n",
              "      <td>0.000000</td>\n",
              "    </tr>\n",
              "    <tr>\n",
              "      <th>25%</th>\n",
              "      <td>9299.000000</td>\n",
              "      <td>2004.000000</td>\n",
              "      <td>2.364600e+02</td>\n",
              "      <td>2.421750</td>\n",
              "      <td>15.448250</td>\n",
              "      <td>14.701500</td>\n",
              "      <td>0.100000</td>\n",
              "      <td>3.000000</td>\n",
              "      <td>0.000000</td>\n",
              "      <td>5.882750</td>\n",
              "      <td>0.000000</td>\n",
              "      <td>106.455000</td>\n",
              "      <td>7.920000</td>\n",
              "      <td>3490.000000</td>\n",
              "      <td>2004.000000</td>\n",
              "      <td>8.466000</td>\n",
              "      <td>141.668435</td>\n",
              "      <td>2.062293e+02</td>\n",
              "      <td>0.039953</td>\n",
              "    </tr>\n",
              "    <tr>\n",
              "      <th>50%</th>\n",
              "      <td>24396.000000</td>\n",
              "      <td>2009.000000</td>\n",
              "      <td>1.269421e+03</td>\n",
              "      <td>24.193500</td>\n",
              "      <td>77.716500</td>\n",
              "      <td>41.371000</td>\n",
              "      <td>10.018000</td>\n",
              "      <td>154.079500</td>\n",
              "      <td>2.518000</td>\n",
              "      <td>72.950000</td>\n",
              "      <td>0.000000</td>\n",
              "      <td>744.755000</td>\n",
              "      <td>20.410000</td>\n",
              "      <td>4841.000000</td>\n",
              "      <td>2009.000000</td>\n",
              "      <td>219.548000</td>\n",
              "      <td>822.923530</td>\n",
              "      <td>1.165885e+03</td>\n",
              "      <td>0.188019</td>\n",
              "    </tr>\n",
              "    <tr>\n",
              "      <th>75%</th>\n",
              "      <td>65090.000000</td>\n",
              "      <td>2014.000000</td>\n",
              "      <td>6.177509e+03</td>\n",
              "      <td>173.256000</td>\n",
              "      <td>389.558750</td>\n",
              "      <td>130.908000</td>\n",
              "      <td>154.568500</td>\n",
              "      <td>1198.050000</td>\n",
              "      <td>55.702750</td>\n",
              "      <td>398.674000</td>\n",
              "      <td>0.000000</td>\n",
              "      <td>3318.765000</td>\n",
              "      <td>38.756000</td>\n",
              "      <td>6020.000000</td>\n",
              "      <td>2014.000000</td>\n",
              "      <td>1470.606000</td>\n",
              "      <td>4177.238730</td>\n",
              "      <td>6.020374e+03</td>\n",
              "      <td>0.390371</td>\n",
              "    </tr>\n",
              "    <tr>\n",
              "      <th>max</th>\n",
              "      <td>259503.000000</td>\n",
              "      <td>2018.000000</td>\n",
              "      <td>3.065553e+06</td>\n",
              "      <td>9830.851000</td>\n",
              "      <td>623959.820000</td>\n",
              "      <td>29058.361000</td>\n",
              "      <td>575319.394000</td>\n",
              "      <td>542569.195000</td>\n",
              "      <td>67643.805000</td>\n",
              "      <td>91996.871000</td>\n",
              "      <td>70664.000000</td>\n",
              "      <td>226247.000000</td>\n",
              "      <td>11650.000000</td>\n",
              "      <td>9997.000000</td>\n",
              "      <td>2018.000000</td>\n",
              "      <td>889300.000000</td>\n",
              "      <td>467092.875000</td>\n",
              "      <td>1.036340e+06</td>\n",
              "      <td>1.000000</td>\n",
              "    </tr>\n",
              "  </tbody>\n",
              "</table>\n",
              "</div>"
            ],
            "text/plain": [
              "               gvkey         fyear  ...    firm_value      leverage\n",
              "count   50060.000000  50060.000000  ...  4.654300e+04  46543.000000\n",
              "mean    47520.295565   2008.974531  ...  1.066952e+04      0.247006\n",
              "std     52491.522841      5.446955  ...  4.025748e+04      0.235271\n",
              "min      1004.000000   2000.000000  ...  1.500000e-04      0.000000\n",
              "25%      9299.000000   2004.000000  ...  2.062293e+02      0.039953\n",
              "50%     24396.000000   2009.000000  ...  1.165885e+03      0.188019\n",
              "75%     65090.000000   2014.000000  ...  6.020374e+03      0.390371\n",
              "max    259503.000000   2018.000000  ...  1.036340e+06      1.000000\n",
              "\n",
              "[8 rows x 19 columns]"
            ]
          },
          "metadata": {
            "tags": []
          },
          "execution_count": 122
        }
      ]
    },
    {
      "cell_type": "code",
      "metadata": {
        "id": "N7NBK8ax7pnF",
        "colab_type": "code",
        "colab": {}
      },
      "source": [
        "temp = data.groupby('gvkey')['fyear'].diff()\n",
        "\n",
        "idxyr = temp[(temp!=1) & (~temp.isnull())].index"
      ],
      "execution_count": 0,
      "outputs": []
    },
    {
      "cell_type": "markdown",
      "metadata": {
        "id": "vjXEp5Ga7pnI",
        "colab_type": "text"
      },
      "source": [
        "Create r_capx equal to investment normalized by previous year's total assets"
      ]
    },
    {
      "cell_type": "code",
      "metadata": {
        "id": "L5A4Uqsx7pnI",
        "colab_type": "code",
        "colab": {}
      },
      "source": [
        "# groupby gvkey and find lagged value of at\n",
        "data['lag_at'] = data.groupby('gvkey')['at'].shift()\n",
        "\n",
        "# for rows where years are not consecutive, set lagged value of the later year be np.nan \n",
        "# (to parallel with L.var in stata)\n",
        "data.loc[idxyr, 'lag_at'] = np.nan\n",
        "\n",
        "idx = data.loc[data['lag_at']>0].index\n",
        "\n",
        "data.loc[idx, 'r_capx'] = data.loc[idx, 'capx']/data.loc[idx, 'lag_at']"
      ],
      "execution_count": 0,
      "outputs": []
    },
    {
      "cell_type": "markdown",
      "metadata": {
        "id": "YH5QNzuN7pnL",
        "colab_type": "text"
      },
      "source": [
        "Create r_oiadp equal to operating profits normalized by the average of this year and previous year's assets"
      ]
    },
    {
      "cell_type": "code",
      "metadata": {
        "id": "MOoo7n2W7pnL",
        "colab_type": "code",
        "colab": {}
      },
      "source": [
        "data['at_avg'] = (data['lag_at'] + data['at'])/2"
      ],
      "execution_count": 0,
      "outputs": []
    },
    {
      "cell_type": "code",
      "metadata": {
        "id": "KIuPNyl17pnO",
        "colab_type": "code",
        "colab": {}
      },
      "source": [
        "idx = data.loc[data['at_avg']>0].index\n",
        "\n",
        "data.loc[idx, 'r_oiadp'] = data.loc[idx, 'oiadp']/data.loc[idx, 'at_avg']"
      ],
      "execution_count": 0,
      "outputs": []
    },
    {
      "cell_type": "markdown",
      "metadata": {
        "id": "sYJL6nic7pnQ",
        "colab_type": "text"
      },
      "source": [
        "Create g_revt equal to growth rate in log revenue"
      ]
    },
    {
      "cell_type": "code",
      "metadata": {
        "id": "ENLIx78u7pnR",
        "colab_type": "code",
        "colab": {}
      },
      "source": [
        "# g_revt = growth rate in log revenue\n",
        "\n",
        "### practice\n",
        "\n",
        "data['lag_revt'] = data.groupby('gvkey')['revt'].shift()\n",
        "\n",
        "data.loc[idxyr, 'lag_revt'] = np.nan\n",
        "\n",
        "idx = data.loc[(data['revt']>0)  & (data['lag_revt']>0)].index\n",
        "\n",
        "data.loc[idx, 'g_revt']=np.log(data.loc[idx, 'revt'])- np.log(data.loc[idx, 'lag_revt'])\n",
        "\n",
        "\n"
      ],
      "execution_count": 0,
      "outputs": []
    },
    {
      "cell_type": "markdown",
      "metadata": {
        "id": "Y81QbTPO7pnW",
        "colab_type": "text"
      },
      "source": [
        "# winsorize"
      ]
    },
    {
      "cell_type": "markdown",
      "metadata": {
        "id": "PGjN4BrY7pnX",
        "colab_type": "text"
      },
      "source": [
        "Winsorize by removing top 1% and bottom 1% outliers"
      ]
    },
    {
      "cell_type": "code",
      "metadata": {
        "scrolled": false,
        "id": "xi50NTZB7pnY",
        "colab_type": "code",
        "outputId": "1c2da9d9-a1c8-44de-c778-26dfa2f99f9c",
        "colab": {
          "base_uri": "https://localhost:8080/",
          "height": 483
        }
      },
      "source": [
        "targets = ['r_capx', 'r_oiadp', 'g_revt']\n",
        "\n",
        "# values slightly larger than stata log file from 90% quantile\n",
        "data[targets].describe(percentiles=[.01,.05,.1,.25,.5,.75,.90,.95,.99])"
      ],
      "execution_count": 0,
      "outputs": [
        {
          "output_type": "execute_result",
          "data": {
            "text/html": [
              "<div>\n",
              "<style scoped>\n",
              "    .dataframe tbody tr th:only-of-type {\n",
              "        vertical-align: middle;\n",
              "    }\n",
              "\n",
              "    .dataframe tbody tr th {\n",
              "        vertical-align: top;\n",
              "    }\n",
              "\n",
              "    .dataframe thead th {\n",
              "        text-align: right;\n",
              "    }\n",
              "</style>\n",
              "<table border=\"1\" class=\"dataframe\">\n",
              "  <thead>\n",
              "    <tr style=\"text-align: right;\">\n",
              "      <th></th>\n",
              "      <th>r_capx</th>\n",
              "      <th>r_oiadp</th>\n",
              "      <th>g_revt</th>\n",
              "    </tr>\n",
              "  </thead>\n",
              "  <tbody>\n",
              "    <tr>\n",
              "      <th>count</th>\n",
              "      <td>47197.000000</td>\n",
              "      <td>47147.000000</td>\n",
              "      <td>46491.000000</td>\n",
              "    </tr>\n",
              "    <tr>\n",
              "      <th>mean</th>\n",
              "      <td>0.097546</td>\n",
              "      <td>-0.096659</td>\n",
              "      <td>0.057960</td>\n",
              "    </tr>\n",
              "    <tr>\n",
              "      <th>std</th>\n",
              "      <td>9.784711</td>\n",
              "      <td>9.254864</td>\n",
              "      <td>0.361383</td>\n",
              "    </tr>\n",
              "    <tr>\n",
              "      <th>min</th>\n",
              "      <td>0.000000</td>\n",
              "      <td>-1618.000000</td>\n",
              "      <td>-6.350764</td>\n",
              "    </tr>\n",
              "    <tr>\n",
              "      <th>1%</th>\n",
              "      <td>0.000000</td>\n",
              "      <td>-0.996666</td>\n",
              "      <td>-0.907966</td>\n",
              "    </tr>\n",
              "    <tr>\n",
              "      <th>5%</th>\n",
              "      <td>0.000227</td>\n",
              "      <td>-0.252477</td>\n",
              "      <td>-0.309536</td>\n",
              "    </tr>\n",
              "    <tr>\n",
              "      <th>10%</th>\n",
              "      <td>0.001204</td>\n",
              "      <td>-0.071796</td>\n",
              "      <td>-0.164192</td>\n",
              "    </tr>\n",
              "    <tr>\n",
              "      <th>25%</th>\n",
              "      <td>0.008731</td>\n",
              "      <td>0.018290</td>\n",
              "      <td>-0.032744</td>\n",
              "    </tr>\n",
              "    <tr>\n",
              "      <th>50%</th>\n",
              "      <td>0.028159</td>\n",
              "      <td>0.059394</td>\n",
              "      <td>0.053045</td>\n",
              "    </tr>\n",
              "    <tr>\n",
              "      <th>75%</th>\n",
              "      <td>0.060111</td>\n",
              "      <td>0.110241</td>\n",
              "      <td>0.146442</td>\n",
              "    </tr>\n",
              "    <tr>\n",
              "      <th>90%</th>\n",
              "      <td>0.105928</td>\n",
              "      <td>0.175091</td>\n",
              "      <td>0.287867</td>\n",
              "    </tr>\n",
              "    <tr>\n",
              "      <th>95%</th>\n",
              "      <td>0.154714</td>\n",
              "      <td>0.225680</td>\n",
              "      <td>0.425994</td>\n",
              "    </tr>\n",
              "    <tr>\n",
              "      <th>99%</th>\n",
              "      <td>0.342797</td>\n",
              "      <td>0.371872</td>\n",
              "      <td>1.043167</td>\n",
              "    </tr>\n",
              "    <tr>\n",
              "      <th>max</th>\n",
              "      <td>2124.600000</td>\n",
              "      <td>2.040343</td>\n",
              "      <td>9.363233</td>\n",
              "    </tr>\n",
              "  </tbody>\n",
              "</table>\n",
              "</div>"
            ],
            "text/plain": [
              "             r_capx       r_oiadp        g_revt\n",
              "count  47197.000000  47147.000000  46491.000000\n",
              "mean       0.097546     -0.096659      0.057960\n",
              "std        9.784711      9.254864      0.361383\n",
              "min        0.000000  -1618.000000     -6.350764\n",
              "1%         0.000000     -0.996666     -0.907966\n",
              "5%         0.000227     -0.252477     -0.309536\n",
              "10%        0.001204     -0.071796     -0.164192\n",
              "25%        0.008731      0.018290     -0.032744\n",
              "50%        0.028159      0.059394      0.053045\n",
              "75%        0.060111      0.110241      0.146442\n",
              "90%        0.105928      0.175091      0.287867\n",
              "95%        0.154714      0.225680      0.425994\n",
              "99%        0.342797      0.371872      1.043167\n",
              "max     2124.600000      2.040343      9.363233"
            ]
          },
          "metadata": {
            "tags": []
          },
          "execution_count": 128
        }
      ]
    },
    {
      "cell_type": "code",
      "metadata": {
        "id": "hqaz81Gl7pnb",
        "colab_type": "code",
        "colab": {}
      },
      "source": [
        "def winsor(series):\n",
        "    col=series.copy(deep=True)\n",
        "    \n",
        "    q99 = col.quantile(.99)\n",
        "    q01 = col.quantile(.01)\n",
        "\n",
        "    col.loc[col > q99] = q99\n",
        "    col.loc[col < q01] = q01\n",
        "    \n",
        "    return col"
      ],
      "execution_count": 0,
      "outputs": []
    },
    {
      "cell_type": "code",
      "metadata": {
        "id": "DewcfYB67pnd",
        "colab_type": "code",
        "colab": {}
      },
      "source": [
        "newcols = [i+'_w' for i in targets] # add \"_w\" suffixes for each string in targets (python iterator)\n",
        "\n",
        "data[newcols] = data[targets].apply(winsor)"
      ],
      "execution_count": 0,
      "outputs": []
    },
    {
      "cell_type": "markdown",
      "metadata": {
        "id": "wWoz7cRi7png",
        "colab_type": "text"
      },
      "source": [
        "# create lead variable for sales growth "
      ]
    },
    {
      "cell_type": "code",
      "metadata": {
        "id": "KyiKN0AW7png",
        "colab_type": "code",
        "colab": {}
      },
      "source": [
        "data['r_oiadp_lead1'] = data.groupby('gvkey')['r_oiadp_w'].shift(-1)"
      ],
      "execution_count": 0,
      "outputs": []
    },
    {
      "cell_type": "markdown",
      "metadata": {
        "id": "RAG1SHmA7pnj",
        "colab_type": "text"
      },
      "source": [
        "# pooled ols"
      ]
    },
    {
      "cell_type": "code",
      "metadata": {
        "id": "FBfjVtb27pnk",
        "colab_type": "code",
        "colab": {}
      },
      "source": [
        "exog_vars = ['leverage','g_revt_w','r_capx_w']"
      ],
      "execution_count": 0,
      "outputs": []
    },
    {
      "cell_type": "markdown",
      "metadata": {
        "id": "-KFO4HuP7pnm",
        "colab_type": "text"
      },
      "source": [
        "Sector is the first two digits of SIC code"
      ]
    },
    {
      "cell_type": "code",
      "metadata": {
        "id": "S3iBpshE7pnp",
        "colab_type": "code",
        "colab": {}
      },
      "source": [
        "# pooledOLS and panelOLS functions only accept dataframe with multiindex\n",
        "# entity effect = sic2\n",
        "# time effect = fyear\n",
        "# entity effect must be defined as the outer index\n",
        "\n",
        "data.set_index(['gvkey', 'fyear'], inplace=True)"
      ],
      "execution_count": 0,
      "outputs": []
    },
    {
      "cell_type": "code",
      "metadata": {
        "id": "EIak_5gJ7pnr",
        "colab_type": "code",
        "outputId": "9244752b-8c30-43bb-869c-6d254112ce8d",
        "colab": {
          "base_uri": "https://localhost:8080/",
          "height": 598
        }
      },
      "source": [
        "exog = sm.add_constant(data[exog_vars])\n",
        "\n",
        "mod = PooledOLS(data['r_oiadp_lead1'], exog)\n",
        "\n",
        "pooled_res = mod.fit()\n",
        "\n",
        "print(pooled_res)"
      ],
      "execution_count": 0,
      "outputs": [
        {
          "output_type": "stream",
          "text": [
            "                          PooledOLS Estimation Summary                          \n",
            "================================================================================\n",
            "Dep. Variable:          r_oiadp_lead1   R-squared:                        0.0183\n",
            "Estimator:                  PooledOLS   R-squared (Between):              0.0140\n",
            "No. Observations:               41049   R-squared (Within):               0.0268\n",
            "Date:                Thu, Jan 30 2020   R-squared (Overall):              0.0183\n",
            "Time:                        20:40:29   Log-likelihood                 1.499e+04\n",
            "Cov. Estimator:            Unadjusted                                           \n",
            "                                        F-statistic:                      254.59\n",
            "Entities:                        2509   P-value                           0.0000\n",
            "Avg Obs:                       16.361   Distribution:                 F(3,41045)\n",
            "Min Obs:                       1.0000                                           \n",
            "Max Obs:                       17.000   F-statistic (robust):             254.59\n",
            "                                        P-value                           0.0000\n",
            "Time periods:                      17   Distribution:                 F(3,41045)\n",
            "Avg Obs:                       2414.6                                           \n",
            "Min Obs:                       2224.0                                           \n",
            "Max Obs:                       2449.0                                           \n",
            "                                                                                \n",
            "                             Parameter Estimates                              \n",
            "==============================================================================\n",
            "            Parameter  Std. Err.     T-stat    P-value    Lower CI    Upper CI\n",
            "------------------------------------------------------------------------------\n",
            "const          0.0347     0.0014     24.697     0.0000      0.0320      0.0375\n",
            "leverage      -0.0146     0.0036    -4.0764     0.0000     -0.0216     -0.0076\n",
            "g_revt_w       0.0704     0.0033     21.231     0.0000      0.0639      0.0769\n",
            "r_capx_w       0.1859     0.0145     12.833     0.0000      0.1575      0.2143\n",
            "==============================================================================\n"
          ],
          "name": "stdout"
        },
        {
          "output_type": "stream",
          "text": [
            "/usr/local/lib/python3.6/dist-packages/numpy/core/fromnumeric.py:2495: FutureWarning: Method .ptp is deprecated and will be removed in a future version. Use numpy.ptp instead.\n",
            "  return ptp(axis=axis, out=out, **kwargs)\n",
            "/usr/local/lib/python3.6/dist-packages/linearmodels/utility.py:549: MissingValueWarning: \n",
            "Inputs contain missing values. Dropping rows with missing observations.\n",
            "  warnings.warn(missing_value_warning_msg, MissingValueWarning)\n"
          ],
          "name": "stderr"
        }
      ]
    },
    {
      "cell_type": "markdown",
      "metadata": {
        "id": "EoKH8Daj7pnt",
        "colab_type": "text"
      },
      "source": [
        "# with year fixed effects"
      ]
    },
    {
      "cell_type": "code",
      "metadata": {
        "scrolled": false,
        "id": "HhSmnR2Q7pnu",
        "colab_type": "code",
        "outputId": "65dec613-b37f-4ad0-af1e-2b80f6ef9764",
        "colab": {
          "base_uri": "https://localhost:8080/",
          "height": 646
        }
      },
      "source": [
        "mod = fe(data['r_oiadp_lead1'], exog, time_effects=True)\n",
        "\n",
        "fe_yr = mod.fit()\n",
        "\n",
        "print(fe_yr)"
      ],
      "execution_count": 0,
      "outputs": [
        {
          "output_type": "stream",
          "text": [
            "/usr/local/lib/python3.6/dist-packages/linearmodels/utility.py:549: MissingValueWarning: \n",
            "Inputs contain missing values. Dropping rows with missing observations.\n",
            "  warnings.warn(missing_value_warning_msg, MissingValueWarning)\n"
          ],
          "name": "stderr"
        },
        {
          "output_type": "stream",
          "text": [
            "                          PanelOLS Estimation Summary                           \n",
            "================================================================================\n",
            "Dep. Variable:          r_oiadp_lead1   R-squared:                        0.0184\n",
            "Estimator:                   PanelOLS   R-squared (Between):              0.0145\n",
            "No. Observations:               41049   R-squared (Within):               0.0258\n",
            "Date:                Thu, Jan 30 2020   R-squared (Overall):              0.0183\n",
            "Time:                        20:40:29   Log-likelihood                 1.504e+04\n",
            "Cov. Estimator:            Unadjusted                                           \n",
            "                                        F-statistic:                      256.64\n",
            "Entities:                        2509   P-value                           0.0000\n",
            "Avg Obs:                       16.361   Distribution:                 F(3,41029)\n",
            "Min Obs:                       1.0000                                           \n",
            "Max Obs:                       17.000   F-statistic (robust):             256.64\n",
            "                                        P-value                           0.0000\n",
            "Time periods:                      17   Distribution:                 F(3,41029)\n",
            "Avg Obs:                       2414.6                                           \n",
            "Min Obs:                       2224.0                                           \n",
            "Max Obs:                       2449.0                                           \n",
            "                                                                                \n",
            "                             Parameter Estimates                              \n",
            "==============================================================================\n",
            "            Parameter  Std. Err.     T-stat    P-value    Lower CI    Upper CI\n",
            "------------------------------------------------------------------------------\n",
            "const          0.0340     0.0014     24.109     0.0000      0.0312      0.0368\n",
            "leverage      -0.0134     0.0036    -3.7254     0.0002     -0.0204     -0.0063\n",
            "g_revt_w       0.0723     0.0034     21.361     0.0000      0.0657      0.0790\n",
            "r_capx_w       0.1931     0.0145     13.287     0.0000      0.1646      0.2215\n",
            "==============================================================================\n",
            "\n",
            "F-test for Poolability: 5.7370\n",
            "P-value: 0.0000\n",
            "Distribution: F(16,41029)\n",
            "\n",
            "Included effects: Time\n"
          ],
          "name": "stdout"
        }
      ]
    },
    {
      "cell_type": "markdown",
      "metadata": {
        "id": "UmOTVAY07pn2",
        "colab_type": "text"
      },
      "source": [
        "# with Firm Fixed Effects"
      ]
    },
    {
      "cell_type": "code",
      "metadata": {
        "id": "x7B7t3PG7pn3",
        "colab_type": "code",
        "colab": {}
      },
      "source": [
        "#data.reset_index(inplace=True)\n",
        "\n",
        "#data.set_index(['gvkey', 'fyear'], inplace=True)"
      ],
      "execution_count": 0,
      "outputs": []
    },
    {
      "cell_type": "code",
      "metadata": {
        "id": "m1pMxj6K7pn5",
        "colab_type": "code",
        "outputId": "41dd7421-ef20-4e77-bbd3-ddb86c6d38eb",
        "colab": {
          "base_uri": "https://localhost:8080/",
          "height": 646
        }
      },
      "source": [
        "### practice\n",
        "\n",
        "mod = fe(data['r_oiadp_lead1'], exog, entity_effects=True)\n",
        "\n",
        "fe_firm = mod.fit()\n",
        "\n",
        "print(fe_firm)\n",
        "\n"
      ],
      "execution_count": 0,
      "outputs": [
        {
          "output_type": "stream",
          "text": [
            "                          PanelOLS Estimation Summary                           \n",
            "================================================================================\n",
            "Dep. Variable:          r_oiadp_lead1   R-squared:                        0.0378\n",
            "Estimator:                   PanelOLS   R-squared (Between):             -0.0066\n",
            "No. Observations:               41049   R-squared (Within):               0.0378\n",
            "Date:                Thu, Jan 30 2020   R-squared (Overall):              0.0081\n",
            "Time:                        20:40:29   Log-likelihood                 3.985e+04\n",
            "Cov. Estimator:            Unadjusted                                           \n",
            "                                        F-statistic:                      504.12\n",
            "Entities:                        2509   P-value                           0.0000\n",
            "Avg Obs:                       16.361   Distribution:                 F(3,38537)\n",
            "Min Obs:                       1.0000                                           \n",
            "Max Obs:                       17.000   F-statistic (robust):             504.12\n",
            "                                        P-value                           0.0000\n",
            "Time periods:                      17   Distribution:                 F(3,38537)\n",
            "Avg Obs:                       2414.6                                           \n",
            "Min Obs:                       2224.0                                           \n",
            "Max Obs:                       2449.0                                           \n",
            "                                                                                \n",
            "                             Parameter Estimates                              \n",
            "==============================================================================\n",
            "            Parameter  Std. Err.     T-stat    P-value    Lower CI    Upper CI\n",
            "------------------------------------------------------------------------------\n",
            "const          0.0580     0.0012     46.729     0.0000      0.0556      0.0605\n",
            "leverage      -0.0779     0.0038    -20.753     0.0000     -0.0852     -0.0705\n",
            "g_revt_w       0.0577     0.0020     29.265     0.0000      0.0539      0.0616\n",
            "r_capx_w       0.0312     0.0134     2.3340     0.0196      0.0050      0.0574\n",
            "==============================================================================\n",
            "\n",
            "F-test for Poolability: 36.220\n",
            "P-value: 0.0000\n",
            "Distribution: F(2508,38537)\n",
            "\n",
            "Included effects: Entity\n"
          ],
          "name": "stdout"
        },
        {
          "output_type": "stream",
          "text": [
            "/usr/local/lib/python3.6/dist-packages/linearmodels/utility.py:549: MissingValueWarning: \n",
            "Inputs contain missing values. Dropping rows with missing observations.\n",
            "  warnings.warn(missing_value_warning_msg, MissingValueWarning)\n"
          ],
          "name": "stderr"
        }
      ]
    },
    {
      "cell_type": "markdown",
      "metadata": {
        "id": "ldPhsTou7pn8",
        "colab_type": "text"
      },
      "source": [
        "# with Firm and Year Fixed Effects"
      ]
    },
    {
      "cell_type": "code",
      "metadata": {
        "id": "9v41EKr07pn9",
        "colab_type": "code",
        "outputId": "171c898d-32c1-42aa-b6e0-82d4e4517716",
        "colab": {
          "base_uri": "https://localhost:8080/",
          "height": 646
        }
      },
      "source": [
        "### practice\n",
        "\n",
        "\n",
        "mod = fe(data['r_oiadp_lead1'], exog, entity_effects=True, time_effects=True)\n",
        "\n",
        "fe_yr_firm = mod.fit()\n",
        "\n",
        "print(fe_yr_firm)\n"
      ],
      "execution_count": 0,
      "outputs": [
        {
          "output_type": "stream",
          "text": [
            "/usr/local/lib/python3.6/dist-packages/linearmodels/utility.py:549: MissingValueWarning: \n",
            "Inputs contain missing values. Dropping rows with missing observations.\n",
            "  warnings.warn(missing_value_warning_msg, MissingValueWarning)\n"
          ],
          "name": "stderr"
        },
        {
          "output_type": "stream",
          "text": [
            "                          PanelOLS Estimation Summary                           \n",
            "================================================================================\n",
            "Dep. Variable:          r_oiadp_lead1   R-squared:                        0.0367\n",
            "Estimator:                   PanelOLS   R-squared (Between):             -0.0054\n",
            "No. Observations:               41049   R-squared (Within):               0.0377\n",
            "Date:                Thu, Jan 30 2020   R-squared (Overall):              0.0090\n",
            "Time:                        20:40:30   Log-likelihood                 3.997e+04\n",
            "Cov. Estimator:            Unadjusted                                           \n",
            "                                        F-statistic:                      489.09\n",
            "Entities:                        2509   P-value                           0.0000\n",
            "Avg Obs:                       16.361   Distribution:                 F(3,38521)\n",
            "Min Obs:                       1.0000                                           \n",
            "Max Obs:                       17.000   F-statistic (robust):             489.09\n",
            "                                        P-value                           0.0000\n",
            "Time periods:                      17   Distribution:                 F(3,38521)\n",
            "Avg Obs:                       2414.6                                           \n",
            "Min Obs:                       2224.0                                           \n",
            "Max Obs:                       2449.0                                           \n",
            "                                                                                \n",
            "                             Parameter Estimates                              \n",
            "==============================================================================\n",
            "            Parameter  Std. Err.     T-stat    P-value    Lower CI    Upper CI\n",
            "------------------------------------------------------------------------------\n",
            "const          0.0570     0.0013     45.215     0.0000      0.0545      0.0595\n",
            "leverage      -0.0764     0.0038    -19.957     0.0000     -0.0839     -0.0689\n",
            "g_revt_w       0.0593     0.0020     29.494     0.0000      0.0554      0.0632\n",
            "r_capx_w       0.0442     0.0135     3.2784     0.0010      0.0178      0.0706\n",
            "==============================================================================\n",
            "\n",
            "F-test for Poolability: 36.274\n",
            "P-value: 0.0000\n",
            "Distribution: F(2524,38521)\n",
            "\n",
            "Included effects: Entity, Time\n"
          ],
          "name": "stdout"
        }
      ]
    },
    {
      "cell_type": "markdown",
      "metadata": {
        "id": "rx3nq_Wl7pn_",
        "colab_type": "text"
      },
      "source": [
        "# First difference"
      ]
    },
    {
      "cell_type": "code",
      "metadata": {
        "id": "NgsEpPTU7poA",
        "colab_type": "code",
        "outputId": "5b61af20-f47d-4f19-b93b-16fb9fa6549a",
        "colab": {
          "base_uri": "https://localhost:8080/",
          "height": 598
        }
      },
      "source": [
        "### practice\n",
        "\n",
        "# hint: use diff()\n",
        "\n",
        "mod_firstdiff = data.groupby('gvkey')[['r_oiadp_lead1'] + exog_vars ].diff()\n",
        "\n",
        "exog = sm.add_constant(mod_firstdiff[exog_vars])\n",
        "\n",
        "mod = PooledOLS(mod_firstdiff['r_oiadp_lead1'], exog)\n",
        "# If you're in Section 0501: I made a mistake here and used data instead of mod_firstdiff, the correct coefficient should be negative for capx in FD\n",
        "\n",
        "firstdiff = mod.fit()\n",
        "\n",
        "print(firstdiff)\n",
        "\n"
      ],
      "execution_count": 0,
      "outputs": [
        {
          "output_type": "stream",
          "text": [
            "                          PooledOLS Estimation Summary                          \n",
            "================================================================================\n",
            "Dep. Variable:          r_oiadp_lead1   R-squared:                        0.0019\n",
            "Estimator:                  PooledOLS   R-squared (Between):             -0.0162\n",
            "No. Observations:               38433   R-squared (Within):               0.0021\n",
            "Date:                Thu, Jan 30 2020   R-squared (Overall):              0.0019\n",
            "Time:                        20:40:32   Log-likelihood                 3.835e+04\n",
            "Cov. Estimator:            Unadjusted                                           \n",
            "                                        F-statistic:                      24.480\n",
            "Entities:                        2504   P-value                           0.0000\n",
            "Avg Obs:                       15.349   Distribution:                 F(3,38429)\n",
            "Min Obs:                       1.0000                                           \n",
            "Max Obs:                       16.000   F-statistic (robust):             24.480\n",
            "                                        P-value                           0.0000\n",
            "Time periods:                      16   Distribution:                 F(3,38429)\n",
            "Avg Obs:                       2402.1                                           \n",
            "Min Obs:                       2219.0                                           \n",
            "Max Obs:                       2438.0                                           \n",
            "                                                                                \n",
            "                             Parameter Estimates                              \n",
            "==============================================================================\n",
            "            Parameter  Std. Err.     T-stat    P-value    Lower CI    Upper CI\n",
            "------------------------------------------------------------------------------\n",
            "const       7.202e-06     0.0005     0.0158     0.9874     -0.0009      0.0009\n",
            "leverage      -0.0056     0.0044    -1.2798     0.2006     -0.0141      0.0030\n",
            "g_revt_w      -0.0071     0.0014    -5.0430     0.0000     -0.0098     -0.0043\n",
            "r_capx_w      -0.0699     0.0117    -5.9747     0.0000     -0.0929     -0.0470\n",
            "==============================================================================\n"
          ],
          "name": "stdout"
        },
        {
          "output_type": "stream",
          "text": [
            "/usr/local/lib/python3.6/dist-packages/numpy/core/fromnumeric.py:2495: FutureWarning: Method .ptp is deprecated and will be removed in a future version. Use numpy.ptp instead.\n",
            "  return ptp(axis=axis, out=out, **kwargs)\n",
            "/usr/local/lib/python3.6/dist-packages/linearmodels/utility.py:549: MissingValueWarning: \n",
            "Inputs contain missing values. Dropping rows with missing observations.\n",
            "  warnings.warn(missing_value_warning_msg, MissingValueWarning)\n"
          ],
          "name": "stderr"
        }
      ]
    },
    {
      "cell_type": "markdown",
      "metadata": {
        "id": "IxyfHIlz7poC",
        "colab_type": "text"
      },
      "source": [
        "# Plot the coefficients of OLS, FE, and FD in a bar chart"
      ]
    },
    {
      "cell_type": "code",
      "metadata": {
        "id": "6W76g--f7poD",
        "colab_type": "code",
        "colab": {}
      },
      "source": [
        "# define dataframe res to save parameters of each regression\n",
        "\n",
        "res = pooled_res.params # res is pd.Series here\n",
        "\n",
        "res.name = 'OLS'\n",
        "\n",
        "res = res.to_frame() # transfer res to pd.DataFrame\n",
        "\n",
        "res['FE_year'] = fe_yr.params\n",
        "\n",
        "res['FE_firm'] = fe_firm.params\n",
        "\n",
        "res['FE_firm_year'] = fe_yr_firm.params\n",
        "\n",
        "res['FD'] = firstdiff.params"
      ],
      "execution_count": 0,
      "outputs": []
    },
    {
      "cell_type": "code",
      "metadata": {
        "id": "nxSTPj3_2CCL",
        "colab_type": "code",
        "outputId": "e3442519-8409-448d-f62a-76a9a20b78b1",
        "colab": {
          "base_uri": "https://localhost:8080/",
          "height": 173
        }
      },
      "source": [
        "res"
      ],
      "execution_count": 0,
      "outputs": [
        {
          "output_type": "execute_result",
          "data": {
            "text/html": [
              "<div>\n",
              "<style scoped>\n",
              "    .dataframe tbody tr th:only-of-type {\n",
              "        vertical-align: middle;\n",
              "    }\n",
              "\n",
              "    .dataframe tbody tr th {\n",
              "        vertical-align: top;\n",
              "    }\n",
              "\n",
              "    .dataframe thead th {\n",
              "        text-align: right;\n",
              "    }\n",
              "</style>\n",
              "<table border=\"1\" class=\"dataframe\">\n",
              "  <thead>\n",
              "    <tr style=\"text-align: right;\">\n",
              "      <th></th>\n",
              "      <th>OLS</th>\n",
              "      <th>FE_year</th>\n",
              "      <th>FE_firm</th>\n",
              "      <th>FE_firm_year</th>\n",
              "      <th>FD</th>\n",
              "    </tr>\n",
              "  </thead>\n",
              "  <tbody>\n",
              "    <tr>\n",
              "      <th>const</th>\n",
              "      <td>0.034728</td>\n",
              "      <td>0.034000</td>\n",
              "      <td>0.058037</td>\n",
              "      <td>0.056998</td>\n",
              "      <td>0.000007</td>\n",
              "    </tr>\n",
              "    <tr>\n",
              "      <th>leverage</th>\n",
              "      <td>-0.014587</td>\n",
              "      <td>-0.013398</td>\n",
              "      <td>-0.077880</td>\n",
              "      <td>-0.076416</td>\n",
              "      <td>-0.005572</td>\n",
              "    </tr>\n",
              "    <tr>\n",
              "      <th>g_revt_w</th>\n",
              "      <td>0.070401</td>\n",
              "      <td>0.072315</td>\n",
              "      <td>0.057733</td>\n",
              "      <td>0.059296</td>\n",
              "      <td>-0.007073</td>\n",
              "    </tr>\n",
              "    <tr>\n",
              "      <th>r_capx_w</th>\n",
              "      <td>0.185916</td>\n",
              "      <td>0.193065</td>\n",
              "      <td>0.031177</td>\n",
              "      <td>0.044159</td>\n",
              "      <td>-0.069939</td>\n",
              "    </tr>\n",
              "  </tbody>\n",
              "</table>\n",
              "</div>"
            ],
            "text/plain": [
              "               OLS   FE_year   FE_firm  FE_firm_year        FD\n",
              "const     0.034728  0.034000  0.058037      0.056998  0.000007\n",
              "leverage -0.014587 -0.013398 -0.077880     -0.076416 -0.005572\n",
              "g_revt_w  0.070401  0.072315  0.057733      0.059296 -0.007073\n",
              "r_capx_w  0.185916  0.193065  0.031177      0.044159 -0.069939"
            ]
          },
          "metadata": {
            "tags": []
          },
          "execution_count": 141
        }
      ]
    },
    {
      "cell_type": "code",
      "metadata": {
        "id": "BsqVwpyu2Cnd",
        "colab_type": "code",
        "outputId": "f1b493ca-b16e-40c2-c3b1-2d7db88ba59d",
        "colab": {
          "base_uri": "https://localhost:8080/",
          "height": 367
        }
      },
      "source": [
        "# restructure the dataframe to make columns indices and make indices columns\n",
        "res.unstack().unstack().plot.bar()\n",
        "\n",
        "# plot by pandas plot function \n",
        "# -- functions of matplotlib is also applicable here because pandas plot is built up on matplotlib\n",
        "plt.legend(loc='center left', bbox_to_anchor=(1, 0.5))\n",
        "\n",
        "plt.title('plot of coefficients of OLS, FE, and FD')\n",
        "\n",
        "plt.ylabel('coefficients')\n",
        "\n",
        "plt.xlabel('models')"
      ],
      "execution_count": 0,
      "outputs": [
        {
          "output_type": "execute_result",
          "data": {
            "text/plain": [
              "Text(0.5, 0, 'models')"
            ]
          },
          "metadata": {
            "tags": []
          },
          "execution_count": 142
        },
        {
          "output_type": "display_data",
          "data": {
            "image/png": "[encoded data removed]",
            "text/plain": [
              "<Figure size 432x288 with 1 Axes>"
            ]
          },
          "metadata": {
            "tags": []
          }
        }
      ]
    },
    {
      "cell_type": "markdown",
      "metadata": {
        "id": "EafMXQPeKRie",
        "colab_type": "text"
      },
      "source": [
        "First difference and fixed effects are very different. Maybe one of the models is wrong. For example, if investment takes many years to take effect, then first difference model is misspecified by taking difference between adjacent two years"
      ]
    },
    {
      "cell_type": "markdown",
      "metadata": {
        "id": "7gp6kc-I7poK",
        "colab_type": "text"
      },
      "source": [
        "# FD and FE are equivalent when two periods"
      ]
    },
    {
      "cell_type": "code",
      "metadata": {
        "id": "Mv_WzmLTLaoJ",
        "colab_type": "code",
        "outputId": "fc9d4fe8-7c28-4543-836b-2e56857b7faa",
        "colab": {
          "base_uri": "https://localhost:8080/",
          "height": 340
        }
      },
      "source": [
        "data.head()"
      ],
      "execution_count": 0,
      "outputs": [
        {
          "output_type": "execute_result",
          "data": {
            "text/html": [
              "<div>\n",
              "<style scoped>\n",
              "    .dataframe tbody tr th:only-of-type {\n",
              "        vertical-align: middle;\n",
              "    }\n",
              "\n",
              "    .dataframe tbody tr th {\n",
              "        vertical-align: top;\n",
              "    }\n",
              "\n",
              "    .dataframe thead th {\n",
              "        text-align: right;\n",
              "    }\n",
              "</style>\n",
              "<table border=\"1\" class=\"dataframe\">\n",
              "  <thead>\n",
              "    <tr style=\"text-align: right;\">\n",
              "      <th></th>\n",
              "      <th></th>\n",
              "      <th>datadate</th>\n",
              "      <th>at</th>\n",
              "      <th>capx</th>\n",
              "      <th>che</th>\n",
              "      <th>csho</th>\n",
              "      <th>dlc</th>\n",
              "      <th>dltt</th>\n",
              "      <th>dvt</th>\n",
              "      <th>oiadp</th>\n",
              "      <th>pstk</th>\n",
              "      <th>revt</th>\n",
              "      <th>prcc_f</th>\n",
              "      <th>sic</th>\n",
              "      <th>year</th>\n",
              "      <th>debt</th>\n",
              "      <th>equity</th>\n",
              "      <th>firm_value</th>\n",
              "      <th>leverage</th>\n",
              "      <th>lag_at</th>\n",
              "      <th>r_capx</th>\n",
              "      <th>at_avg</th>\n",
              "      <th>r_oiadp</th>\n",
              "      <th>lag_revt</th>\n",
              "      <th>g_revt</th>\n",
              "      <th>r_capx_w</th>\n",
              "      <th>r_oiadp_w</th>\n",
              "      <th>g_revt_w</th>\n",
              "      <th>r_oiadp_lead1</th>\n",
              "    </tr>\n",
              "    <tr>\n",
              "      <th>gvkey</th>\n",
              "      <th>fyear</th>\n",
              "      <th></th>\n",
              "      <th></th>\n",
              "      <th></th>\n",
              "      <th></th>\n",
              "      <th></th>\n",
              "      <th></th>\n",
              "      <th></th>\n",
              "      <th></th>\n",
              "      <th></th>\n",
              "      <th></th>\n",
              "      <th></th>\n",
              "      <th></th>\n",
              "      <th></th>\n",
              "      <th></th>\n",
              "      <th></th>\n",
              "      <th></th>\n",
              "      <th></th>\n",
              "      <th></th>\n",
              "      <th></th>\n",
              "      <th></th>\n",
              "      <th></th>\n",
              "      <th></th>\n",
              "      <th></th>\n",
              "      <th></th>\n",
              "      <th></th>\n",
              "      <th></th>\n",
              "      <th></th>\n",
              "      <th></th>\n",
              "    </tr>\n",
              "  </thead>\n",
              "  <tbody>\n",
              "    <tr>\n",
              "      <th rowspan=\"5\" valign=\"top\">1004</th>\n",
              "      <th>2000</th>\n",
              "      <td>2001-05-31</td>\n",
              "      <td>701.854</td>\n",
              "      <td>13.134</td>\n",
              "      <td>13.809</td>\n",
              "      <td>26.937</td>\n",
              "      <td>13.652</td>\n",
              "      <td>179.987</td>\n",
              "      <td>9.157</td>\n",
              "      <td>45.790</td>\n",
              "      <td>0.0</td>\n",
              "      <td>874.255</td>\n",
              "      <td>14.00</td>\n",
              "      <td>5080</td>\n",
              "      <td>2000</td>\n",
              "      <td>193.639</td>\n",
              "      <td>377.11800</td>\n",
              "      <td>570.75700</td>\n",
              "      <td>0.339267</td>\n",
              "      <td>NaN</td>\n",
              "      <td>NaN</td>\n",
              "      <td>NaN</td>\n",
              "      <td>NaN</td>\n",
              "      <td>NaN</td>\n",
              "      <td>NaN</td>\n",
              "      <td>NaN</td>\n",
              "      <td>NaN</td>\n",
              "      <td>NaN</td>\n",
              "      <td>0.006673</td>\n",
              "    </tr>\n",
              "    <tr>\n",
              "      <th>2001</th>\n",
              "      <td>2002-05-31</td>\n",
              "      <td>710.199</td>\n",
              "      <td>12.112</td>\n",
              "      <td>34.522</td>\n",
              "      <td>31.870</td>\n",
              "      <td>42.525</td>\n",
              "      <td>217.699</td>\n",
              "      <td>4.430</td>\n",
              "      <td>4.711</td>\n",
              "      <td>0.0</td>\n",
              "      <td>638.721</td>\n",
              "      <td>11.44</td>\n",
              "      <td>5080</td>\n",
              "      <td>2001</td>\n",
              "      <td>260.224</td>\n",
              "      <td>364.59280</td>\n",
              "      <td>624.81680</td>\n",
              "      <td>0.416480</td>\n",
              "      <td>701.854</td>\n",
              "      <td>0.017257</td>\n",
              "      <td>706.0265</td>\n",
              "      <td>0.006673</td>\n",
              "      <td>874.255</td>\n",
              "      <td>-0.313904</td>\n",
              "      <td>0.017257</td>\n",
              "      <td>0.006673</td>\n",
              "      <td>-0.313904</td>\n",
              "      <td>0.005116</td>\n",
              "    </tr>\n",
              "    <tr>\n",
              "      <th>2002</th>\n",
              "      <td>2003-05-31</td>\n",
              "      <td>686.621</td>\n",
              "      <td>9.930</td>\n",
              "      <td>29.154</td>\n",
              "      <td>31.851</td>\n",
              "      <td>92.256</td>\n",
              "      <td>164.658</td>\n",
              "      <td>0.797</td>\n",
              "      <td>3.573</td>\n",
              "      <td>0.0</td>\n",
              "      <td>606.337</td>\n",
              "      <td>4.50</td>\n",
              "      <td>5080</td>\n",
              "      <td>2002</td>\n",
              "      <td>256.914</td>\n",
              "      <td>143.32950</td>\n",
              "      <td>400.24350</td>\n",
              "      <td>0.641894</td>\n",
              "      <td>710.199</td>\n",
              "      <td>0.013982</td>\n",
              "      <td>698.4100</td>\n",
              "      <td>0.005116</td>\n",
              "      <td>638.721</td>\n",
              "      <td>-0.052032</td>\n",
              "      <td>0.013982</td>\n",
              "      <td>0.005116</td>\n",
              "      <td>-0.052032</td>\n",
              "      <td>0.029817</td>\n",
              "    </tr>\n",
              "    <tr>\n",
              "      <th>2003</th>\n",
              "      <td>2004-05-31</td>\n",
              "      <td>709.292</td>\n",
              "      <td>10.286</td>\n",
              "      <td>41.010</td>\n",
              "      <td>32.245</td>\n",
              "      <td>3.392</td>\n",
              "      <td>248.666</td>\n",
              "      <td>0.000</td>\n",
              "      <td>20.811</td>\n",
              "      <td>0.0</td>\n",
              "      <td>651.958</td>\n",
              "      <td>9.58</td>\n",
              "      <td>5080</td>\n",
              "      <td>2003</td>\n",
              "      <td>252.058</td>\n",
              "      <td>308.90710</td>\n",
              "      <td>560.96510</td>\n",
              "      <td>0.449329</td>\n",
              "      <td>686.621</td>\n",
              "      <td>0.014981</td>\n",
              "      <td>697.9565</td>\n",
              "      <td>0.029817</td>\n",
              "      <td>606.337</td>\n",
              "      <td>0.072544</td>\n",
              "      <td>0.014981</td>\n",
              "      <td>0.029817</td>\n",
              "      <td>0.072544</td>\n",
              "      <td>0.046928</td>\n",
              "    </tr>\n",
              "    <tr>\n",
              "      <th>2004</th>\n",
              "      <td>2005-05-31</td>\n",
              "      <td>732.230</td>\n",
              "      <td>13.033</td>\n",
              "      <td>50.338</td>\n",
              "      <td>32.586</td>\n",
              "      <td>3.745</td>\n",
              "      <td>227.159</td>\n",
              "      <td>0.000</td>\n",
              "      <td>33.824</td>\n",
              "      <td>0.0</td>\n",
              "      <td>747.848</td>\n",
              "      <td>16.04</td>\n",
              "      <td>5080</td>\n",
              "      <td>2004</td>\n",
              "      <td>230.904</td>\n",
              "      <td>522.67944</td>\n",
              "      <td>753.58344</td>\n",
              "      <td>0.306408</td>\n",
              "      <td>709.292</td>\n",
              "      <td>0.018375</td>\n",
              "      <td>720.7610</td>\n",
              "      <td>0.046928</td>\n",
              "      <td>651.958</td>\n",
              "      <td>0.137220</td>\n",
              "      <td>0.018375</td>\n",
              "      <td>0.046928</td>\n",
              "      <td>0.137220</td>\n",
              "      <td>0.073236</td>\n",
              "    </tr>\n",
              "  </tbody>\n",
              "</table>\n",
              "</div>"
            ],
            "text/plain": [
              "              datadate       at    capx  ...  r_oiadp_w  g_revt_w  r_oiadp_lead1\n",
              "gvkey fyear                              ...                                    \n",
              "1004  2000  2001-05-31  701.854  13.134  ...        NaN       NaN       0.006673\n",
              "      2001  2002-05-31  710.199  12.112  ...   0.006673 -0.313904       0.005116\n",
              "      2002  2003-05-31  686.621   9.930  ...   0.005116 -0.052032       0.029817\n",
              "      2003  2004-05-31  709.292  10.286  ...   0.029817  0.072544       0.046928\n",
              "      2004  2005-05-31  732.230  13.033  ...   0.046928  0.137220       0.073236\n",
              "\n",
              "[5 rows x 28 columns]"
            ]
          },
          "metadata": {
            "tags": []
          },
          "execution_count": 143
        }
      ]
    },
    {
      "cell_type": "code",
      "metadata": {
        "id": "1h2v1E3U7poK",
        "colab_type": "code",
        "outputId": "82d7c6bd-a4fd-4e62-8ee9-b7283232fce6",
        "colab": {
          "base_uri": "https://localhost:8080/",
          "height": 700
        }
      },
      "source": [
        "# practice\n",
        "# use only year 2016 and 2017\n",
        "\n",
        "data2 = data.loc[(data['year']==2016) | (data['year']==2017) ]\n",
        "\n",
        "# first do fixed effects\n",
        "\n",
        "exog = sm.add_constant(data2[exog_vars])\n",
        "\n",
        "mod = fe(data2['r_oiadp_lead1'], exog, entity_effects=True)\n",
        "\n",
        "fe_firm = mod.fit()\n",
        "\n",
        "print(fe_firm)\n"
      ],
      "execution_count": 0,
      "outputs": [
        {
          "output_type": "stream",
          "text": [
            "                          PanelOLS Estimation Summary                           \n",
            "================================================================================\n",
            "Dep. Variable:          r_oiadp_lead1   R-squared:                        0.0060\n",
            "Estimator:                   PanelOLS   R-squared (Between):             -0.0079\n",
            "No. Observations:                4670   R-squared (Within):               0.0060\n",
            "Date:                Thu, Jan 30 2020   R-squared (Overall):             -0.0061\n",
            "Time:                        21:02:39   Log-likelihood                    8958.7\n",
            "Cov. Estimator:            Unadjusted                                           \n",
            "                                        F-statistic:                      4.4661\n",
            "Entities:                        2451   P-value                           0.0039\n",
            "Avg Obs:                       1.9053   Distribution:                  F(3,2216)\n",
            "Min Obs:                       1.0000                                           \n",
            "Max Obs:                       2.0000   F-statistic (robust):             4.4661\n",
            "                                        P-value                           0.0039\n",
            "Time periods:                       2   Distribution:                  F(3,2216)\n",
            "Avg Obs:                       2335.0                                           \n",
            "Min Obs:                       2224.0                                           \n",
            "Max Obs:                       2446.0                                           \n",
            "                                                                                \n",
            "                             Parameter Estimates                              \n",
            "==============================================================================\n",
            "            Parameter  Std. Err.     T-stat    P-value    Lower CI    Upper CI\n",
            "------------------------------------------------------------------------------\n",
            "const          0.0484     0.0044     10.886     0.0000      0.0396      0.0571\n",
            "leverage      -0.0128     0.0171    -0.7494     0.4537     -0.0464      0.0207\n",
            "g_revt_w      -0.0159     0.0050    -3.1509     0.0016     -0.0257     -0.0060\n",
            "r_capx_w      -0.0510     0.0462    -1.1031     0.2701     -0.1417      0.0397\n",
            "==============================================================================\n",
            "\n",
            "F-test for Poolability: 16.542\n",
            "P-value: 0.0000\n",
            "Distribution: F(2450,2216)\n",
            "\n",
            "Included effects: Entity\n"
          ],
          "name": "stdout"
        },
        {
          "output_type": "stream",
          "text": [
            "/usr/local/lib/python3.6/dist-packages/numpy/core/fromnumeric.py:2495: FutureWarning: Method .ptp is deprecated and will be removed in a future version. Use numpy.ptp instead.\n",
            "  return ptp(axis=axis, out=out, **kwargs)\n",
            "/usr/local/lib/python3.6/dist-packages/linearmodels/utility.py:549: MissingValueWarning: \n",
            "Inputs contain missing values. Dropping rows with missing observations.\n",
            "  warnings.warn(missing_value_warning_msg, MissingValueWarning)\n"
          ],
          "name": "stderr"
        }
      ]
    },
    {
      "cell_type": "code",
      "metadata": {
        "id": "uuA3IuXnJ8hr",
        "colab_type": "code",
        "outputId": "f8722fe1-c7e3-454a-b08e-11fd647fa1ba",
        "colab": {
          "base_uri": "https://localhost:8080/",
          "height": 598
        }
      },
      "source": [
        "# first difference\n",
        "\n",
        "mod_firstdiff = data2.groupby('gvkey')[['r_oiadp_lead1'] + exog_vars ].diff()\n",
        "\n",
        "exog = sm.add_constant(mod_firstdiff[exog_vars])\n",
        "\n",
        "mod = PooledOLS(mod_firstdiff['r_oiadp_lead1'], exog)\n",
        "\n",
        "firstdiff = mod.fit()\n",
        "\n",
        "print(firstdiff)\n",
        "\n"
      ],
      "execution_count": 0,
      "outputs": [
        {
          "output_type": "stream",
          "text": [
            "                          PooledOLS Estimation Summary                          \n",
            "================================================================================\n",
            "Dep. Variable:          r_oiadp_lead1   R-squared:                        0.0061\n",
            "Estimator:                  PooledOLS   R-squared (Between):              0.0061\n",
            "No. Observations:                2219   R-squared (Within):               0.0000\n",
            "Date:                Thu, Jan 30 2020   R-squared (Overall):              0.0061\n",
            "Time:                        21:02:51   Log-likelihood                    2662.3\n",
            "Cov. Estimator:            Unadjusted                                           \n",
            "                                        F-statistic:                      4.5334\n",
            "Entities:                        2219   P-value                           0.0036\n",
            "Avg Obs:                       1.0000   Distribution:                  F(3,2215)\n",
            "Min Obs:                       1.0000                                           \n",
            "Max Obs:                       1.0000   F-statistic (robust):             4.5334\n",
            "                                        P-value                           0.0036\n",
            "Time periods:                       1   Distribution:                  F(3,2215)\n",
            "Avg Obs:                       2219.0                                           \n",
            "Min Obs:                       2219.0                                           \n",
            "Max Obs:                       2219.0                                           \n",
            "                                                                                \n",
            "                             Parameter Estimates                              \n",
            "==============================================================================\n",
            "            Parameter  Std. Err.     T-stat    P-value    Lower CI    Upper CI\n",
            "------------------------------------------------------------------------------\n",
            "const          0.0008     0.0016     0.4777     0.6329     -0.0023      0.0039\n",
            "leverage      -0.0124     0.0171    -0.7256     0.4682     -0.0460      0.0212\n",
            "g_revt_w      -0.0163     0.0051    -3.1835     0.0015     -0.0264     -0.0063\n",
            "r_capx_w      -0.0511     0.0463    -1.1037     0.2698     -0.1418      0.0397\n",
            "==============================================================================\n"
          ],
          "name": "stdout"
        },
        {
          "output_type": "stream",
          "text": [
            "/usr/local/lib/python3.6/dist-packages/numpy/core/fromnumeric.py:2495: FutureWarning: Method .ptp is deprecated and will be removed in a future version. Use numpy.ptp instead.\n",
            "  return ptp(axis=axis, out=out, **kwargs)\n",
            "/usr/local/lib/python3.6/dist-packages/linearmodels/utility.py:549: MissingValueWarning: \n",
            "Inputs contain missing values. Dropping rows with missing observations.\n",
            "  warnings.warn(missing_value_warning_msg, MissingValueWarning)\n"
          ],
          "name": "stderr"
        }
      ]
    },
    {
      "cell_type": "code",
      "metadata": {
        "id": "js-6nwaGKylP",
        "colab_type": "code",
        "outputId": "fa8fbcc5-e3d4-40e7-e730-ff2fef275b4c",
        "colab": {
          "base_uri": "https://localhost:8080/",
          "height": 173
        }
      },
      "source": [
        "res = firstdiff.params \n",
        "\n",
        "res.name = 'First_difference'\n",
        "\n",
        "res = res.to_frame() \n",
        "\n",
        "res['FE_firm'] = fe_firm.params\n",
        "\n",
        "res"
      ],
      "execution_count": 0,
      "outputs": [
        {
          "output_type": "execute_result",
          "data": {
            "text/html": [
              "<div>\n",
              "<style scoped>\n",
              "    .dataframe tbody tr th:only-of-type {\n",
              "        vertical-align: middle;\n",
              "    }\n",
              "\n",
              "    .dataframe tbody tr th {\n",
              "        vertical-align: top;\n",
              "    }\n",
              "\n",
              "    .dataframe thead th {\n",
              "        text-align: right;\n",
              "    }\n",
              "</style>\n",
              "<table border=\"1\" class=\"dataframe\">\n",
              "  <thead>\n",
              "    <tr style=\"text-align: right;\">\n",
              "      <th></th>\n",
              "      <th>First_difference</th>\n",
              "      <th>FE_firm</th>\n",
              "    </tr>\n",
              "  </thead>\n",
              "  <tbody>\n",
              "    <tr>\n",
              "      <th>const</th>\n",
              "      <td>-0.010769</td>\n",
              "      <td>0.052002</td>\n",
              "    </tr>\n",
              "    <tr>\n",
              "      <th>leverage</th>\n",
              "      <td>-0.080175</td>\n",
              "      <td>-0.078433</td>\n",
              "    </tr>\n",
              "    <tr>\n",
              "      <th>g_revt_w</th>\n",
              "      <td>0.035869</td>\n",
              "      <td>0.037922</td>\n",
              "    </tr>\n",
              "    <tr>\n",
              "      <th>r_capx_w</th>\n",
              "      <td>0.321010</td>\n",
              "      <td>0.325201</td>\n",
              "    </tr>\n",
              "  </tbody>\n",
              "</table>\n",
              "</div>"
            ],
            "text/plain": [
              "          First_difference   FE_firm\n",
              "const            -0.010769  0.052002\n",
              "leverage         -0.080175 -0.078433\n",
              "g_revt_w          0.035869  0.037922\n",
              "r_capx_w          0.321010  0.325201"
            ]
          },
          "metadata": {
            "tags": []
          },
          "execution_count": 149
        }
      ]
    },
    {
      "cell_type": "code",
      "metadata": {
        "id": "OpaL0lDSL8Wg",
        "colab_type": "code",
        "colab": {}
      },
      "source": [
        ""
      ],
      "execution_count": 0,
      "outputs": []
    }
  ]
}